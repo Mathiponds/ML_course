{
 "cells": [
  {
   "cell_type": "code",
   "execution_count": null,
   "metadata": {},
   "outputs": [],
   "source": [
    "# Useful starting lines\n",
    "%matplotlib inline\n",
    "import numpy as np\n",
    "import matplotlib.pyplot as plt\n",
    "%load_ext autoreload\n",
    "%autoreload 2\n",
    "\n",
    "# Load test module for sanity check\n",
    "from test_utils import test"
   ]
  },
  {
   "cell_type": "markdown",
   "metadata": {},
   "source": [
    "# Logistic Regression\n",
    "## Classification Using Linear Regression\n",
    "Load your data."
   ]
  },
  {
   "cell_type": "code",
   "execution_count": null,
   "metadata": {},
   "outputs": [],
   "source": [
    "from helpers import sample_data, load_data, standardize\n",
    "\n",
    "# load data.\n",
    "height, weight, gender = load_data()\n",
    "\n",
    "# build sampled x and y.\n",
    "seed = 1\n",
    "y = np.expand_dims(gender, axis=1)\n",
    "X = np.c_[height.reshape(-1), weight.reshape(-1)]\n",
    "y, X = sample_data(y, X, seed, size_samples=200)\n",
    "x, mean_x, std_x = standardize(X)"
   ]
  },
  {
   "cell_type": "markdown",
   "metadata": {},
   "source": [
    "Use `least_squares` to compute w, and visualize the results."
   ]
  },
  {
   "cell_type": "code",
   "execution_count": null,
   "metadata": {
    "scrolled": true
   },
   "outputs": [],
   "source": [
    "from least_squares import least_squares\n",
    "from plots import visualization\n",
    "\n",
    "def least_square_classification_demo(y, x):\n",
    "    \"\"\"Least square demo \n",
    "\n",
    "    Args:\n",
    "        y:  shape=(N, 1)\n",
    "        x:  shape=(N, 2)\n",
    "    \"\"\"\n",
    "    # classify the data by linear regression\n",
    "    tx = np.c_[np.ones((y.shape[0], 1)), x]\n",
    "    # ***************************************************\n",
    "    # INSERT YOUR CODE HERE\n",
    "    # classify the data by linear regression: \n",
    "    # ***************************************************\n",
    "    w,loss = least_squares(y,tx)\n",
    "\n",
    "    # visualize your classification.\n",
    "    visualization(y, x, mean_x, std_x, w, \"classification_by_least_square\")\n",
    "    \n",
    "least_square_classification_demo(y, x)"
   ]
  },
  {
   "cell_type": "markdown",
   "metadata": {},
   "source": [
    "#### The `least_square_classification_demo` is expected to show\n",
    "\n",
    "![1](./classification_by_least_square.png)"
   ]
  },
  {
   "cell_type": "markdown",
   "metadata": {},
   "source": [
    "## Logistic Regression"
   ]
  },
  {
   "cell_type": "markdown",
   "metadata": {},
   "source": [
    "Compute your cost by negative log likelihood."
   ]
  },
  {
   "cell_type": "code",
   "execution_count": null,
   "metadata": {},
   "outputs": [],
   "source": [
    "def sigmoid(t):\n",
    "    \"\"\"apply sigmoid function on t.\n",
    "\n",
    "    Args:\n",
    "        t: scalar or numpy array\n",
    "\n",
    "    Returns:\n",
    "        scalar or numpy array\n",
    "\n",
    "    >>> sigmoid(np.array([0.1]))\n",
    "    array([0.52497919])\n",
    "    >>> sigmoid(np.array([0.1, 0.1]))\n",
    "    array([0.52497919, 0.52497919])\n",
    "    \"\"\"\n",
    "    return 1/(1+np.exp(-t))\n",
    "\n",
    "test(sigmoid)"
   ]
  },
  {
   "cell_type": "code",
   "execution_count": null,
   "metadata": {},
   "outputs": [],
   "source": [
    "def calculate_loss(y, tx, w):\n",
    "    \"\"\"compute the cost by negative log likelihood.\n",
    "\n",
    "    Args:\n",
    "        y:  shape=(N, 1)\n",
    "        tx: shape=(N, D)\n",
    "        w:  shape=(D, 1) \n",
    "\n",
    "    Returns:\n",
    "        a non-negative loss\n",
    "\n",
    "    >>> y = np.c_[[0., 1.]]\n",
    "    >>> tx = np.arange(4).reshape(2, 2)\n",
    "    >>> w = np.c_[[2., 3.]]\n",
    "    >>> round(calculate_loss(y, tx, w), 8)\n",
    "    1.52429481\n",
    "    \"\"\"\n",
    "    assert y.shape[0] == tx.shape[0]\n",
    "    assert tx.shape[1] == w.shape[0]\n",
    "\n",
    "    # ***************************************************\n",
    "    N = y.shape[0]\n",
    "    tx_w = tx.dot(w)\n",
    "    return 1/N * np.sum(np.log(1 + np.exp(tx_w))- y * tx_w)\n",
    "    # ***************************************************\n",
    "\n",
    "test(calculate_loss)"
   ]
  },
  {
   "cell_type": "code",
   "execution_count": 133,
   "metadata": {},
   "outputs": [
    {
     "name": "stdout",
     "output_type": "stream",
     "text": [
      "✅ Your `calculate_gradient` passed 5 tests.\n"
     ]
    }
   ],
   "source": [
    "def calculate_gradient(y, tx, w, stochastic = False):\n",
    "    \"\"\"compute the gradient of loss.\n",
    "    \n",
    "    Args:\n",
    "        y:  shape=(N, 1)\n",
    "        tx: shape=(N, D)\n",
    "        w:  shape=(D, 1)\n",
    "        stochastic : True if we use sgd \n",
    "\n",
    "    Returns:\n",
    "        a vector of shape (D, 1)\n",
    "\n",
    "    >>> np.set_printoptions(8)\n",
    "    >>> y = np.c_[[0., 1.]]\n",
    "    >>> tx = np.arange(6).reshape(2, 3)\n",
    "    >>> w = np.array([[0.1], [0.2], [0.3]])\n",
    "    >>> calculate_gradient(y, tx, w)\n",
    "    array([[-0.10370763],\n",
    "           [ 0.2067104 ],\n",
    "           [ 0.51712843]])\n",
    "    \"\"\"\n",
    "    # ***************************************************\n",
    "    N = y.shape[0]\n",
    "    if stochastic :\n",
    "        idx = random.randint(0, N-1)\n",
    "        return np.array([tx[idx]]).T * (sigmoid(tx[idx].dot(w))-y[idx])\n",
    "    else :\n",
    "        return 1/N * tx.T.dot(sigmoid(tx.dot(w))-y)\n",
    "    # ***************************************************\n",
    "\n",
    "test(calculate_gradient)"
   ]
  },
  {
   "cell_type": "markdown",
   "metadata": {},
   "source": [
    "### Using Gradient Descent\n",
    "Implement your function to calculate the gradient for logistic regression."
   ]
  },
  {
   "cell_type": "code",
   "execution_count": 135,
   "metadata": {},
   "outputs": [
    {
     "name": "stdout",
     "output_type": "stream",
     "text": [
      "✅ Your `learning_by_gradient_descent` passed 7 tests.\n"
     ]
    }
   ],
   "source": [
    "def learning_by_gradient_descent(y, tx, w, gamma, stochastic=False):\n",
    "    \"\"\"\n",
    "    Do one step of gradient descent using logistic regression. Return the loss and the updated w.\n",
    "\n",
    "    Args:\n",
    "        y:  shape=(N, 1)\n",
    "        tx: shape=(N, D)\n",
    "        w:  shape=(D, 1) \n",
    "        gamma: float\n",
    "        stochastic : True if we use sgd\n",
    "\n",
    "\n",
    "    Returns:\n",
    "        loss: scalar number\n",
    "        w: shape=(D, 1) \n",
    "\n",
    "    >>> y = np.c_[[0., 1.]]\n",
    "    >>> tx = np.arange(6).reshape(2, 3)\n",
    "    >>> w = np.array([[0.1], [0.2], [0.3]])\n",
    "    >>> gamma = 0.1\n",
    "    >>> loss, w = learning_by_gradient_descent(y, tx, w, gamma)\n",
    "    >>> round(loss, 8)\n",
    "    0.62137268\n",
    "    >>> w\n",
    "    array([[0.11037076],\n",
    "           [0.17932896],\n",
    "           [0.24828716]])\n",
    "    \"\"\"\n",
    "    # ***************************************************\n",
    "    loss = calculate_loss(y, tx, w)\n",
    "    w = w - gamma * calculate_gradient(y, tx, w, stochastic)\n",
    "    return loss,w\n",
    "    # ***************************************************\n",
    "\n",
    "\n",
    "test(learning_by_gradient_descent)"
   ]
  },
  {
   "cell_type": "markdown",
   "metadata": {},
   "source": [
    "Demo!"
   ]
  },
  {
   "cell_type": "code",
   "execution_count": null,
   "metadata": {},
   "outputs": [],
   "source": [
    "from helpers import de_standardize\n",
    "\n",
    "def logistic_regression_gradient_descent_demo(y, x):\n",
    "    # init parameters\n",
    "    max_iter = 10000\n",
    "    threshold = 1e-8\n",
    "    gamma = 0.5\n",
    "    losses = []\n",
    "\n",
    "    # build tx\n",
    "    tx = np.c_[np.ones((y.shape[0], 1)), x]\n",
    "    w = np.zeros((tx.shape[1], 1))\n",
    "\n",
    "    # start the logistic regression\n",
    "    for iter in range(max_iter):\n",
    "        # get loss and update w.\n",
    "        loss, w = learning_by_gradient_descent(y, tx, w, gamma)\n",
    "        # log info\n",
    "        if iter % 100 == 0:\n",
    "            print(\"Current iteration={i}, loss={l}\".format(i=iter, l=loss))\n",
    "        # converge criterion\n",
    "        losses.append(loss)\n",
    "        if len(losses) > 1 and np.abs(losses[-1] - losses[-2]) < threshold:\n",
    "            break\n",
    "    # visualization\n",
    "    visualization(y, x, mean_x, std_x, w, \"classification_by_logistic_regression_gradient_descent\", True)\n",
    "    print(\"loss={l}\".format(l=calculate_loss(y, tx, w)))\n",
    "    print(loss, w)\n",
    "\n",
    "logistic_regression_gradient_descent_demo(y, x)"
   ]
  },
  {
   "cell_type": "code",
   "execution_count": 136,
   "metadata": {},
   "outputs": [
    {
     "data": {
      "text/plain": [
       "(0.2290170594730636,\n",
       " array([[-0.88130882],\n",
       "        [ 2.48967472],\n",
       "        [-5.45258201]]))"
      ]
     },
     "execution_count": 136,
     "metadata": {},
     "output_type": "execute_result"
    }
   ],
   "source": [
    "import random\n",
    "def logistic_regression(y, tx, initial_w, max_iter, gamma, threshold = 1e-8, stochastic = False):\n",
    "    \"\"\"\n",
    "    Do one step of gradient descent using logistic regression. Return the loss and the updated w.\n",
    "\n",
    "    Args:\n",
    "        y:  shape=(N, 1) with values in {-1,1}\n",
    "        tx: shape=(N, D)\n",
    "        w:  shape=(D, 1) \n",
    "        gamma: float\n",
    "\n",
    "    Returns:\n",
    "        loss: scalar number\n",
    "        w: shape=(D, 1) \n",
    "    \"\"\"\n",
    "    # change y so that it is in {0,1}\n",
    "    y = y/2+0.5\n",
    "    w = initial_w\n",
    "    losses = []\n",
    "    # start the logistic regression\n",
    "    for iter in range(max_iter):\n",
    "        # get loss and update w.\n",
    "        loss, w = learning_by_gradient_descent(y, tx, w, gamma, stochastic)\n",
    "        losses.append(loss)\n",
    "        # check if we have to stop\n",
    "        if len(losses) > 1 and np.abs(losses[-1] - losses[-2]) < threshold:\n",
    "            break\n",
    "    return loss, w\n",
    "\n",
    "y2 = (y-0.5)*2\n",
    "tx = np.c_[np.ones((y.shape[0], 1)), x]\n",
    "initial_w = np.zeros((tx.shape[1], 1))\n",
    "logistic_regression(y2, tx, initial_w, 10000, 0.5 ,threshold = 1e-8, stochastic = True)"
   ]
  },
  {
   "cell_type": "markdown",
   "metadata": {},
   "source": [
    "#### The `logistic_regression_gradient_descent_demo` is expected to show\n",
    "\n",
    "![1](../template/classification_by_logistic_regression_gradient_descent.png)"
   ]
  },
  {
   "cell_type": "markdown",
   "metadata": {},
   "source": [
    "Calculate your hessian below"
   ]
  },
  {
   "cell_type": "code",
   "execution_count": null,
   "metadata": {},
   "outputs": [],
   "source": [
    "def calculate_hessian(y, tx, w):\n",
    "    \"\"\"return the Hessian of the loss function.\n",
    "\n",
    "    Args:\n",
    "        y:  shape=(N, 1)\n",
    "        tx: shape=(N, D)\n",
    "        w:  shape=(D, 1) \n",
    "\n",
    "    Returns:\n",
    "        a hessian matrix of shape=(D, D) \n",
    "\n",
    "    >>> y = np.c_[[0., 1.]]\n",
    "    >>> tx = np.arange(6).reshape(2, 3)\n",
    "    >>> w = np.array([[0.1], [0.2], [0.3]])\n",
    "    >>> calculate_hessian(y, tx, w)\n",
    "    array([[0.28961235, 0.3861498 , 0.48268724],\n",
    "           [0.3861498 , 0.62182124, 0.85749269],\n",
    "           [0.48268724, 0.85749269, 1.23229813]])\n",
    "    \"\"\"\n",
    "    # ***************************************************\n",
    "    N = y.shape[0]\n",
    "    s_tx_w = sigmoid(tx.dot(w))\n",
    "    S = s_tx_w*(1-s_tx_w) * np.eye(N)\n",
    "    return 1/N * tx.T.dot(S).dot(tx)\n",
    "    # ***************************************************\n",
    "\n",
    "test(calculate_hessian)"
   ]
  },
  {
   "cell_type": "markdown",
   "metadata": {},
   "source": [
    "Write a function below to return loss, gradient, and hessian."
   ]
  },
  {
   "cell_type": "code",
   "execution_count": null,
   "metadata": {},
   "outputs": [],
   "source": [
    "def logistic_regression(y, tx, w):\n",
    "    \"\"\"return the loss, gradient of the loss, and hessian of the loss.\n",
    "\n",
    "    Args:\n",
    "        y:  shape=(N, 1)\n",
    "        tx: shape=(N, D)\n",
    "        w:  shape=(D, 1) \n",
    "\n",
    "    Returns:\n",
    "        loss: scalar number\n",
    "        gradient: shape=(D, 1) \n",
    "        hessian: shape=(D, D)\n",
    "\n",
    "    >>> y = np.c_[[0., 1.]]\n",
    "    >>> tx = np.arange(6).reshape(2, 3)\n",
    "    >>> w = np.array([[0.1], [0.2], [0.3]])\n",
    "    >>> loss, gradient, hessian = logistic_regression(y, tx, w)\n",
    "    >>> round(loss, 8)\n",
    "    0.62137268\n",
    "    >>> gradient, hessian\n",
    "    (array([[-0.10370763],\n",
    "           [ 0.2067104 ],\n",
    "           [ 0.51712843]]), array([[0.28961235, 0.3861498 , 0.48268724],\n",
    "           [0.3861498 , 0.62182124, 0.85749269],\n",
    "           [0.48268724, 0.85749269, 1.23229813]]))\n",
    "    \"\"\"\n",
    "    # ***************************************************\n",
    "    loss = calculate_loss(y, tx, w)\n",
    "    gradient = calculate_gradient(y, tx, w)\n",
    "    hess = calculate_hessian(y, tx, w)\n",
    "    return loss, gradient, hess\n",
    "    # ***************************************************\n",
    "\n",
    "test(logistic_regression)"
   ]
  },
  {
   "cell_type": "markdown",
   "metadata": {},
   "source": [
    "### Using Newton's method\n",
    "Use Newton's method for logistic regression."
   ]
  },
  {
   "cell_type": "code",
   "execution_count": null,
   "metadata": {},
   "outputs": [],
   "source": [
    "def learning_by_newton_method(y, tx, w, gamma):\n",
    "    \"\"\"\n",
    "    Do one step of Newton's method.\n",
    "    Return the loss and updated w.\n",
    "\n",
    "    Args:\n",
    "        y:  shape=(N, 1)\n",
    "        tx: shape=(N, D)\n",
    "        w:  shape=(D, 1)\n",
    "        gamma: scalar\n",
    "\n",
    "    Returns:\n",
    "        loss: scalar number\n",
    "        w: shape=(D, 1)\n",
    "\n",
    "    >>> y = np.c_[[0., 1.]]\n",
    "    >>> tx = np.arange(6).reshape(2, 3)\n",
    "    >>> w = np.array([[0.1], [0.2], [0.3]])\n",
    "    >>> gamma = 0.1\n",
    "    >>> loss, w = learning_by_newton_method(y, tx, w, gamma)\n",
    "    >>> round(loss, 8)\n",
    "    0.62137268\n",
    "    >>> w\n",
    "    array([[ 0.25152211],\n",
    "           [ 0.50616418],\n",
    "           [-0.01435914]])\n",
    "    \"\"\"\n",
    "    # ***************************************************\n",
    "    loss, gradient, hess = logistic_regression(y, tx, w)\n",
    "    w = np.linalg.solve(hess, hess.dot(w) - gamma * gradient)\n",
    "    # ***************************************************\n",
    "    return loss, w\n",
    "\n",
    "test(learning_by_newton_method)"
   ]
  },
  {
   "cell_type": "markdown",
   "metadata": {},
   "source": [
    "demo"
   ]
  },
  {
   "cell_type": "code",
   "execution_count": null,
   "metadata": {},
   "outputs": [],
   "source": [
    "def logistic_regression_newton_method_demo(y, x):\n",
    "    # init parameters\n",
    "    max_iter = 100\n",
    "    threshold = 1e-8\n",
    "    lambda_ = 0.1\n",
    "    gamma = 1.\n",
    "    losses = []\n",
    "\n",
    "    # build tx\n",
    "    tx = np.c_[np.ones((y.shape[0], 1)), x]\n",
    "    w = np.zeros((tx.shape[1], 1))\n",
    "\n",
    "    # start the logistic regression\n",
    "    for iter in range(max_iter):\n",
    "        # get loss and update w.\n",
    "        loss, w = learning_by_newton_method(y, tx, w, gamma)\n",
    "        # log info\n",
    "        if iter % 1 == 0:\n",
    "            print(\"Current iteration={i}, the loss={l}\".format(i=iter, l=loss))\n",
    "\n",
    "        # converge criterion\n",
    "        losses.append(loss)\n",
    "        if len(losses) > 1 and np.abs(losses[-1] - losses[-2]) < threshold:\n",
    "            break\n",
    "    # visualization\n",
    "    visualization(y, x, mean_x, std_x, w, \"classification_by_logistic_regression_newton_method\", True)\n",
    "    print(\"loss={l}\".format(l=calculate_loss(y, tx, w)))\n",
    "\n",
    "logistic_regression_newton_method_demo(y, x)"
   ]
  },
  {
   "cell_type": "markdown",
   "metadata": {},
   "source": [
    "#### The `logistic_regression_newton_method_demo` is expected to show\n",
    "\n",
    "![1](../template/classification_by_logistic_regression_newton_method.png)"
   ]
  },
  {
   "cell_type": "markdown",
   "metadata": {},
   "source": [
    "### Using penalized logistic regression\n",
    "Fill in the function below."
   ]
  },
  {
   "cell_type": "code",
   "execution_count": null,
   "metadata": {},
   "outputs": [],
   "source": [
    "def penalized_logistic_regression(y, tx, w, lambda_, stochastic):\n",
    "    \"\"\"return the loss and gradient.\n",
    "\n",
    "    Args:\n",
    "        y:  shape=(N, 1)\n",
    "        tx: shape=(N, D)\n",
    "        w:  shape=(D, 1)\n",
    "        lambda_: scalar\n",
    "\n",
    "    Returns:\n",
    "        loss: scalar number\n",
    "        gradient: shape=(D, 1)\n",
    "\n",
    "    >>> y = np.c_[[0., 1.]]\n",
    "    >>> tx = np.arange(6).reshape(2, 3)\n",
    "    >>> w = np.array([[0.1], [0.2], [0.3]])\n",
    "    >>> lambda_ = 0.1\n",
    "    >>> loss, gradient = penalized_logistic_regression(y, tx, w, lambda_)\n",
    "    >>> round(loss, 8)\n",
    "    0.63537268\n",
    "    >>> gradient \n",
    "    array([[-0.08370763],\n",
    "           [ 0.2467104 ],\n",
    "           [ 0.57712843]])\n",
    "    \"\"\"\n",
    "    # **************************************************\n",
    "    loss = calculate_loss(y, tx, w)  +  lambda_ * w.T.dot(w)[0][0]\n",
    "    gradient = calculate_gradient(y, tx, w) + 2*lambda_*w\n",
    "    return loss, gradient\n",
    "    # ***************************************************\n",
    "\n",
    "test(penalized_logistic_regression)"
   ]
  },
  {
   "cell_type": "code",
   "execution_count": null,
   "metadata": {},
   "outputs": [],
   "source": [
    "def learning_by_penalized_gradient(y, tx, w, gamma, lambda_):\n",
    "    \"\"\"\n",
    "    Do one step of gradient descent, using the penalized logistic regression.\n",
    "    Return the loss and updated w.\n",
    "\n",
    "    Args:\n",
    "        y:  shape=(N, 1)\n",
    "        tx: shape=(N, D)\n",
    "        w:  shape=(D, 1)\n",
    "        gamma: scalar\n",
    "        lambda_: scalar\n",
    "\n",
    "    Returns:\n",
    "        loss: scalar number\n",
    "        w: shape=(D, 1)\n",
    "\n",
    "    >>> np.set_printoptions(8)\n",
    "    >>> y = np.c_[[0., 1.]]\n",
    "    >>> tx = np.arange(6).reshape(2, 3)\n",
    "    >>> w = np.array([[0.1], [0.2], [0.3]])\n",
    "    >>> lambda_ = 0.1\n",
    "    >>> gamma = 0.1\n",
    "    >>> loss, w = learning_by_penalized_gradient(y, tx, w, gamma, lambda_)\n",
    "    >>> round(loss, 8)\n",
    "    0.63537268\n",
    "    >>> w\n",
    "    array([[0.10837076],\n",
    "           [0.17532896],\n",
    "           [0.24228716]])\n",
    "    \"\"\"\n",
    "    loss, gradient = penalized_logistic_regression(y, tx, w, lambda_)\n",
    "    w = w - gamma * gradient\n",
    "    return loss,w\n",
    "\n",
    "test(learning_by_penalized_gradient)"
   ]
  },
  {
   "cell_type": "code",
   "execution_count": 139,
   "metadata": {},
   "outputs": [
    {
     "name": "stdout",
     "output_type": "stream",
     "text": [
      "Current iteration=0, loss=0.6931471805599452\n",
      "Current iteration=100, loss=0.3393830592266465\n",
      "Current iteration=200, loss=0.3280462542060041\n",
      "Current iteration=300, loss=0.32447955700574815\n",
      "Current iteration=400, loss=0.32272037666838743\n",
      "Current iteration=500, loss=0.3217694921032908\n",
      "Current iteration=600, loss=0.3212459232814974\n",
      "Current iteration=700, loss=0.3209563395667074\n",
      "Current iteration=800, loss=0.32079590536631125\n",
      "Current iteration=900, loss=0.32070693742332934\n",
      "Current iteration=1000, loss=0.3206575675524872\n",
      "Current iteration=1100, loss=0.3206301576102323\n",
      "Current iteration=1200, loss=0.3206149339853786\n",
      "Current iteration=1300, loss=0.320606476306898\n",
      "Current iteration=1400, loss=0.32060177653665484\n",
      "Current iteration=1500, loss=0.3205991645483522\n",
      "Current iteration=1600, loss=0.32059771271245063\n",
      "loss=0.2728037888826974\n",
      "[[ 0.06290811]\n",
      " [-0.40801698]\n",
      " [-2.14684507]]\n"
     ]
    },
    {
     "data": {
      "image/png": "[encoded data removed]",
      "text/plain": [
       "<Figure size 432x288 with 2 Axes>"
      ]
     },
     "metadata": {
      "needs_background": "light"
     },
     "output_type": "display_data"
    }
   ],
   "source": [
    "def logistic_regression_penalized_gradient_descent_demo(y, x):\n",
    "    # init parameters\n",
    "    max_iter = 10000\n",
    "    gamma = 0.1\n",
    "    lambda_ = 0.01\n",
    "    threshold = 1e-8\n",
    "    losses = []\n",
    "\n",
    "    # build tx\n",
    "    tx = np.c_[np.ones((y.shape[0], 1)), x]\n",
    "    w = np.zeros((tx.shape[1], 1))\n",
    "\n",
    "    # start the logistic regression\n",
    "    for iter in range(max_iter):\n",
    "        # get loss and update w.\n",
    "        loss, w = learning_by_penalized_gradient(y, tx, w, gamma, lambda_)\n",
    "        # log info\n",
    "        if iter % 100 == 0:\n",
    "            print(\"Current iteration={i}, loss={l}\".format(i=iter, l=loss))\n",
    "        # converge criterion\n",
    "        losses.append(loss)\n",
    "        if len(losses) > 1 and np.abs(losses[-1] - losses[-2]) < threshold:\n",
    "            break\n",
    "    # visualization\n",
    "    visualization(y, x, mean_x, std_x, w, \"classification_by_logistic_regression_penalized_gradient_descent\", True)\n",
    "    print(\"loss={l}\".format(l=calculate_loss(y, tx, w)))\n",
    "    print(w)\n",
    "    \n",
    "logistic_regression_penalized_gradient_descent_demo(y, x)"
   ]
  },
  {
   "cell_type": "code",
   "execution_count": 142,
   "metadata": {},
   "outputs": [
    {
     "data": {
      "text/plain": [
       "(0.2728037888826974,\n",
       " array([[ 0.06290811],\n",
       "        [-0.40801698],\n",
       "        [-2.14684507]]))"
      ]
     },
     "execution_count": 142,
     "metadata": {},
     "output_type": "execute_result"
    }
   ],
   "source": [
    "def reg_logistic_regression(y, tx, lambda_ ,initial_w, max_iter, gamma, threshold = 1e-8, stochastic = False):\n",
    "    # change y so that it is in {0,1}\n",
    "    y = y/2+0.5\n",
    "    w = initial_w\n",
    "    losses = []\n",
    "    # start the logistic regression\n",
    "    for iter in range(max_iter):\n",
    "        # get loss and update w.\n",
    "        loss, w = learning_by_penalized_gradient(y, tx, w, gamma, lambda_)\n",
    "        losses.append(loss)\n",
    "        # check if we have to stop\n",
    "        if len(losses) > 1 and np.abs(losses[-1] - losses[-2]) < threshold:\n",
    "            break\n",
    "    loss = calculate_loss(y,tx,w)\n",
    "    return loss, w\n",
    "y2 = (y-0.5)*2\n",
    "tx = np.c_[np.ones((y.shape[0], 1)), x]\n",
    "initial_w = np.zeros((tx.shape[1], 1))\n",
    "reg_logistic_regression(y2, tx, 0.01, initial_w, 10000, 0.1 ,threshold = 1e-8, stochastic = False)"
   ]
  },
  {
   "cell_type": "markdown",
   "metadata": {},
   "source": [
    "#### The `logistic_regression_penalized_gradient_descent_demo` is expected to show\n",
    "\n",
    "![1](../template/classification_by_logistic_regression_penalized_gradient_descent.png)"
   ]
  }
 ],
 "metadata": {
  "anaconda-cloud": {},
  "interpreter": {
   "hash": "d55a7d355c2d2bc0905cf312cf31c7bd25efc90d5ad78f8099868776121b8193"
  },
  "kernelspec": {
   "display_name": "Python 3 (ipykernel)",
   "language": "python",
   "name": "python3"
  },
  "language_info": {
   "codemirror_mode": {
    "name": "ipython",
    "version": 3
   },
   "file_extension": ".py",
   "mimetype": "text/x-python",
   "name": "python",
   "nbconvert_exporter": "python",
   "pygments_lexer": "ipython3",
   "version": "3.9.7"
  }
 },
 "nbformat": 4,
 "nbformat_minor": 4
}
