{
 "cells": [
  {
   "cell_type": "code",
   "execution_count": 2,
   "metadata": {},
   "outputs": [],
   "source": [
    "# Useful starting lines\n",
    "%matplotlib inline\n",
    "import numpy as np\n",
    "import matplotlib.pyplot as plt\n",
    "%load_ext autoreload\n",
    "%autoreload 2"
   ]
  },
  {
   "cell_type": "markdown",
   "metadata": {},
   "source": [
    "# Load the data"
   ]
  },
  {
   "cell_type": "code",
   "execution_count": 3,
   "metadata": {},
   "outputs": [],
   "source": [
    "import datetime\n",
    "from helpers import *\n",
    "\n",
    "height, weight, gender = load_data(sub_sample=False, add_outlier=False)\n",
    "x, mean_x, std_x = standardize(height)\n",
    "y, tx = build_model_data(x, weight)\n",
    "N = y.shape[0] "
   ]
  },
  {
   "cell_type": "code",
   "execution_count": 4,
   "metadata": {},
   "outputs": [
    {
     "data": {
      "text/plain": [
       "((10000,), (10000, 2))"
      ]
     },
     "execution_count": 4,
     "metadata": {},
     "output_type": "execute_result"
    }
   ],
   "source": [
    "y.shape, tx.shape"
   ]
  },
  {
   "cell_type": "markdown",
   "metadata": {},
   "source": [
    "### NB: throughout this laboratory the data has the following format: \n",
    "  * there are **N = 10000** data entries\n",
    "  * **y** represents the column vector containing weight information -- that which we wish to predict/the output (see also the first page of $\\texttt{exercise02.pdf}$). Its **shape** is **(N,)**.\n",
    "  * **tx** represents the matrix $\\tilde{X}$ formed by laterally concatenating a column vector of 1s to the column vector of height information -- the input data (see also the first page of $\\texttt{exercise02.pdf}$). Its **shape** is **(N,2)**."
   ]
  },
  {
   "cell_type": "markdown",
   "metadata": {},
   "source": [
    "# 1. Computing the Cost Function\n",
    "Fill in the `compute_cost` function below:"
   ]
  },
  {
   "cell_type": "code",
   "execution_count": 5,
   "metadata": {},
   "outputs": [],
   "source": [
    "def get_err(y, tx, w):\n",
    "    return y-tx.dot(w)\n",
    "\n",
    "def compute_loss(y, tx, w):\n",
    "\n",
    "    \"\"\"Calculate the loss using either MSE or MAE.\n",
    "\n",
    "    Args:\n",
    "        y: numpy array of shape=(N, )\n",
    "        tx: numpy array of shape=(N,2)\n",
    "        w: numpy array of shape=(2,). The vector of model parameters.\n",
    "\n",
    "    Returns:\n",
    "        the value of the loss (a scalar), corresponding to the input parameters w.\n",
    "    \"\"\"\n",
    "    # ***************************************************\n",
    "    # INSERT YOUR CODE HERE\n",
    "    # TODO: compute loss by MSE\n",
    "    err = get_err(y, tx, w)\n",
    "    return 0.5/N * err.T.dot(err)\n",
    "    # ***************************************************"
   ]
  },
  {
   "cell_type": "markdown",
   "metadata": {},
   "source": [
    "# 2. Grid Search"
   ]
  },
  {
   "cell_type": "markdown",
   "metadata": {},
   "source": [
    "Fill in the function `grid_search()` below:"
   ]
  },
  {
   "cell_type": "code",
   "execution_count": 6,
   "metadata": {},
   "outputs": [],
   "source": [
    "# from costs import *\n",
    "\n",
    "def grid_search(y, tx, grid_w0, grid_w1):\n",
    "    \"\"\"Algorithm for grid search.\n",
    "        \n",
    "    Args:\n",
    "        y: numpy array of shape=(N, )\n",
    "        tx: numpy array of shape=(N,2)\n",
    "        grid_w0: numpy array of shape=(num_grid_pts_w0, ). A 1D array containing num_grid_pts_w0 values of parameter w0 to be tested in the grid search.\n",
    "        grid_w1: numpy array of shape=(num_grid_pts_w1, ). A 1D array containing num_grid_pts_w1 values of parameter w1 to be tested in the grid search.\n",
    "        \n",
    "    Returns:\n",
    "        losses: numpy array of shape=(num_grid_pts_w0, num_grid_pts_w1). A 2D array containing the loss value for each combination of w0 and w1\n",
    "    \"\"\"\n",
    "\n",
    "    losses = np.zeros((len(grid_w0), len(grid_w1)))\n",
    "    # ***************************************************\n",
    "    # INSERT YOUR CODE HERE\n",
    "    # TODO: compute loss for each combination of w0 and w1.\n",
    "    for i, w0 in enumerate(grid_w0) : \n",
    "        for j, w1 in enumerate(grid_w1) :\n",
    "            losses[i,j]=compute_loss(y, tx, [w0, w1])\n",
    "            \n",
    "            \n",
    "    # ***************************************************\n",
    "    return losses"
   ]
  },
  {
   "cell_type": "markdown",
   "metadata": {},
   "source": [
    "Let us play with the grid search demo now!"
   ]
  },
  {
   "cell_type": "code",
   "execution_count": 37,
   "metadata": {},
   "outputs": [],
   "source": [
    "from grid_search import generate_w, get_best_parameters\n",
    "from plots import grid_visualization\n",
    "\n",
    "def get_grid(num_intervals=10):\n",
    "    return generate_w(num_intervals)\n",
    "def show_plots(num_intervals=10) : \n",
    "    # Generate the grid of parameters to be swept\n",
    "    grid_w0, grid_w1 = get_grid(num_intervals)\n",
    "\n",
    "    # Start the grid search\n",
    "    start_time = datetime.datetime.now()\n",
    "    grid_losses = grid_search(y, tx, grid_w0, grid_w1)\n",
    "\n",
    "    # Select the best combinaison\n",
    "    loss_star, w0_star, w1_star = get_best_parameters(grid_w0, grid_w1, grid_losses)\n",
    "    end_time = datetime.datetime.now()\n",
    "    execution_time = (end_time - start_time).total_seconds()\n",
    "\n",
    "    # Print the results\n",
    "    print(\"Grid Search: loss*={l}, w0*={w0}, w1*={w1}, execution time={t:.3f} seconds\".format(\n",
    "          l=loss_star, w0=w0_star, w1=w1_star, t=execution_time))\n",
    "\n",
    "    # Plot the results\n",
    "    fig = grid_visualization(grid_losses, grid_w0, grid_w1, mean_x, std_x, height, weight)\n",
    "    fig.set_size_inches(10.0,6.0)\n",
    "    fig.savefig(\"grid_plot\"+str(num_intervals))  # Optional saving\n",
    "    return grid_losses"
   ]
  },
  {
   "cell_type": "code",
   "execution_count": 38,
   "metadata": {},
   "outputs": [
    {
     "name": "stdout",
     "output_type": "stream",
     "text": [
      "Grid Search: loss*=2.2053872685514815, w0*=66.66666666666669, w1*=16.666666666666686, execution time=0.000 seconds\n",
      "Grid Search: loss*=1.436765796139156, w0*=71.42857142857142, w1*=9.183673469387742, execution time=0.016 seconds\n"
     ]
    },
    {
     "data": {
      "image/png": "[encoded data removed]",
      "text/plain": [
       "<Figure size 720x432 with 3 Axes>"
      ]
     },
     "metadata": {
      "needs_background": "light"
     },
     "output_type": "display_data"
    },
    {
     "data": {
      "image/png": "[encoded data removed]",
      "text/plain": [
       "<Figure size 720x432 with 3 Axes>"
      ]
     },
     "metadata": {
      "needs_background": "light"
     },
     "output_type": "display_data"
    }
   ],
   "source": [
    "show_plots()\n",
    "grid_losses = show_plots(50)"
   ]
  },
  {
   "cell_type": "markdown",
   "metadata": {},
   "source": [
    "# 3. Gradient Descent"
   ]
  },
  {
   "cell_type": "markdown",
   "metadata": {},
   "source": [
    "Again, please fill in the functions `compute_gradient` below:"
   ]
  },
  {
   "cell_type": "code",
   "execution_count": 39,
   "metadata": {},
   "outputs": [],
   "source": [
    "def compute_gradient(y, tx, w):\n",
    "    \"\"\"Computes the gradient at w.\n",
    "        \n",
    "    Args:\n",
    "        y: numpy array of shape=(N, )\n",
    "        tx: numpy array of shape=(N,2)\n",
    "        w: numpy array of shape=(2, ). The vector of model parameters.\n",
    "        \n",
    "    Returns:\n",
    "        An numpy array of shape (2, ) (same shape as w), containing the gradient of the loss at w.\n",
    "    \"\"\"\n",
    "    # ***************************************************\n",
    "    # INSERT YOUR CODE HERE\n",
    "    # TODO: compute gradient vector\n",
    "    N = y.shape[0]\n",
    "    gradient = -1/N * tx.T.dot(get_err(y, tx, w))\n",
    "    # ***************************************************\n",
    "    return gradient"
   ]
  },
  {
   "cell_type": "code",
   "execution_count": 40,
   "metadata": {},
   "outputs": [
    {
     "name": "stdout",
     "output_type": "stream",
     "text": [
      "[25.93219415  8.96510513]\n",
      "[-24.06780585  -1.03489487]\n",
      "[-3.06780585  3.96510513]\n",
      "[-74.06780585 -11.03489487]\n"
     ]
    }
   ],
   "source": [
    "print(compute_gradient(y,tx,[100,20]))\n",
    "print(compute_gradient(y,tx,[50,10]))\n",
    "print(compute_gradient(y,tx,[71,15]))\n",
    "print(compute_gradient(y,tx,[0,0]))"
   ]
  },
  {
   "cell_type": "markdown",
   "metadata": {},
   "source": [
    "Please fill in the functions `gradient_descent` below:"
   ]
  },
  {
   "cell_type": "code",
   "execution_count": 41,
   "metadata": {},
   "outputs": [],
   "source": [
    "def gradient_descent(y, tx, initial_w, max_iters, gamma, verbose = False):\n",
    "    \"\"\"The Gradient Descent (GD) algorithm.\n",
    "        \n",
    "    Args:\n",
    "        y: numpy array of shape=(N, )\n",
    "        tx: numpy array of shape=(N,2)\n",
    "        initial_w: numpy array of shape=(2, ). The initial guess (or the initialization) for the model parameters\n",
    "        max_iters: a scalar denoting the total number of iterations of GD\n",
    "        gamma: a scalar denoting the stepsize\n",
    "        \n",
    "    Returns:\n",
    "        losses: a list of length max_iters containing the loss value (scalar) for each iteration of GD\n",
    "        ws: a list of length max_iters containing the model parameters as numpy arrays of shape (2, ), for each iteration of GD \n",
    "    \"\"\"\n",
    "    # Define parameters to store w and loss\n",
    "    ws = [initial_w]\n",
    "    losses = []\n",
    "    w = initial_w\n",
    "    for n_iter in range(max_iters):\n",
    "        # ***************************************************\n",
    "        # INSERT YOUR CODE HERE\n",
    "        # TODO: compute gradient and loss\n",
    "        gradient = compute_gradient(y,tx,w)\n",
    "        loss = compute_loss(y,tx,w)\n",
    "        # ***************************************************\n",
    "        # ***************************************************\n",
    "        # INSERT YOUR CODE HERE\n",
    "        # TODO: update w by gradient\n",
    "        w = w - gamma* gradient\n",
    "        # ***************************************************\n",
    "        \n",
    "        # store w and loss\n",
    "        ws.append(w)\n",
    "        losses.append(loss)\n",
    "        if verbose :\n",
    "            print(\"GD iter. {bi}/{ti}: loss={l}, w0={w0}, w1={w1}\".format(\n",
    "                  bi=n_iter, ti=max_iters - 1, l=loss, w0=w[0], w1=w[1]))\n",
    "\n",
    "    return losses, ws"
   ]
  },
  {
   "cell_type": "markdown",
   "metadata": {},
   "source": [
    "Test your gradient descent function through gradient descent demo shown below:"
   ]
  },
  {
   "cell_type": "code",
   "execution_count": 42,
   "metadata": {},
   "outputs": [],
   "source": [
    "# from gradient_descent import *\n",
    "from plots import gradient_descent_visualization\n",
    "from ipywidgets import IntSlider, interact\n",
    "\n",
    "def plot_figure(n_iter):\n",
    "    fig = gradient_descent_visualization(\n",
    "        gd_losses, gd_ws, grid_losses, grid_w0, grid_w1, mean_x, std_x, height, weight, n_iter)\n",
    "    fig.set_size_inches(10.0, 6.0)\n",
    "\n",
    "def play_with_gradient_descent(y, tx, initial_w= np.array([0, 0]), max_iters= 50, gamma=0.7, verbose = False):\n",
    "\n",
    "    # Start gradient descent.\n",
    "    start_time = datetime.datetime.now()\n",
    "    gd_losses, gd_ws = gradient_descent(y, tx, initial_w, max_iters, gamma)\n",
    "    end_time = datetime.datetime.now()\n",
    "\n",
    "    # Print result\n",
    "    exection_time = (end_time - start_time).total_seconds()\n",
    "    if verbose :\n",
    "        print(\"GD: execution time={t:.3f} seconds\".format(t=exection_time))\n",
    "        \n",
    "    grid_w0, grid_w1 = get_grid(num_intervals = 10)\n",
    "    def plot_figure(n_iter):\n",
    "        fig = gradient_descent_visualization(\n",
    "            gd_losses, gd_ws, grid_losses, grid_w0, grid_w1, mean_x, std_x, height, weight, n_iter)\n",
    "        fig.set_size_inches(10.0, 6.0)\n",
    "    \n",
    "    interact(plot_figure, n_iter=IntSlider(min=1, max=len(gd_ws)))\n"
   ]
  },
  {
   "cell_type": "code",
   "execution_count": 43,
   "metadata": {},
   "outputs": [
    {
     "name": "stdout",
     "output_type": "stream",
     "text": [
      "Gradient descent with w = [0, 0] and gamma = 0.7\n"
     ]
    },
    {
     "data": {
      "application/vnd.jupyter.widget-view+json": {
       "model_id": "fa4a09e5bde3489dafa7ffcc0439cf73",
       "version_major": 2,
       "version_minor": 0
      },
      "text/plain": [
       "interactive(children=(IntSlider(value=1, description='n_iter', max=51, min=1), Output()), _dom_classes=('widge…"
      ]
     },
     "metadata": {},
     "output_type": "display_data"
    },
    {
     "name": "stdout",
     "output_type": "stream",
     "text": [
      "Gradient descent with w = [100, 10] and gamma = 0.7\n"
     ]
    },
    {
     "data": {
      "image/png": "[encoded data removed]",
      "text/plain": [
       "<Figure size 432x288 with 1 Axes>"
      ]
     },
     "metadata": {
      "needs_background": "light"
     },
     "output_type": "display_data"
    },
    {
     "data": {
      "application/vnd.jupyter.widget-view+json": {
       "model_id": "5090a472a8cc49b6814e72e3d31354cd",
       "version_major": 2,
       "version_minor": 0
      },
      "text/plain": [
       "interactive(children=(IntSlider(value=1, description='n_iter', max=51, min=1), Output()), _dom_classes=('widge…"
      ]
     },
     "metadata": {},
     "output_type": "display_data"
    },
    {
     "name": "stdout",
     "output_type": "stream",
     "text": [
      "Gradient descent with w = [-1000, 1000] and gamma = 0.7\n"
     ]
    },
    {
     "data": {
      "image/png": "[encoded data removed]",
      "text/plain": [
       "<Figure size 432x288 with 1 Axes>"
      ]
     },
     "metadata": {
      "needs_background": "light"
     },
     "output_type": "display_data"
    },
    {
     "data": {
      "application/vnd.jupyter.widget-view+json": {
       "model_id": "3bc3a14abdd548a3b05938a2f3245a7a",
       "version_major": 2,
       "version_minor": 0
      },
      "text/plain": [
       "interactive(children=(IntSlider(value=1, description='n_iter', max=51, min=1), Output()), _dom_classes=('widge…"
      ]
     },
     "metadata": {},
     "output_type": "display_data"
    },
    {
     "data": {
      "image/png": "[encoded data removed]",
      "text/plain": [
       "<Figure size 432x288 with 1 Axes>"
      ]
     },
     "metadata": {
      "needs_background": "light"
     },
     "output_type": "display_data"
    }
   ],
   "source": [
    "initial_ws = [[0,0],[100,10],[-1000,1000]]\n",
    "gammas = [0.001,0.01,0.5, 1,2,2.5]\n",
    "\n",
    "gamma = 0.7\n",
    "for w in initial_ws :\n",
    "    print(\"Gradient descent with w = \"+str(w)+\" and gamma = \"+str(gamma))\n",
    "    play_with_gradient_descent(y,tx, w ,max_iters= 50, gamma=gamma, verbose = False)\n",
    "\n"
   ]
  },
  {
   "cell_type": "code",
   "execution_count": 36,
   "metadata": {},
   "outputs": [
    {
     "name": "stdout",
     "output_type": "stream",
     "text": [
      "Gradient descent with w = [-20, -50] and gamma = 0.001\n",
      "GD: execution time=0.000 seconds\n"
     ]
    },
    {
     "data": {
      "application/vnd.jupyter.widget-view+json": {
       "model_id": "c960af6533124cb3aa65a0f8b4777aa9",
       "version_major": 2,
       "version_minor": 0
      },
      "text/plain": [
       "interactive(children=(IntSlider(value=1, description='n_iter', max=51, min=1), Output()), _dom_classes=('widge…"
      ]
     },
     "metadata": {},
     "output_type": "display_data"
    },
    {
     "name": "stdout",
     "output_type": "stream",
     "text": [
      "Gradient descent with w = [-20, -50] and gamma = 0.01\n",
      "GD: execution time=0.000 seconds\n"
     ]
    },
    {
     "data": {
      "image/png": "[encoded data removed]",
      "text/plain": [
       "<Figure size 432x288 with 1 Axes>"
      ]
     },
     "metadata": {
      "needs_background": "light"
     },
     "output_type": "display_data"
    },
    {
     "data": {
      "application/vnd.jupyter.widget-view+json": {
       "model_id": "73d3bee6ea5e4d51911207796a13d018",
       "version_major": 2,
       "version_minor": 0
      },
      "text/plain": [
       "interactive(children=(IntSlider(value=1, description='n_iter', max=51, min=1), Output()), _dom_classes=('widge…"
      ]
     },
     "metadata": {},
     "output_type": "display_data"
    },
    {
     "name": "stdout",
     "output_type": "stream",
     "text": [
      "Gradient descent with w = [-20, -50] and gamma = 0.5\n",
      "GD: execution time=0.000 seconds\n"
     ]
    },
    {
     "data": {
      "image/png": "[encoded data removed]",
      "text/plain": [
       "<Figure size 432x288 with 1 Axes>"
      ]
     },
     "metadata": {
      "needs_background": "light"
     },
     "output_type": "display_data"
    },
    {
     "data": {
      "application/vnd.jupyter.widget-view+json": {
       "model_id": "0375a28b2f59492db65fb32c721363c5",
       "version_major": 2,
       "version_minor": 0
      },
      "text/plain": [
       "interactive(children=(IntSlider(value=1, description='n_iter', max=51, min=1), Output()), _dom_classes=('widge…"
      ]
     },
     "metadata": {},
     "output_type": "display_data"
    },
    {
     "name": "stdout",
     "output_type": "stream",
     "text": [
      "Gradient descent with w = [-20, -50] and gamma = 1\n",
      "GD: execution time=0.000 seconds\n"
     ]
    },
    {
     "data": {
      "image/png": "[encoded data removed]",
      "text/plain": [
       "<Figure size 432x288 with 1 Axes>"
      ]
     },
     "metadata": {
      "needs_background": "light"
     },
     "output_type": "display_data"
    },
    {
     "data": {
      "application/vnd.jupyter.widget-view+json": {
       "model_id": "36d6d7c3dfda46c18b16a40b7d08d340",
       "version_major": 2,
       "version_minor": 0
      },
      "text/plain": [
       "interactive(children=(IntSlider(value=1, description='n_iter', max=51, min=1), Output()), _dom_classes=('widge…"
      ]
     },
     "metadata": {},
     "output_type": "display_data"
    },
    {
     "name": "stdout",
     "output_type": "stream",
     "text": [
      "Gradient descent with w = [-20, -50] and gamma = 2\n",
      "GD: execution time=0.000 seconds\n"
     ]
    },
    {
     "data": {
      "image/png": "[encoded data removed]",
      "text/plain": [
       "<Figure size 432x288 with 1 Axes>"
      ]
     },
     "metadata": {
      "needs_background": "light"
     },
     "output_type": "display_data"
    },
    {
     "data": {
      "application/vnd.jupyter.widget-view+json": {
       "model_id": "5d240b23028f4142828baade7c89934e",
       "version_major": 2,
       "version_minor": 0
      },
      "text/plain": [
       "interactive(children=(IntSlider(value=1, description='n_iter', max=51, min=1), Output()), _dom_classes=('widge…"
      ]
     },
     "metadata": {},
     "output_type": "display_data"
    },
    {
     "name": "stdout",
     "output_type": "stream",
     "text": [
      "Gradient descent with w = [-20, -50] and gamma = 2.5\n",
      "GD: execution time=0.000 seconds\n"
     ]
    },
    {
     "data": {
      "image/png": "[encoded data removed]",
      "text/plain": [
       "<Figure size 432x288 with 1 Axes>"
      ]
     },
     "metadata": {
      "needs_background": "light"
     },
     "output_type": "display_data"
    },
    {
     "data": {
      "application/vnd.jupyter.widget-view+json": {
       "model_id": "71dfe6a192124b1ab5a6b8cc4dd8ecc3",
       "version_major": 2,
       "version_minor": 0
      },
      "text/plain": [
       "interactive(children=(IntSlider(value=1, description='n_iter', max=51, min=1), Output()), _dom_classes=('widge…"
      ]
     },
     "metadata": {},
     "output_type": "display_data"
    },
    {
     "data": {
      "image/png": "[encoded data removed]",
      "text/plain": [
       "<Figure size 432x288 with 1 Axes>"
      ]
     },
     "metadata": {
      "needs_background": "light"
     },
     "output_type": "display_data"
    }
   ],
   "source": [
    "w = [-20,-50]\n",
    "for gamma in gammas:\n",
    "    print(\"Gradient descent with w = \"+str(w)+\" and gamma = \"+str(gamma))\n",
    "    play_with_gradient_descent(y,tx, w ,max_iters= 50, gamma=gamma, verbose = True)"
   ]
  },
  {
   "cell_type": "markdown",
   "metadata": {
    "collapsed": true
   },
   "source": [
    "# 4. Stochastic gradient descent"
   ]
  },
  {
   "cell_type": "code",
   "execution_count": 15,
   "metadata": {},
   "outputs": [],
   "source": [
    "def compute_stoch_gradient(y, tx, w):\n",
    "    \"\"\"Compute a stochastic gradient at w from just few examples n and their corresponding y_n labels.\n",
    "        \n",
    "    Args:\n",
    "        y: numpy array of shape=(N, )\n",
    "        tx: numpy array of shape=(N,2)\n",
    "        w: numpy array of shape=(2, ). The vector of model parameters.\n",
    "        \n",
    "    Returns:\n",
    "        A numpy array of shape (2, ) (same shape as w), containing the stochastic gradient of the loss at w.\n",
    "    \"\"\"\n",
    "    \n",
    "    # ***************************************************\n",
    "    # INSERT YOUR CODE HERE\n",
    "    gradient = compute_gradient(y, tx, w )\n",
    "    # TODO: implement stochastic gradient computation. It's the same as the usual gradient.\n",
    "    # ***************************************************\n",
    "    return gradient\n",
    "\n",
    "\n",
    "def stochastic_gradient_descent(y, tx, initial_w, batch_size, max_iters, gamma):\n",
    "    \"\"\"The Stochastic Gradient Descent algorithm (SGD).\n",
    "            \n",
    "    Args:\n",
    "        y: numpy array of shape=(N, )\n",
    "        tx: numpy array of shape=(N,2)\n",
    "        initial_w: numpy array of shape=(2, ). The initial guess (or the initialization) for the model parameters\n",
    "        batch_size: a scalar denoting the number of data points in a mini-batch used for computing the stochastic gradient\n",
    "        max_iters: a scalar denoting the total number of iterations of SGD\n",
    "        gamma: a scalar denoting the stepsize\n",
    "        \n",
    "    Returns:\n",
    "        losses: a list of length max_iters containing the loss value (scalar) for each iteration of SGD\n",
    "        ws: a list of length max_iters containing the model parameters as numpy arrays of shape (2, ), for each iteration of SGD \n",
    "    \"\"\"\n",
    "    \n",
    "    # Define parameters to store w and loss\n",
    "    ws = [initial_w]\n",
    "    losses = []\n",
    "    w = initial_w\n",
    "    \n",
    "    for n_iter in range(max_iters):\n",
    "         # ***************************************************\n",
    "        # INSERT YOUR CODE HERE\n",
    "        # TODO: compute gradient and loss\n",
    "        gradient = None\n",
    "        for minibatch_y, minibatch_tx in batch_iter(y, tx, batch_size):\n",
    "            gradient = compute_stoch_gradient(minibatch_y, minibatch_tx,w)\n",
    "        loss = compute_loss(y,tx,w)\n",
    "        # ***************************************************\n",
    "        # ***************************************************\n",
    "        # INSERT YOUR CODE HERE\n",
    "        # TODO: update w by gradient\n",
    "        w = w - gamma* gradient\n",
    "        # ***************************************************\n",
    "        \n",
    "        # store w and loss\n",
    "        ws.append(w)\n",
    "        losses.append(loss)\n",
    "        print(\"SGD iter. {bi}/{ti}: loss={l}, w0={w0}, w1={w1}\".format(\n",
    "              bi=n_iter, ti=max_iters - 1, l=loss, w0=w[0], w1=w[1]))\n",
    "    return losses, ws"
   ]
  },
  {
   "cell_type": "code",
   "execution_count": 16,
   "metadata": {
    "scrolled": true
   },
   "outputs": [
    {
     "name": "stdout",
     "output_type": "stream",
     "text": [
      "SGD iter. 0/49: loss=2792.236712759167, w0=50.08080664606893, w1=1.2031138493963716\n",
      "SGD iter. 1/49: loss=360.1676865510404, w0=66.83558435470279, w1=11.20624639085444\n",
      "SGD iter. 2/49: loss=38.82527437967351, w0=70.2384854636353, w1=12.185029947369072\n",
      "SGD iter. 3/49: loss=20.891835461012754, w0=72.63689230245117, w1=12.026517464984826\n",
      "SGD iter. 4/49: loss=16.65761969236591, w0=74.00490428248001, w1=12.925406926018306\n",
      "SGD iter. 5/49: loss=15.79226306897055, w0=74.16992392607968, w1=12.725725041807877\n",
      "SGD iter. 6/49: loss=16.053826048770972, w0=73.89952224522887, w1=13.044819733525332\n",
      "SGD iter. 7/49: loss=15.663829526958336, w0=73.18593481651006, w1=13.821501548924465\n",
      "SGD iter. 8/49: loss=15.450128384158159, w0=73.3675012215769, w1=14.555197306759014\n",
      "SGD iter. 9/49: loss=15.966928674301466, w0=73.98006167388634, w1=14.179444082880636\n",
      "SGD iter. 10/49: loss=15.866093882955909, w0=73.78569027614652, w1=13.519781523776611\n",
      "SGD iter. 11/49: loss=15.50760865244433, w0=73.92553985875294, w1=13.319811071538071\n",
      "SGD iter. 12/49: loss=15.598142650264293, w0=72.54630707717116, w1=13.273415660966812\n",
      "SGD iter. 13/49: loss=15.686631086307445, w0=73.12413186256087, w1=12.757231736692324\n",
      "SGD iter. 14/49: loss=15.661291394278303, w0=73.18033553553005, w1=13.100509750650382\n",
      "SGD iter. 15/49: loss=15.46423614942874, w0=73.85347285270575, w1=13.469731616593704\n",
      "SGD iter. 16/49: loss=15.54248625440123, w0=73.1494428236288, w1=13.865676927402186\n",
      "SGD iter. 17/49: loss=15.470809280037871, w0=73.82691617562058, w1=13.983258361265396\n",
      "SGD iter. 18/49: loss=15.654708513264831, w0=73.54566110689804, w1=13.188048611757473\n",
      "SGD iter. 19/49: loss=15.460108050161379, w0=73.19152451856807, w1=13.571853967672675\n",
      "SGD iter. 20/49: loss=15.395375522169413, w0=72.78496146191374, w1=14.2490830337693\n",
      "SGD iter. 21/49: loss=15.811373843699133, w0=73.72343352648649, w1=14.15356488155661\n",
      "SGD iter. 22/49: loss=15.70516650349012, w0=74.43033793994418, w1=13.389972102577294\n",
      "SGD iter. 23/49: loss=16.035635124347326, w0=74.75066923443926, w1=13.654250859852105\n",
      "SGD iter. 24/49: loss=16.462175949162724, w0=74.42613204424067, w1=13.445101630581476\n",
      "SGD iter. 25/49: loss=16.027436612476485, w0=74.13372472342041, w1=13.336873355089296\n",
      "SGD iter. 26/49: loss=15.748723675566932, w0=74.49195625702026, w1=13.663794015023747\n",
      "SGD iter. 27/49: loss=16.120473920858394, w0=73.83974363303248, w1=13.64950288837639\n",
      "SGD iter. 28/49: loss=15.549262894254207, w0=73.6236467383805, w1=13.190924384446815\n",
      "SGD iter. 29/49: loss=15.481946338753307, w0=74.11997164012453, w1=13.12684976951422\n",
      "SGD iter. 30/49: loss=15.789322901408346, w0=73.5305126473356, w1=13.210137318937345\n",
      "SGD iter. 31/49: loss=15.450210807131816, w0=72.73969272919612, w1=13.813582328862477\n",
      "SGD iter. 32/49: loss=15.595207465321582, w0=72.68708211404989, w1=13.237445674348665\n",
      "SGD iter. 33/49: loss=15.599361785352475, w0=73.78506208819061, w1=14.290124306383301\n",
      "SGD iter. 34/49: loss=15.834880861557767, w0=73.69585185051795, w1=13.650619943577562\n",
      "SGD iter. 35/49: loss=15.48126635859792, w0=74.10465521359433, w1=13.046444552953684\n",
      "SGD iter. 36/49: loss=15.808392567736854, w0=73.00051964837972, w1=13.53153486644381\n",
      "SGD iter. 37/49: loss=15.430273121616164, w0=73.3487803412963, w1=12.778606712289887\n",
      "SGD iter. 38/49: loss=15.63316720471956, w0=73.31774900872175, w1=12.715518629706684\n",
      "SGD iter. 39/49: loss=15.678167817967525, w0=72.7606718257634, w1=12.342157452317096\n",
      "SGD iter. 40/49: loss=16.175081413414567, w0=72.38357753576368, w1=12.745837859718279\n",
      "SGD iter. 41/49: loss=16.069537338643133, w0=72.59629682790242, w1=13.323340499989671\n",
      "SGD iter. 42/49: loss=15.641454401697844, w0=72.43190487540183, w1=12.963147499970693\n",
      "SGD iter. 43/49: loss=15.890844298239621, w0=73.57206856870704, w1=14.088041765647294\n",
      "SGD iter. 44/49: loss=15.609602912355154, w0=73.19734118665698, w1=13.543844147554196\n",
      "SGD iter. 45/49: loss=15.39260823406399, w0=74.54999984309993, w1=13.244465437856412\n",
      "SGD iter. 46/49: loss=16.20242421497836, w0=73.7357998702778, w1=13.864215969038467\n",
      "SGD iter. 47/49: loss=15.557437377868034, w0=74.64280717862557, w1=13.01146168278723\n",
      "SGD iter. 48/49: loss=16.405262862016396, w0=74.5757312477535, w1=12.690968620725958\n",
      "SGD iter. 49/49: loss=16.518463742213285, w0=73.74780307027567, w1=12.762287123186542\n",
      "SGD: execution time=0.050 seconds\n"
     ]
    }
   ],
   "source": [
    "# from stochastic_gradient_descent import *\n",
    "\n",
    "# Define the parameters of the algorithm.\n",
    "max_iters = 50\n",
    "gamma = 0.7\n",
    "batch_size = 50\n",
    "\n",
    "# Initialization\n",
    "w_initial = np.array([0, 0])\n",
    "\n",
    "# Start SGD.\n",
    "start_time = datetime.datetime.now()\n",
    "sgd_losses, sgd_ws = stochastic_gradient_descent(\n",
    "    y, tx, w_initial, batch_size, max_iters, gamma)\n",
    "end_time = datetime.datetime.now()\n",
    "\n",
    "# Print result\n",
    "exection_time = (end_time - start_time).total_seconds()\n",
    "print(\"SGD: execution time={t:.3f} seconds\".format(t=exection_time))"
   ]
  },
  {
   "cell_type": "code",
   "execution_count": 17,
   "metadata": {},
   "outputs": [
    {
     "data": {
      "application/vnd.jupyter.widget-view+json": {
       "model_id": "39ad3949d2a444ad9227290c98ab84a8",
       "version_major": 2,
       "version_minor": 0
      },
      "text/plain": [
       "interactive(children=(IntSlider(value=1, description='n_iter', max=51, min=1), Output()), _dom_classes=('widge…"
      ]
     },
     "metadata": {},
     "output_type": "display_data"
    },
    {
     "data": {
      "text/plain": [
       "<function __main__.plot_figure(n_iter)>"
      ]
     },
     "execution_count": 17,
     "metadata": {},
     "output_type": "execute_result"
    }
   ],
   "source": [
    "# Time Visualization\n",
    "from ipywidgets import IntSlider, interact\n",
    "def plot_figure(n_iter):\n",
    "    fig = gradient_descent_visualization(\n",
    "        sgd_losses, sgd_ws, grid_losses, grid_w0, grid_w1, mean_x, std_x, height, weight, n_iter)\n",
    "    fig.set_size_inches(10.0, 6.0)\n",
    "\n",
    "interact(plot_figure, n_iter=IntSlider(min=1, max=len(sgd_ws)))"
   ]
  },
  {
   "cell_type": "markdown",
   "metadata": {},
   "source": [
    "# 5. Effect of Outliers and MAE Cost Function"
   ]
  },
  {
   "cell_type": "code",
   "execution_count": 18,
   "metadata": {},
   "outputs": [],
   "source": [
    "import datetime\n",
    "from helpers import *\n",
    "\n",
    "# ***************************************************\n",
    "# INSERT YOUR CODE HERE\n",
    "# TODO: reload the data by subsampling first, then by subsampling and adding outliers\n",
    "\n",
    "height, weight, gender = load_data(sub_sample=True, add_outlier=True)\n",
    "# ***************************************************\n",
    "\n",
    "\n",
    "x, mean_x, std_x = standardize(height)\n",
    "y, tx = build_model_data(x, weight)"
   ]
  },
  {
   "cell_type": "code",
   "execution_count": 19,
   "metadata": {},
   "outputs": [
    {
     "data": {
      "text/plain": [
       "((202,), (202, 2))"
      ]
     },
     "execution_count": 19,
     "metadata": {},
     "output_type": "execute_result"
    }
   ],
   "source": [
    "y.shape, tx.shape"
   ]
  },
  {
   "cell_type": "code",
   "execution_count": 20,
   "metadata": {},
   "outputs": [
    {
     "name": "stdout",
     "output_type": "stream",
     "text": [
      "GD iter. 0/49: loss=57.97066931362423, w0=51.84746409844842, w1=7.7244264061924195\n",
      "GD iter. 1/49: loss=6.42929891897225, w0=67.40170332798297, w1=10.041754328050114\n",
      "GD iter. 2/49: loss=1.7905755834535588, w0=72.06797509684336, w1=10.736952704607411\n",
      "GD iter. 3/49: loss=1.373090483256875, w0=73.46785662750146, w1=10.945512217574597\n",
      "GD iter. 4/49: loss=1.3355168242391737, w0=73.88782108669889, w1=11.00808007146475\n",
      "GD iter. 5/49: loss=1.332135194927581, w0=74.01381042445813, w1=11.026850427631798\n",
      "GD iter. 6/49: loss=1.3318308482895376, w0=74.0516072257859, w1=11.032481534481914\n",
      "GD iter. 7/49: loss=1.3318034570921136, w0=74.06294626618423, w1=11.034170866536945\n",
      "GD iter. 8/49: loss=1.3318009918843454, w0=74.06634797830372, w1=11.034677666153454\n",
      "GD iter. 9/49: loss=1.3318007700156462, w0=74.06736849193958, w1=11.034829706038408\n",
      "GD iter. 10/49: loss=1.3318007500474633, w0=74.06767464603033, w1=11.034875318003895\n",
      "GD iter. 11/49: loss=1.331800748250327, w0=74.06776649225755, w1=11.034889001593541\n",
      "GD iter. 12/49: loss=1.331800748088585, w0=74.06779404612573, w1=11.034893106670431\n",
      "GD iter. 13/49: loss=1.3318007480740282, w0=74.06780231228618, w1=11.034894338193501\n",
      "GD iter. 14/49: loss=1.3318007480727179, w0=74.06780479213431, w1=11.034894707650421\n",
      "GD iter. 15/49: loss=1.3318007480725997, w0=74.06780553608874, w1=11.034894818487496\n",
      "GD iter. 16/49: loss=1.3318007480725893, w0=74.06780575927507, w1=11.03489485173862\n",
      "GD iter. 17/49: loss=1.3318007480725884, w0=74.06780582623098, w1=11.034894861713957\n",
      "GD iter. 18/49: loss=1.3318007480725882, w0=74.06780584631775, w1=11.034894864706557\n",
      "GD iter. 19/49: loss=1.3318007480725884, w0=74.06780585234378, w1=11.034894865604338\n",
      "GD iter. 20/49: loss=1.3318007480725884, w0=74.06780585415159, w1=11.034894865873675\n",
      "GD iter. 21/49: loss=1.3318007480725882, w0=74.06780585469393, w1=11.034894865954474\n",
      "GD iter. 22/49: loss=1.3318007480725884, w0=74.06780585485663, w1=11.034894865978712\n",
      "GD iter. 23/49: loss=1.3318007480725882, w0=74.06780585490544, w1=11.034894865985985\n",
      "GD iter. 24/49: loss=1.3318007480725884, w0=74.0678058549201, w1=11.034894865988166\n",
      "GD iter. 25/49: loss=1.3318007480725884, w0=74.06780585492449, w1=11.034894865988822\n",
      "GD iter. 26/49: loss=1.3318007480725884, w0=74.06780585492581, w1=11.034894865989015\n",
      "GD iter. 27/49: loss=1.3318007480725884, w0=74.06780585492619, w1=11.034894865989076\n",
      "GD iter. 28/49: loss=1.3318007480725884, w0=74.06780585492632, w1=11.034894865989099\n",
      "GD iter. 29/49: loss=1.3318007480725884, w0=74.06780585492635, w1=11.0348948659891\n",
      "GD iter. 30/49: loss=1.3318007480725884, w0=74.06780585492636, w1=11.0348948659891\n",
      "GD iter. 31/49: loss=1.3318007480725884, w0=74.06780585492636, w1=11.0348948659891\n",
      "GD iter. 32/49: loss=1.3318007480725884, w0=74.06780585492636, w1=11.0348948659891\n",
      "GD iter. 33/49: loss=1.3318007480725884, w0=74.06780585492636, w1=11.0348948659891\n",
      "GD iter. 34/49: loss=1.3318007480725884, w0=74.06780585492636, w1=11.0348948659891\n",
      "GD iter. 35/49: loss=1.3318007480725884, w0=74.06780585492636, w1=11.0348948659891\n",
      "GD iter. 36/49: loss=1.3318007480725884, w0=74.06780585492636, w1=11.0348948659891\n",
      "GD iter. 37/49: loss=1.3318007480725884, w0=74.06780585492636, w1=11.0348948659891\n",
      "GD iter. 38/49: loss=1.3318007480725884, w0=74.06780585492636, w1=11.0348948659891\n",
      "GD iter. 39/49: loss=1.3318007480725884, w0=74.06780585492636, w1=11.0348948659891\n",
      "GD iter. 40/49: loss=1.3318007480725884, w0=74.06780585492636, w1=11.0348948659891\n",
      "GD iter. 41/49: loss=1.3318007480725884, w0=74.06780585492636, w1=11.0348948659891\n",
      "GD iter. 42/49: loss=1.3318007480725884, w0=74.06780585492636, w1=11.0348948659891\n",
      "GD iter. 43/49: loss=1.3318007480725884, w0=74.06780585492636, w1=11.0348948659891\n",
      "GD iter. 44/49: loss=1.3318007480725884, w0=74.06780585492636, w1=11.0348948659891\n",
      "GD iter. 45/49: loss=1.3318007480725884, w0=74.06780585492636, w1=11.0348948659891\n",
      "GD iter. 46/49: loss=1.3318007480725884, w0=74.06780585492636, w1=11.0348948659891\n",
      "GD iter. 47/49: loss=1.3318007480725884, w0=74.06780585492636, w1=11.0348948659891\n",
      "GD iter. 48/49: loss=1.3318007480725884, w0=74.06780585492636, w1=11.0348948659891\n",
      "GD iter. 49/49: loss=1.3318007480725884, w0=74.06780585492636, w1=11.0348948659891\n",
      "GD: execution time=0.000 seconds\n"
     ]
    }
   ],
   "source": [
    "from plots import gradient_descent_visualization\n",
    "\n",
    "# Define the parameters of the algorithm.\n",
    "max_iters = 50\n",
    "gamma = 0.7\n",
    "\n",
    "# Initialization\n",
    "w_initial = np.array([0, 0])\n",
    "\n",
    "# Start gradient descent.\n",
    "start_time = datetime.datetime.now()\n",
    "\n",
    "\n",
    "gd_losses, gd_ws = gradient_descent(y, tx, w_initial, max_iters, gamma, True)\n",
    "\n",
    "\n",
    "end_time = datetime.datetime.now()\n",
    "\n",
    "# Print result\n",
    "exection_time = (end_time - start_time).total_seconds()\n",
    "print(\"GD: execution time={t:.3f} seconds\".format(t=exection_time))"
   ]
  },
  {
   "cell_type": "code",
   "execution_count": 21,
   "metadata": {},
   "outputs": [
    {
     "data": {
      "application/vnd.jupyter.widget-view+json": {
       "model_id": "cac32236a3e54bc79df80c1c1ccb8702",
       "version_major": 2,
       "version_minor": 0
      },
      "text/plain": [
       "interactive(children=(IntSlider(value=1, description='n_iter', max=51, min=1), Output()), _dom_classes=('widge…"
      ]
     },
     "metadata": {},
     "output_type": "display_data"
    },
    {
     "data": {
      "text/plain": [
       "<function __main__.plot_figure(n_iter)>"
      ]
     },
     "execution_count": 21,
     "metadata": {},
     "output_type": "execute_result"
    }
   ],
   "source": [
    "# Time Visualization\n",
    "from ipywidgets import IntSlider, interact\n",
    "def plot_figure(n_iter):\n",
    "    fig = gradient_descent_visualization(\n",
    "        gd_losses, gd_ws, grid_losses, grid_w0, grid_w1, mean_x, std_x, height, weight, n_iter)\n",
    "    fig.set_size_inches(10.0, 6.0)\n",
    "\n",
    "interact(plot_figure, n_iter=IntSlider(min=1, max=len(gd_ws)))"
   ]
  },
  {
   "cell_type": "markdown",
   "metadata": {
    "collapsed": true
   },
   "source": [
    "# 6. Subgradient descent"
   ]
  },
  {
   "cell_type": "code",
   "execution_count": 22,
   "metadata": {},
   "outputs": [
    {
     "data": {
      "text/plain": [
       "array([-0.93069307, -0.17126666])"
      ]
     },
     "execution_count": 22,
     "metadata": {},
     "output_type": "execute_result"
    }
   ],
   "source": [
    "def compute_subgradient_mae(y, tx, w):\n",
    "    \"\"\"Compute a subgradient of the MAE at w.\n",
    "        \n",
    "    Args:\n",
    "        y: numpy array of shape=(N, )\n",
    "        tx: numpy array of shape=(N,2)\n",
    "        w: numpy array of shape=(2, ). The vector of model parameters.\n",
    "        \n",
    "    Returns:\n",
    "        A numpy array of shape (2, ) (same shape as w), containing the subgradient of the MAE at w.\n",
    "    \"\"\"\n",
    "    # ***************************************************\n",
    "    # INSERT YOUR CODE HERE\n",
    "    # TODO: compute subgradient gradient vector for MAE\n",
    "    N = y.shape[0]\n",
    "    return -1/N * tx.T.dot(np.sign(get_err(y,tx,w)))\n",
    "    # ***************************************************\n",
    "def compute_loss_mae(y,tx,w):\n",
    "    return np.abs(get_err(y,tx,w)).sum()\n",
    "compute_subgradient_mae(y,tx,w)"
   ]
  },
  {
   "cell_type": "code",
   "execution_count": 23,
   "metadata": {},
   "outputs": [],
   "source": [
    "def subgradient_descent(y, tx, initial_w, max_iters, gamma):\n",
    "    \"\"\"The SubGradient Descent (SubGD) algorithm.\n",
    "        \n",
    "    Args:\n",
    "        y: numpy array of shape=(N, )\n",
    "        tx: numpy array of shape=(N,2)\n",
    "        initial_w: numpy array of shape=(2, ). The initial guess (or the initialization) for the model parameters\n",
    "        max_iters: a scalar denoting the total number of iterations of GD\n",
    "        gamma: a scalar denoting the stepsize\n",
    "        \n",
    "    Returns:\n",
    "        losses: a list of length max_iters containing the loss value (scalar) for each iteration of SubGD\n",
    "        ws: a list of length max_iters containing the model parameters as numpy arrays of shape (2, ), for each iteration of SubGD \n",
    "    \"\"\"\n",
    "    # Define parameters to store w and loss\n",
    "    ws = [initial_w]\n",
    "    losses = []\n",
    "    w = initial_w\n",
    "    for n_iter in range(max_iters):\n",
    "        # ***************************************************\n",
    "        # INSERT YOUR CODE HERE\n",
    "        # TODO: compute subgradient and loss\n",
    "        subgradient = compute_subgradient_mae(y, tx, w)\n",
    "        # ***************************************************\n",
    "        # ***************************************************\n",
    "        # INSERT YOUR CODE HERE\n",
    "        # TODO: update w by subgradient\n",
    "        w = w -gamma * subgradient\n",
    "        # ***************************************************\n",
    "        loss = compute_loss_mae(y,tx,w)\n",
    "        ws.append(w)\n",
    "        losses.append(loss)\n",
    "        print(\"SubGD iter. {bi}/{ti}: loss={l}, w0={w0}, w1={w1}\".format(\n",
    "              bi=n_iter, ti=max_iters - 1, l=loss, w0=w[0], w1=w[1]))\n",
    "\n",
    "    return losses, ws"
   ]
  },
  {
   "cell_type": "code",
   "execution_count": 24,
   "metadata": {},
   "outputs": [
    {
     "name": "stdout",
     "output_type": "stream",
     "text": [
      "SubGD iter. 0/499: loss=14820.296782695128, w0=0.7, w1=6.109524327590712e-16\n",
      "SubGD iter. 1/499: loss=14678.896782695127, w0=1.4, w1=1.2219048655181425e-15\n",
      "SubGD iter. 2/499: loss=14537.496782695129, w0=2.0999999999999996, w1=1.832857298277214e-15\n",
      "SubGD iter. 3/499: loss=14396.096782695127, w0=2.8, w1=2.443809731036285e-15\n",
      "SubGD iter. 4/499: loss=14254.69678269513, w0=3.5, w1=3.054762163795356e-15\n",
      "SubGD iter. 5/499: loss=14113.296782695128, w0=4.2, w1=3.665714596554428e-15\n",
      "SubGD iter. 6/499: loss=13971.896782695128, w0=4.9, w1=4.276667029313499e-15\n",
      "SubGD iter. 7/499: loss=13830.496782695127, w0=5.6000000000000005, w1=4.887619462072571e-15\n",
      "SubGD iter. 8/499: loss=13689.096782695127, w0=6.300000000000001, w1=5.498571894831642e-15\n",
      "SubGD iter. 9/499: loss=13547.69678269513, w0=7.000000000000001, w1=6.109524327590714e-15\n",
      "SubGD iter. 10/499: loss=13406.296782695128, w0=7.700000000000001, w1=6.720476760349785e-15\n",
      "SubGD iter. 11/499: loss=13264.896782695128, w0=8.4, w1=7.331429193108857e-15\n",
      "SubGD iter. 12/499: loss=13123.496782695129, w0=9.1, w1=7.942381625867928e-15\n",
      "SubGD iter. 13/499: loss=12982.096782695127, w0=9.799999999999999, w1=8.553334058627e-15\n",
      "SubGD iter. 14/499: loss=12840.69678269513, w0=10.499999999999998, w1=9.164286491386072e-15\n",
      "SubGD iter. 15/499: loss=12699.296782695128, w0=11.199999999999998, w1=9.775238924145143e-15\n",
      "SubGD iter. 16/499: loss=12557.89678269513, w0=11.899999999999997, w1=1.0386191356904215e-14\n",
      "SubGD iter. 17/499: loss=12416.496782695129, w0=12.599999999999996, w1=1.0997143789663286e-14\n",
      "SubGD iter. 18/499: loss=12275.09678269513, w0=13.299999999999995, w1=1.1608096222422358e-14\n",
      "SubGD iter. 19/499: loss=12133.69678269513, w0=13.999999999999995, w1=1.2219048655181429e-14\n",
      "SubGD iter. 20/499: loss=11992.29678269513, w0=14.699999999999994, w1=1.28300010879405e-14\n",
      "SubGD iter. 21/499: loss=11850.89678269513, w0=15.399999999999993, w1=1.3440953520699572e-14\n",
      "SubGD iter. 22/499: loss=11709.496782695129, w0=16.099999999999994, w1=1.4051905953458644e-14\n",
      "SubGD iter. 23/499: loss=11568.09678269513, w0=16.799999999999994, w1=1.4662858386217714e-14\n",
      "SubGD iter. 24/499: loss=11426.69678269513, w0=17.499999999999993, w1=1.5273810818976784e-14\n",
      "SubGD iter. 25/499: loss=11285.296782695132, w0=18.199999999999992, w1=1.5884763251735854e-14\n",
      "SubGD iter. 26/499: loss=11143.89678269513, w0=18.89999999999999, w1=1.6495715684494924e-14\n",
      "SubGD iter. 27/499: loss=11002.496782695129, w0=19.59999999999999, w1=1.7106668117253994e-14\n",
      "SubGD iter. 28/499: loss=10861.096782695131, w0=20.29999999999999, w1=1.7717620550013064e-14\n",
      "SubGD iter. 29/499: loss=10719.696782695131, w0=20.99999999999999, w1=1.8328572982772134e-14\n",
      "SubGD iter. 30/499: loss=10578.296782695132, w0=21.69999999999999, w1=1.8939525415531204e-14\n",
      "SubGD iter. 31/499: loss=10436.89678269513, w0=22.399999999999988, w1=1.9550477848290273e-14\n",
      "SubGD iter. 32/499: loss=10295.49678269513, w0=23.099999999999987, w1=2.0161430281049343e-14\n",
      "SubGD iter. 33/499: loss=10154.096782695131, w0=23.799999999999986, w1=2.0772382713808413e-14\n",
      "SubGD iter. 34/499: loss=10012.696782695131, w0=24.499999999999986, w1=2.1383335146567483e-14\n",
      "SubGD iter. 35/499: loss=9871.296782695132, w0=25.199999999999985, w1=2.1994287579326553e-14\n",
      "SubGD iter. 36/499: loss=9729.896782695132, w0=25.899999999999984, w1=2.2605240012085623e-14\n",
      "SubGD iter. 37/499: loss=9588.496782695132, w0=26.599999999999984, w1=2.3216192444844693e-14\n",
      "SubGD iter. 38/499: loss=9447.096782695133, w0=27.299999999999983, w1=2.3827144877603763e-14\n",
      "SubGD iter. 39/499: loss=9305.696782695133, w0=27.999999999999982, w1=2.4438097310362833e-14\n",
      "SubGD iter. 40/499: loss=9164.296782695132, w0=28.69999999999998, w1=2.5049049743121903e-14\n",
      "SubGD iter. 41/499: loss=9022.896782695132, w0=29.39999999999998, w1=2.5660002175880973e-14\n",
      "SubGD iter. 42/499: loss=8881.496782695132, w0=30.09999999999998, w1=2.6270954608640043e-14\n",
      "SubGD iter. 43/499: loss=8740.096782695133, w0=30.79999999999998, w1=2.6881907041399113e-14\n",
      "SubGD iter. 44/499: loss=8598.696782695133, w0=31.49999999999998, w1=2.7492859474158183e-14\n",
      "SubGD iter. 45/499: loss=8457.296782695132, w0=32.19999999999998, w1=2.8103811906917253e-14\n",
      "SubGD iter. 46/499: loss=8315.89678269513, w0=32.899999999999984, w1=2.871476433967632e-14\n",
      "SubGD iter. 47/499: loss=8174.496782695131, w0=33.59999999999999, w1=2.9325716772435396e-14\n",
      "SubGD iter. 48/499: loss=8033.096782695131, w0=34.29999999999999, w1=2.993666920519447e-14\n",
      "SubGD iter. 49/499: loss=7891.6967826951295, w0=34.99999999999999, w1=3.054762163795354e-14\n",
      "SubGD iter. 50/499: loss=7750.296782695129, w0=35.699999999999996, w1=3.1158574070712615e-14\n",
      "SubGD iter. 51/499: loss=7608.896782695128, w0=36.4, w1=3.176952650347169e-14\n",
      "SubGD iter. 52/499: loss=7467.496782695129, w0=37.1, w1=3.238047893623076e-14\n",
      "SubGD iter. 53/499: loss=7326.096782695127, w0=37.800000000000004, w1=3.2991431368989835e-14\n",
      "SubGD iter. 54/499: loss=7184.696782695127, w0=38.50000000000001, w1=3.360238380174891e-14\n",
      "SubGD iter. 55/499: loss=7043.296782695126, w0=39.20000000000001, w1=3.421333623450798e-14\n",
      "SubGD iter. 56/499: loss=6901.896782695127, w0=39.90000000000001, w1=3.4824288667267054e-14\n",
      "SubGD iter. 57/499: loss=6760.496782695125, w0=40.600000000000016, w1=3.543524110002613e-14\n",
      "SubGD iter. 58/499: loss=6619.0967826951255, w0=41.30000000000002, w1=3.60461935327852e-14\n",
      "SubGD iter. 59/499: loss=6477.696782695124, w0=42.00000000000002, w1=3.6657145965544273e-14\n",
      "SubGD iter. 60/499: loss=6336.296782695124, w0=42.700000000000024, w1=3.7268098398303347e-14\n",
      "SubGD iter. 61/499: loss=6194.896782695123, w0=43.40000000000003, w1=3.787905083106242e-14\n",
      "SubGD iter. 62/499: loss=6053.496782695122, w0=44.10000000000003, w1=3.849000326382149e-14\n",
      "SubGD iter. 63/499: loss=5912.096782695122, w0=44.80000000000003, w1=3.9100955696580566e-14\n",
      "SubGD iter. 64/499: loss=5770.696782695121, w0=45.500000000000036, w1=3.971190812933964e-14\n",
      "SubGD iter. 65/499: loss=5629.296782695121, w0=46.20000000000004, w1=4.032286056209871e-14\n",
      "SubGD iter. 66/499: loss=5489.000582353122, w0=46.90000000000004, w1=4.0933812994857785e-14\n",
      "SubGD iter. 67/499: loss=5351.071215877741, w0=47.59306930693074, w1=0.011147845678271063\n",
      "SubGD iter. 68/499: loss=5215.076889199575, w0=48.279207920792125, w1=0.03308574108989941\n",
      "SubGD iter. 69/499: loss=5081.317965800603, w0=48.96534653465351, w1=0.05502363650152776\n",
      "SubGD iter. 70/499: loss=4953.868889606745, w0=49.63069306930698, w1=0.10538326388307814\n",
      "SubGD iter. 71/499: loss=4827.65765989919, w0=50.28910891089114, w1=0.16746568532793435\n",
      "SubGD iter. 72/499: loss=4703.447370982743, w0=50.947524752475296, w1=0.22954810677279056\n",
      "SubGD iter. 73/499: loss=4582.749041724733, w0=51.59207920792084, w1=0.31242512932747524\n",
      "SubGD iter. 74/499: loss=4465.466049067391, w0=52.22277227722777, w1=0.4119501328839991\n",
      "SubGD iter. 75/499: loss=4350.639403257704, w0=52.84653465346539, w1=0.5208167847923756\n",
      "SubGD iter. 76/499: loss=4239.24065467495, w0=53.4564356435644, w1=0.6457900912635992\n",
      "SubGD iter. 77/499: loss=4130.00330919733, w0=54.0594059405941, w1=0.7796904498577214\n",
      "SubGD iter. 78/499: loss=4022.2058521094855, w0=54.655445544554496, w1=0.9197570104995693\n",
      "SubGD iter. 79/499: loss=3916.708106293773, w0=55.24455445544559, w1=1.0670920297849913\n",
      "SubGD iter. 80/499: loss=3815.373791007969, w0=55.819801980198065, w1=1.2261255948210765\n",
      "SubGD iter. 81/499: loss=3720.0240213745556, w0=56.36732673267331, w1=1.410709342622213\n",
      "SubGD iter. 82/499: loss=3626.889505694158, w0=56.900990099009945, w1=1.605853732220269\n",
      "SubGD iter. 83/499: loss=3536.1630466291244, w0=57.42772277227727, w1=1.808762802293962\n",
      "SubGD iter. 84/499: loss=3449.1414002401857, w0=57.933663366336674, w1=2.0285064197514697\n",
      "SubGD iter. 85/499: loss=3363.8993940970004, w0=58.43267326732677, w1=2.2494370848672776\n",
      "SubGD iter. 86/499: loss=3282.205227762339, w0=58.91089108910895, w1=2.4837982986028337\n",
      "SubGD iter. 87/499: loss=3201.51925295614, w0=59.382178217821824, w1=2.7260245553531504\n",
      "SubGD iter. 88/499: loss=3124.3177978287285, w0=59.83960396039608, w1=2.978742333469136\n",
      "SubGD iter. 89/499: loss=3051.8755135454676, w0=60.262376237623805, w1=3.251528669355438\n",
      "SubGD iter. 90/499: loss=2980.489061876412, w0=60.67821782178222, w1=3.5270865794242794\n",
      "SubGD iter. 91/499: loss=2909.7148502472965, w0=61.087128712871326, w1=3.806459183951815\n",
      "SubGD iter. 92/499: loss=2839.2689796817103, w0=61.49603960396043, w1=4.085831788479351\n",
      "SubGD iter. 93/499: loss=2770.3534241443385, w0=61.891089108910926, w1=4.373839384328607\n",
      "SubGD iter. 94/499: loss=2703.009734071399, w0=62.27920792079211, w1=4.666037469532047\n",
      "SubGD iter. 95/499: loss=2637.88196626358, w0=62.65346534653469, w1=4.959829093241769\n",
      "SubGD iter. 96/499: loss=2573.5308483165263, w0=63.02079207920796, w1=5.25705719205664\n",
      "SubGD iter. 97/499: loss=2509.4902155287346, w0=63.38118811881192, w1=5.560434316352406\n",
      "SubGD iter. 98/499: loss=2445.727469844037, w0=63.74158415841588, w1=5.863811440648173\n",
      "SubGD iter. 99/499: loss=2383.7256636744232, w0=64.08811881188123, w1=6.172402175278548\n",
      "SubGD iter. 100/499: loss=2321.9984425185785, w0=64.42772277227726, w1=6.486369310516498\n",
      "SubGD iter. 101/499: loss=2260.2712213627324, w0=64.7673267326733, w1=6.800336445754448\n",
      "SubGD iter. 102/499: loss=2198.5440002068867, w0=65.10693069306933, w1=7.114303580992399\n",
      "SubGD iter. 103/499: loss=2138.087868479267, w0=65.44653465346536, w1=7.428270716230349\n",
      "SubGD iter. 104/499: loss=2079.754939932426, w0=65.76534653465349, w1=7.747893210218626\n",
      "SubGD iter. 105/499: loss=2022.293120406715, w0=66.070297029703, w1=8.073669686866905\n",
      "SubGD iter. 106/499: loss=1965.0730339869624, w0=66.37524752475251, w1=8.399446163515185\n",
      "SubGD iter. 107/499: loss=1908.521343146747, w0=66.6663366336634, w1=8.73297028041739\n",
      "SubGD iter. 108/499: loss=1852.5503030275274, w0=66.9574257425743, w1=9.066494397319596\n",
      "SubGD iter. 109/499: loss=1798.5385384941108, w0=67.23465346534658, w1=9.39863031947029\n",
      "SubGD iter. 110/499: loss=1744.5267739606938, w0=67.51188118811886, w1=9.730766241620982\n",
      "SubGD iter. 111/499: loss=1691.9826879010798, w0=67.78910891089114, w1=10.062902163771675\n",
      "SubGD iter. 112/499: loss=1644.3892494278023, w0=68.06633663366343, w1=10.363999289979422\n",
      "SubGD iter. 113/499: loss=1599.5459893226491, w0=68.32970297029709, w1=10.660466909273612\n",
      "SubGD iter. 114/499: loss=1556.466505132154, w0=68.59306930693076, w1=10.943174379960814\n",
      "SubGD iter. 115/499: loss=1513.7265578980855, w0=68.85643564356442, w1=11.225881850648015\n",
      "SubGD iter. 116/499: loss=1472.57846596017, w0=69.11287128712878, w1=11.504395843582206\n",
      "SubGD iter. 117/499: loss=1433.6412752278718, w0=69.35544554455453, w1=11.78820189306775\n",
      "SubGD iter. 118/499: loss=1397.8208695231224, w0=69.58415841584166, w1=12.060911465190971\n",
      "SubGD iter. 119/499: loss=1363.6158525177216, w0=69.80594059405948, w1=12.324245668386048\n",
      "SubGD iter. 120/499: loss=1330.1184517827442, w0=70.0277227722773, w1=12.587579871581125\n",
      "SubGD iter. 121/499: loss=1298.9293418222567, w0=70.25643564356443, w1=12.824765405096484\n",
      "SubGD iter. 122/499: loss=1268.1704393418513, w0=70.47821782178225, w1=13.065616959310148\n",
      "SubGD iter. 123/499: loss=1238.9999925111913, w0=70.69306930693077, w1=13.302953389983912\n",
      "SubGD iter. 124/499: loss=1213.179841265292, w0=70.89405940594067, w1=13.525403099312918\n",
      "SubGD iter. 125/499: loss=1188.7744086950902, w0=71.08811881188126, w1=13.742945617944212\n",
      "SubGD iter. 126/499: loss=1165.870320958471, w0=71.27524752475254, w1=13.953548196006844\n",
      "SubGD iter. 127/499: loss=1144.7667364816318, w0=71.46237623762383, w1=14.164150774069476\n",
      "SubGD iter. 128/499: loss=1128.5188067306156, w0=71.62178217821788, w1=14.349779559473173\n",
      "SubGD iter. 129/499: loss=1115.8172580563983, w0=71.75346534653471, w1=14.51689010761231\n",
      "SubGD iter. 130/499: loss=1106.9789291355582, w0=71.87128712871292, w1=14.670791185324186\n",
      "SubGD iter. 131/499: loss=1101.523776707409, w0=71.95445544554461, w1=14.780276456654521\n",
      "SubGD iter. 132/499: loss=1096.3333114343068, w0=72.0376237623763, w1=14.889761727984856\n",
      "SubGD iter. 133/499: loss=1092.279134027916, w0=72.10693069306937, w1=14.985916181776727\n",
      "SubGD iter. 134/499: loss=1088.224956621525, w0=72.17623762376245, w1=15.082070635568597\n",
      "SubGD iter. 135/499: loss=1084.8330776284165, w0=72.24554455445552, w1=15.178225089360467\n",
      "SubGD iter. 136/499: loss=1082.1961177136177, w0=72.30099009900998, w1=15.25972348971591\n",
      "SubGD iter. 137/499: loss=1079.877711332562, w0=72.34950495049513, w1=15.335091856448138\n",
      "SubGD iter. 138/499: loss=1077.8143612225294, w0=72.39801980198028, w1=15.410460223180365\n",
      "SubGD iter. 139/499: loss=1076.668869914003, w0=72.43267326732682, w1=15.469961786755725\n",
      "SubGD iter. 140/499: loss=1075.7866385111915, w0=72.46039603960405, w1=15.51864528583281\n",
      "SubGD iter. 141/499: loss=1075.0796987583713, w0=72.48811881188128, w1=15.561592159086487\n",
      "SubGD iter. 142/499: loss=1074.662484547909, w0=72.5019801980199, w1=15.597828332032526\n",
      "SubGD iter. 143/499: loss=1074.3326135494844, w0=72.52277227722782, w1=15.624722856626713\n",
      "SubGD iter. 144/499: loss=1074.0824898101596, w0=72.55049504950505, w1=15.642690329098\n",
      "SubGD iter. 145/499: loss=1073.914122686212, w0=72.56435643564366, w1=15.664356578291091\n",
      "SubGD iter. 146/499: loss=1073.742538778561, w0=72.58514851485158, w1=15.677095775361284\n",
      "SubGD iter. 147/499: loss=1073.5709548709094, w0=72.6059405940595, w1=15.689834972431477\n",
      "SubGD iter. 148/499: loss=1073.4031299462777, w0=72.62673267326743, w1=15.70257416950167\n",
      "SubGD iter. 149/499: loss=1073.2365538680197, w0=72.64059405940604, w1=15.72424041869476\n",
      "SubGD iter. 150/499: loss=1073.1003234829263, w0=72.66138613861396, w1=15.736979615764954\n",
      "SubGD iter. 151/499: loss=1073.0507104044586, w0=72.66831683168327, w1=15.74811029423128\n",
      "SubGD iter. 152/499: loss=1073.0010973259907, w0=72.67524752475258, w1=15.759240972697606\n",
      "SubGD iter. 153/499: loss=1072.9600803518836, w0=72.68217821782189, w1=15.770371651163932\n",
      "SubGD iter. 154/499: loss=1072.955572760847, w0=72.68217821782189, w1=15.774323911906686\n",
      "SubGD iter. 155/499: loss=1072.9510651698101, w0=72.68217821782189, w1=15.77827617264944\n",
      "SubGD iter. 156/499: loss=1072.9465575787735, w0=72.68217821782189, w1=15.782228433392193\n",
      "SubGD iter. 157/499: loss=1072.942049987737, w0=72.68217821782189, w1=15.786180694134947\n",
      "SubGD iter. 158/499: loss=1072.9375423967, w0=72.68217821782189, w1=15.7901329548777\n",
      "SubGD iter. 159/499: loss=1072.9330348056633, w0=72.68217821782189, w1=15.794085215620454\n",
      "SubGD iter. 160/499: loss=1072.9285272146267, w0=72.68217821782189, w1=15.798037476363207\n",
      "SubGD iter. 161/499: loss=1072.9240196235899, w0=72.68217821782189, w1=15.801989737105961\n",
      "SubGD iter. 162/499: loss=1072.9195120325533, w0=72.68217821782189, w1=15.805941997848715\n",
      "SubGD iter. 163/499: loss=1072.9150044415164, w0=72.68217821782189, w1=15.809894258591468\n",
      "SubGD iter. 164/499: loss=1072.9104968504798, w0=72.68217821782189, w1=15.813846519334222\n",
      "SubGD iter. 165/499: loss=1072.9059892594432, w0=72.68217821782189, w1=15.817798780076975\n",
      "SubGD iter. 166/499: loss=1072.9014816684064, w0=72.68217821782189, w1=15.821751040819729\n",
      "SubGD iter. 167/499: loss=1072.8969740773696, w0=72.68217821782189, w1=15.825703301562482\n",
      "SubGD iter. 168/499: loss=1072.892466486333, w0=72.68217821782189, w1=15.829655562305236\n",
      "SubGD iter. 169/499: loss=1072.8879588952964, w0=72.68217821782189, w1=15.83360782304799\n",
      "SubGD iter. 170/499: loss=1072.8834513042596, w0=72.68217821782189, w1=15.837560083790743\n",
      "SubGD iter. 171/499: loss=1072.8789437132227, w0=72.68217821782189, w1=15.841512344533497\n",
      "SubGD iter. 172/499: loss=1072.8744361221861, w0=72.68217821782189, w1=15.84546460527625\n",
      "SubGD iter. 173/499: loss=1072.8699285311493, w0=72.68217821782189, w1=15.849416866019004\n",
      "SubGD iter. 174/499: loss=1072.8654209401127, w0=72.68217821782189, w1=15.853369126761757\n",
      "SubGD iter. 175/499: loss=1072.8609133490759, w0=72.68217821782189, w1=15.857321387504511\n",
      "SubGD iter. 176/499: loss=1072.8564057580393, w0=72.68217821782189, w1=15.861273648247264\n",
      "SubGD iter. 177/499: loss=1072.8518981670027, w0=72.68217821782189, w1=15.865225908990018\n",
      "SubGD iter. 178/499: loss=1072.847390575966, w0=72.68217821782189, w1=15.869178169732772\n",
      "SubGD iter. 179/499: loss=1072.842882984929, w0=72.68217821782189, w1=15.873130430475525\n",
      "SubGD iter. 180/499: loss=1072.8383753938926, w0=72.68217821782189, w1=15.877082691218279\n",
      "SubGD iter. 181/499: loss=1072.8338678028556, w0=72.68217821782189, w1=15.881034951961032\n",
      "SubGD iter. 182/499: loss=1072.8293602118192, w0=72.68217821782189, w1=15.884987212703786\n",
      "SubGD iter. 183/499: loss=1072.8248526207824, w0=72.68217821782189, w1=15.88893947344654\n",
      "SubGD iter. 184/499: loss=1072.8203450297456, w0=72.68217821782189, w1=15.892891734189293\n",
      "SubGD iter. 185/499: loss=1072.815837438709, w0=72.68217821782189, w1=15.896843994932047\n",
      "SubGD iter. 186/499: loss=1072.8113298476721, w0=72.68217821782189, w1=15.9007962556748\n",
      "SubGD iter. 187/499: loss=1072.8068222566355, w0=72.68217821782189, w1=15.904748516417554\n",
      "SubGD iter. 188/499: loss=1072.8023146655987, w0=72.68217821782189, w1=15.908700777160307\n",
      "SubGD iter. 189/499: loss=1072.804568624399, w0=72.68217821782189, w1=15.91265303790306\n",
      "SubGD iter. 190/499: loss=1072.8002319116263, w0=72.67524752475258, w1=15.910526938117323\n",
      "SubGD iter. 191/499: loss=1072.7957243205897, w0=72.67524752475258, w1=15.914479198860077\n",
      "SubGD iter. 192/499: loss=1072.7942524828745, w0=72.67524752475258, w1=15.91843145960283\n",
      "SubGD iter. 193/499: loss=1072.7936415666172, w0=72.66831683168327, w1=15.916305359817093\n",
      "SubGD iter. 194/499: loss=1072.7891339755809, w0=72.66831683168327, w1=15.920257620559847\n",
      "SubGD iter. 195/499: loss=1072.784626384544, w0=72.66831683168327, w1=15.9242098813026\n",
      "SubGD iter. 196/499: loss=1072.7863611784142, w0=72.66831683168327, w1=15.928162142045354\n",
      "SubGD iter. 197/499: loss=1072.7825436305716, w0=72.66138613861396, w1=15.926036042259616\n",
      "SubGD iter. 198/499: loss=1072.778036039535, w0=72.66138613861396, w1=15.92998830300237\n",
      "SubGD iter. 199/499: loss=1072.7760450368899, w0=72.66138613861396, w1=15.933940563745123\n",
      "SubGD iter. 200/499: loss=1072.7759532855628, w0=72.65445544554466, w1=15.931814463959386\n",
      "SubGD iter. 201/499: loss=1072.7714456945262, w0=72.65445544554466, w1=15.93576672470214\n",
      "SubGD iter. 202/499: loss=1072.7669381034893, w0=72.65445544554466, w1=15.939718985444893\n",
      "SubGD iter. 203/499: loss=1072.7681537324295, w0=72.65445544554466, w1=15.943671246187646\n",
      "SubGD iter. 204/499: loss=1072.7648553495171, w0=72.64752475247535, w1=15.941545146401909\n",
      "SubGD iter. 205/499: loss=1072.7603477584803, w0=72.64752475247535, w1=15.945497407144662\n",
      "SubGD iter. 206/499: loss=1072.7578375909052, w0=72.64752475247535, w1=15.949449667887416\n",
      "SubGD iter. 207/499: loss=1072.758265004508, w0=72.64059405940604, w1=15.947323568101679\n",
      "SubGD iter. 208/499: loss=1072.7537574134715, w0=72.64059405940604, w1=15.951275828844432\n",
      "SubGD iter. 209/499: loss=1072.7492498224346, w0=72.64059405940604, w1=15.955228089587186\n",
      "SubGD iter. 210/499: loss=1072.7499462864448, w0=72.64059405940604, w1=15.95918035032994\n",
      "SubGD iter. 211/499: loss=1072.7471670684622, w0=72.63366336633673, w1=15.957054250544202\n",
      "SubGD iter. 212/499: loss=1072.7426594774256, w0=72.63366336633673, w1=15.961006511286955\n",
      "SubGD iter. 213/499: loss=1072.7396301449203, w0=72.63366336633673, w1=15.964958772029709\n",
      "SubGD iter. 214/499: loss=1072.7479029860033, w0=72.62673267326743, w1=15.962832672243971\n",
      "SubGD iter. 215/499: loss=1072.7410674041826, w0=72.63366336633673, w1=15.967301372051375\n",
      "SubGD iter. 216/499: loss=1072.7448821117096, w0=72.62673267326743, w1=15.965175272265638\n",
      "SubGD iter. 217/499: loss=1072.7425046634453, w0=72.63366336633673, w1=15.969643972073042\n",
      "SubGD iter. 218/499: loss=1072.7418612374158, w0=72.62673267326743, w1=15.967517872287305\n",
      "SubGD iter. 219/499: loss=1072.7439419227073, w0=72.63366336633673, w1=15.971986572094709\n",
      "SubGD iter. 220/499: loss=1072.738840363122, w0=72.62673267326743, w1=15.969860472308971\n",
      "SubGD iter. 221/499: loss=1072.7453791819696, w0=72.63366336633673, w1=15.974329172116375\n",
      "SubGD iter. 222/499: loss=1072.7361431622767, w0=72.62673267326743, w1=15.972203072330638\n",
      "SubGD iter. 223/499: loss=1072.7378952092454, w0=72.62673267326743, w1=15.970593411609551\n",
      "SubGD iter. 224/499: loss=1072.74582886343, w0=72.63366336633673, w1=15.975062111416955\n",
      "SubGD iter. 225/499: loss=1072.7364836141167, w0=72.62673267326743, w1=15.972936011631218\n",
      "SubGD iter. 226/499: loss=1072.7369500553687, w0=72.62673267326743, w1=15.97132635091013\n",
      "SubGD iter. 227/499: loss=1072.7462785448902, w0=72.63366336633673, w1=15.975795050717535\n",
      "SubGD iter. 228/499: loss=1072.7368240659564, w0=72.62673267326743, w1=15.973668950931797\n",
      "SubGD iter. 229/499: loss=1072.7360763751813, w0=72.62673267326743, w1=15.97205929021071\n",
      "SubGD iter. 230/499: loss=1072.738080621909, w0=72.62673267326743, w1=15.970449629489623\n",
      "SubGD iter. 231/499: loss=1072.7457406485482, w0=72.63366336633673, w1=15.974918329297028\n",
      "SubGD iter. 232/499: loss=1072.736416827021, w0=72.62673267326743, w1=15.97279222951129\n",
      "SubGD iter. 233/499: loss=1072.7371354680322, w0=72.62673267326743, w1=15.971182568790203\n",
      "SubGD iter. 234/499: loss=1072.7461903300086, w0=72.63366336633673, w1=15.975651268597607\n",
      "SubGD iter. 235/499: loss=1072.7367572788608, w0=72.62673267326743, w1=15.97352516881187\n",
      "SubGD iter. 236/499: loss=1072.7361903141555, w0=72.62673267326743, w1=15.971915508090783\n",
      "SubGD iter. 237/499: loss=1072.746640011469, w0=72.63366336633673, w1=15.976384207898187\n",
      "SubGD iter. 238/499: loss=1072.7370977307003, w0=72.62673267326743, w1=15.97425810811245\n",
      "SubGD iter. 239/499: loss=1072.7363500399251, w0=72.62673267326743, w1=15.972648447391363\n",
      "SubGD iter. 240/499: loss=1072.7373208806957, w0=72.62673267326743, w1=15.971038786670276\n",
      "SubGD iter. 241/499: loss=1072.7461021151269, w0=72.63366336633673, w1=15.97550748647768\n",
      "SubGD iter. 242/499: loss=1072.736690491765, w0=72.62673267326743, w1=15.973381386691942\n",
      "SubGD iter. 243/499: loss=1072.7363757268192, w0=72.62673267326743, w1=15.971771725970855\n",
      "SubGD iter. 244/499: loss=1072.746551796587, w0=72.63366336633673, w1=15.97624042577826\n",
      "SubGD iter. 245/499: loss=1072.7370309436046, w0=72.62673267326743, w1=15.974114325992522\n",
      "SubGD iter. 246/499: loss=1072.7362832528293, w0=72.62673267326743, w1=15.972504665271435\n",
      "SubGD iter. 247/499: loss=1072.7375062933597, w0=72.62673267326743, w1=15.970895004550348\n",
      "SubGD iter. 248/499: loss=1072.746013900245, w0=72.63366336633673, w1=15.975363704357752\n",
      "SubGD iter. 249/499: loss=1072.736623704669, w0=72.62673267326743, w1=15.973237604572015\n",
      "SubGD iter. 250/499: loss=1072.736561139483, w0=72.62673267326743, w1=15.971627943850928\n",
      "SubGD iter. 251/499: loss=1072.7464635817055, w0=72.63366336633673, w1=15.976096643658332\n",
      "SubGD iter. 252/499: loss=1072.7369641565087, w0=72.62673267326743, w1=15.973970543872595\n",
      "SubGD iter. 253/499: loss=1072.7362164657336, w0=72.62673267326743, w1=15.972360883151508\n",
      "SubGD iter. 254/499: loss=1072.7376917060233, w0=72.62673267326743, w1=15.97075122243042\n",
      "SubGD iter. 255/499: loss=1072.7459256853638, w0=72.63366336633673, w1=15.975219922237825\n",
      "SubGD iter. 256/499: loss=1072.7365569175734, w0=72.62673267326743, w1=15.973093822452087\n",
      "SubGD iter. 257/499: loss=1072.7367465521465, w0=72.62673267326743, w1=15.971484161731\n",
      "SubGD iter. 258/499: loss=1072.746375366824, w0=72.63366336633673, w1=15.975952861538405\n",
      "SubGD iter. 259/499: loss=1072.7368973694133, w0=72.62673267326743, w1=15.973826761752667\n",
      "SubGD iter. 260/499: loss=1072.736149678638, w0=72.62673267326743, w1=15.97221710103158\n",
      "SubGD iter. 261/499: loss=1072.737877118687, w0=72.62673267326743, w1=15.970607440310493\n",
      "SubGD iter. 262/499: loss=1072.745837470482, w0=72.63366336633673, w1=15.975076140117897\n",
      "SubGD iter. 263/499: loss=1072.7364901304773, w0=72.62673267326743, w1=15.97295004033216\n",
      "SubGD iter. 264/499: loss=1072.7369319648103, w0=72.62673267326743, w1=15.971340379611073\n",
      "SubGD iter. 265/499: loss=1072.7462871519422, w0=72.63366336633673, w1=15.975809079418477\n",
      "SubGD iter. 266/499: loss=1072.7368305823175, w0=72.62673267326743, w1=15.97368297963274\n",
      "SubGD iter. 267/499: loss=1072.736082891542, w0=72.62673267326743, w1=15.972073318911653\n",
      "SubGD iter. 268/499: loss=1072.7380625313508, w0=72.62673267326743, w1=15.970463658190566\n",
      "SubGD iter. 269/499: loss=1072.7457492556002, w0=72.63366336633673, w1=15.97493235799797\n",
      "SubGD iter. 270/499: loss=1072.7364233433818, w0=72.62673267326743, w1=15.972806258212232\n",
      "SubGD iter. 271/499: loss=1072.737117377474, w0=72.62673267326743, w1=15.971196597491145\n",
      "SubGD iter. 272/499: loss=1072.7461989370606, w0=72.63366336633673, w1=15.97566529729855\n",
      "SubGD iter. 273/499: loss=1072.7367637952216, w0=72.62673267326743, w1=15.973539197512812\n",
      "SubGD iter. 274/499: loss=1072.7361722235974, w0=72.62673267326743, w1=15.971929536791725\n",
      "SubGD iter. 275/499: loss=1072.7466486185208, w0=72.63366336633673, w1=15.97639823659913\n",
      "SubGD iter. 276/499: loss=1072.7371042470613, w0=72.62673267326743, w1=15.974272136813392\n",
      "SubGD iter. 277/499: loss=1072.736356556286, w0=72.62673267326743, w1=15.972662476092305\n",
      "SubGD iter. 278/499: loss=1072.7373027901378, w0=72.62673267326743, w1=15.971052815371218\n",
      "SubGD iter. 279/499: loss=1072.746110722179, w0=72.63366336633673, w1=15.975521515178622\n",
      "SubGD iter. 280/499: loss=1072.736697008126, w0=72.62673267326743, w1=15.973395415392885\n",
      "SubGD iter. 281/499: loss=1072.736357636261, w0=72.62673267326743, w1=15.971785754671798\n",
      "SubGD iter. 282/499: loss=1072.7465604036393, w0=72.63366336633673, w1=15.976254454479202\n",
      "SubGD iter. 283/499: loss=1072.7370374599654, w0=72.62673267326743, w1=15.974128354693464\n",
      "SubGD iter. 284/499: loss=1072.7362897691903, w0=72.62673267326743, w1=15.972518693972377\n",
      "SubGD iter. 285/499: loss=1072.7374882028014, w0=72.62673267326743, w1=15.97090903325129\n",
      "SubGD iter. 286/499: loss=1072.7460225072973, w0=72.63366336633673, w1=15.975377733058695\n",
      "SubGD iter. 287/499: loss=1072.73663022103, w0=72.62673267326743, w1=15.973251633272957\n",
      "SubGD iter. 288/499: loss=1072.736543048925, w0=72.62673267326743, w1=15.97164197255187\n",
      "SubGD iter. 289/499: loss=1072.7464721887575, w0=72.63366336633673, w1=15.976110672359274\n",
      "SubGD iter. 290/499: loss=1072.7369706728698, w0=72.62673267326743, w1=15.973984572573537\n",
      "SubGD iter. 291/499: loss=1072.7362229820947, w0=72.62673267326743, w1=15.97237491185245\n",
      "SubGD iter. 292/499: loss=1072.7376736154652, w0=72.62673267326743, w1=15.970765251131363\n",
      "SubGD iter. 293/499: loss=1072.7459342924158, w0=72.63366336633673, w1=15.975233950938767\n",
      "SubGD iter. 294/499: loss=1072.7365634339342, w0=72.62673267326743, w1=15.97310785115303\n",
      "SubGD iter. 295/499: loss=1072.7367284615884, w0=72.62673267326743, w1=15.971498190431943\n",
      "SubGD iter. 296/499: loss=1072.7463839738757, w0=72.63366336633673, w1=15.975966890239347\n",
      "SubGD iter. 297/499: loss=1072.7369038857742, w0=72.62673267326743, w1=15.97384079045361\n",
      "SubGD iter. 298/499: loss=1072.736156194999, w0=72.62673267326743, w1=15.972231129732522\n",
      "SubGD iter. 299/499: loss=1072.7378590281287, w0=72.62673267326743, w1=15.970621469011435\n",
      "SubGD iter. 300/499: loss=1072.745846077534, w0=72.63366336633673, w1=15.97509016881884\n",
      "SubGD iter. 301/499: loss=1072.7364966468385, w0=72.62673267326743, w1=15.972964069033102\n",
      "SubGD iter. 302/499: loss=1072.736913874252, w0=72.62673267326743, w1=15.971354408312015\n",
      "SubGD iter. 303/499: loss=1072.7462957589942, w0=72.63366336633673, w1=15.97582310811942\n",
      "SubGD iter. 304/499: loss=1072.7368370986783, w0=72.62673267326743, w1=15.973697008333682\n",
      "SubGD iter. 305/499: loss=1072.7360894079031, w0=72.62673267326743, w1=15.972087347612595\n",
      "SubGD iter. 306/499: loss=1072.7380444407925, w0=72.62673267326743, w1=15.970477686891508\n",
      "SubGD iter. 307/499: loss=1072.7457578626527, w0=72.63366336633673, w1=15.974946386698912\n",
      "SubGD iter. 308/499: loss=1072.7364298597427, w0=72.62673267326743, w1=15.972820286913175\n",
      "SubGD iter. 309/499: loss=1072.737099286916, w0=72.62673267326743, w1=15.971210626192088\n",
      "SubGD iter. 310/499: loss=1072.7462075441126, w0=72.63366336633673, w1=15.975679325999492\n",
      "SubGD iter. 311/499: loss=1072.7367703115824, w0=72.62673267326743, w1=15.973553226213754\n",
      "SubGD iter. 312/499: loss=1072.7361541330392, w0=72.62673267326743, w1=15.971943565492667\n",
      "SubGD iter. 313/499: loss=1072.7466572255728, w0=72.63366336633673, w1=15.976412265300072\n",
      "SubGD iter. 314/499: loss=1072.7371107634224, w0=72.62673267326743, w1=15.974286165514334\n",
      "SubGD iter. 315/499: loss=1072.7363630726472, w0=72.62673267326743, w1=15.972676504793247\n",
      "SubGD iter. 316/499: loss=1072.7372846995795, w0=72.62673267326743, w1=15.97106684407216\n",
      "SubGD iter. 317/499: loss=1072.746119329231, w0=72.63366336633673, w1=15.975535543879564\n",
      "SubGD iter. 318/499: loss=1072.7367035244868, w0=72.62673267326743, w1=15.973409444093827\n",
      "SubGD iter. 319/499: loss=1072.7363395457028, w0=72.62673267326743, w1=15.97179978337274\n",
      "SubGD iter. 320/499: loss=1072.7465690106912, w0=72.63366336633673, w1=15.976268483180144\n",
      "SubGD iter. 321/499: loss=1072.7370439763267, w0=72.62673267326743, w1=15.974142383394407\n",
      "SubGD iter. 322/499: loss=1072.7362962855511, w0=72.62673267326743, w1=15.97253272267332\n",
      "SubGD iter. 323/499: loss=1072.737470112243, w0=72.62673267326743, w1=15.970923061952233\n",
      "SubGD iter. 324/499: loss=1072.7460311143495, w0=72.63366336633673, w1=15.975391761759637\n",
      "SubGD iter. 325/499: loss=1072.736636737391, w0=72.62673267326743, w1=15.9732656619739\n",
      "SubGD iter. 326/499: loss=1072.7365249583663, w0=72.62673267326743, w1=15.971656001252812\n",
      "SubGD iter. 327/499: loss=1072.7464807958095, w0=72.63366336633673, w1=15.976124701060217\n",
      "SubGD iter. 328/499: loss=1072.7369771892309, w0=72.62673267326743, w1=15.973998601274479\n",
      "SubGD iter. 329/499: loss=1072.7362294984555, w0=72.62673267326743, w1=15.972388940553392\n",
      "SubGD iter. 330/499: loss=1072.737655524907, w0=72.62673267326743, w1=15.970779279832305\n",
      "SubGD iter. 331/499: loss=1072.7459428994678, w0=72.63366336633673, w1=15.97524797963971\n",
      "SubGD iter. 332/499: loss=1072.7365699502952, w0=72.62673267326743, w1=15.973121879853972\n",
      "SubGD iter. 333/499: loss=1072.73671037103, w0=72.62673267326743, w1=15.971512219132885\n",
      "SubGD iter. 334/499: loss=1072.746392580928, w0=72.63366336633673, w1=15.975980918940289\n",
      "SubGD iter. 335/499: loss=1072.736910402135, w0=72.62673267326743, w1=15.973854819154552\n",
      "SubGD iter. 336/499: loss=1072.7361627113598, w0=72.62673267326743, w1=15.972245158433465\n",
      "SubGD iter. 337/499: loss=1072.7378409375706, w0=72.62673267326743, w1=15.970635497712378\n",
      "SubGD iter. 338/499: loss=1072.745854684586, w0=72.63366336633673, w1=15.975104197519782\n",
      "SubGD iter. 339/499: loss=1072.7365031631994, w0=72.62673267326743, w1=15.972978097734044\n",
      "SubGD iter. 340/499: loss=1072.736895783694, w0=72.62673267326743, w1=15.971368437012957\n",
      "SubGD iter. 341/499: loss=1072.7463043660464, w0=72.63366336633673, w1=15.975837136820362\n",
      "SubGD iter. 342/499: loss=1072.7368436150393, w0=72.62673267326743, w1=15.973711037034624\n",
      "SubGD iter. 343/499: loss=1072.736095924264, w0=72.62673267326743, w1=15.972101376313537\n",
      "SubGD iter. 344/499: loss=1072.7380263502343, w0=72.62673267326743, w1=15.97049171559245\n",
      "SubGD iter. 345/499: loss=1072.7457664697047, w0=72.63366336633673, w1=15.974960415399854\n",
      "SubGD iter. 346/499: loss=1072.7364363761035, w0=72.62673267326743, w1=15.972834315614117\n",
      "SubGD iter. 347/499: loss=1072.7370811963576, w0=72.62673267326743, w1=15.97122465489303\n",
      "SubGD iter. 348/499: loss=1072.7462161511648, w0=72.63366336633673, w1=15.975693354700434\n",
      "SubGD iter. 349/499: loss=1072.7367768279435, w0=72.62673267326743, w1=15.973567254914697\n",
      "SubGD iter. 350/499: loss=1072.7361360424811, w0=72.62673267326743, w1=15.97195759419361\n",
      "SubGD iter. 351/499: loss=1072.746665832625, w0=72.63366336633673, w1=15.976426294001014\n",
      "SubGD iter. 352/499: loss=1072.737117279783, w0=72.62673267326743, w1=15.974300194215276\n",
      "SubGD iter. 353/499: loss=1072.736369589008, w0=72.62673267326743, w1=15.97269053349419\n",
      "SubGD iter. 354/499: loss=1072.7372666090214, w0=72.62673267326743, w1=15.971080872773102\n",
      "SubGD iter. 355/499: loss=1072.746127936283, w0=72.63366336633673, w1=15.975549572580507\n",
      "SubGD iter. 356/499: loss=1072.7367100408478, w0=72.62673267326743, w1=15.973423472794769\n",
      "SubGD iter. 357/499: loss=1072.7363214551447, w0=72.62673267326743, w1=15.971813812073682\n",
      "SubGD iter. 358/499: loss=1072.7465776177435, w0=72.63366336633673, w1=15.976282511881086\n",
      "SubGD iter. 359/499: loss=1072.7370504926873, w0=72.62673267326743, w1=15.974156412095349\n",
      "SubGD iter. 360/499: loss=1072.7363028019122, w0=72.62673267326743, w1=15.972546751374262\n",
      "SubGD iter. 361/499: loss=1072.737452021685, w0=72.62673267326743, w1=15.970937090653175\n",
      "SubGD iter. 362/499: loss=1072.7460397214015, w0=72.63366336633673, w1=15.975405790460579\n",
      "SubGD iter. 363/499: loss=1072.736643253752, w0=72.62673267326743, w1=15.973279690674842\n",
      "SubGD iter. 364/499: loss=1072.7365068678084, w0=72.62673267326743, w1=15.971670029953755\n",
      "SubGD iter. 365/499: loss=1072.7464894028617, w0=72.63366336633673, w1=15.976138729761159\n",
      "SubGD iter. 366/499: loss=1072.7369837055917, w0=72.62673267326743, w1=15.974012629975421\n",
      "SubGD iter. 367/499: loss=1072.7362360148165, w0=72.62673267326743, w1=15.972402969254334\n",
      "SubGD iter. 368/499: loss=1072.737637434349, w0=72.62673267326743, w1=15.970793308533247\n",
      "SubGD iter. 369/499: loss=1072.7459515065198, w0=72.63366336633673, w1=15.975262008340652\n",
      "SubGD iter. 370/499: loss=1072.736576466656, w0=72.62673267326743, w1=15.973135908554914\n",
      "SubGD iter. 371/499: loss=1072.7366922804722, w0=72.62673267326743, w1=15.971526247833827\n",
      "SubGD iter. 372/499: loss=1072.7464011879802, w0=72.63366336633673, w1=15.975994947641231\n",
      "SubGD iter. 373/499: loss=1072.736916918496, w0=72.62673267326743, w1=15.973868847855494\n",
      "SubGD iter. 374/499: loss=1072.7361692277207, w0=72.62673267326743, w1=15.972259187134407\n",
      "SubGD iter. 375/499: loss=1072.7378228470125, w0=72.62673267326743, w1=15.97064952641332\n",
      "SubGD iter. 376/499: loss=1072.7458632916382, w0=72.63366336633673, w1=15.975118226220724\n",
      "SubGD iter. 377/499: loss=1072.7365096795606, w0=72.62673267326743, w1=15.972992126434987\n",
      "SubGD iter. 378/499: loss=1072.7368776931357, w0=72.62673267326743, w1=15.9713824657139\n",
      "SubGD iter. 379/499: loss=1072.7463129730984, w0=72.63366336633673, w1=15.975851165521304\n",
      "SubGD iter. 380/499: loss=1072.7368501314002, w0=72.62673267326743, w1=15.973725065735566\n",
      "SubGD iter. 381/499: loss=1072.736102440625, w0=72.62673267326743, w1=15.97211540501448\n",
      "SubGD iter. 382/499: loss=1072.738008259676, w0=72.62673267326743, w1=15.970505744293392\n",
      "SubGD iter. 383/499: loss=1072.7457750767567, w0=72.63366336633673, w1=15.974974444100797\n",
      "SubGD iter. 384/499: loss=1072.7364428924648, w0=72.62673267326743, w1=15.972848344315059\n",
      "SubGD iter. 385/499: loss=1072.7370631057995, w0=72.62673267326743, w1=15.971238683593972\n",
      "SubGD iter. 386/499: loss=1072.7462247582168, w0=72.63366336633673, w1=15.975707383401376\n",
      "SubGD iter. 387/499: loss=1072.7367833443045, w0=72.62673267326743, w1=15.973581283615639\n",
      "SubGD iter. 388/499: loss=1072.7361179519228, w0=72.62673267326743, w1=15.971971622894552\n",
      "SubGD iter. 389/499: loss=1072.746674439677, w0=72.63366336633673, w1=15.976440322701956\n",
      "SubGD iter. 390/499: loss=1072.7371237961443, w0=72.62673267326743, w1=15.974314222916218\n",
      "SubGD iter. 391/499: loss=1072.736376105369, w0=72.62673267326743, w1=15.972704562195132\n",
      "SubGD iter. 392/499: loss=1072.7372485184633, w0=72.62673267326743, w1=15.971094901474045\n",
      "SubGD iter. 393/499: loss=1072.7461365433353, w0=72.63366336633673, w1=15.975563601281449\n",
      "SubGD iter. 394/499: loss=1072.7367165572086, w0=72.62673267326743, w1=15.973437501495711\n",
      "SubGD iter. 395/499: loss=1072.7363033645865, w0=72.62673267326743, w1=15.971827840774624\n",
      "SubGD iter. 396/499: loss=1072.7465862247952, w0=72.63366336633673, w1=15.976296540582029\n",
      "SubGD iter. 397/499: loss=1072.7370570090484, w0=72.62673267326743, w1=15.974170440796291\n",
      "SubGD iter. 398/499: loss=1072.7363093182732, w0=72.62673267326743, w1=15.972560780075204\n",
      "SubGD iter. 399/499: loss=1072.7374339311268, w0=72.62673267326743, w1=15.970951119354117\n",
      "SubGD iter. 400/499: loss=1072.7460483284535, w0=72.63366336633673, w1=15.975419819161521\n",
      "SubGD iter. 401/499: loss=1072.736649770113, w0=72.62673267326743, w1=15.973293719375784\n",
      "SubGD iter. 402/499: loss=1072.73648877725, w0=72.62673267326743, w1=15.971684058654697\n",
      "SubGD iter. 403/499: loss=1072.7464980099137, w0=72.63366336633673, w1=15.976152758462101\n",
      "SubGD iter. 404/499: loss=1072.7369902219527, w0=72.62673267326743, w1=15.974026658676364\n",
      "SubGD iter. 405/499: loss=1072.7362425311774, w0=72.62673267326743, w1=15.972416997955277\n",
      "SubGD iter. 406/499: loss=1072.7376193437908, w0=72.62673267326743, w1=15.97080733723419\n",
      "SubGD iter. 407/499: loss=1072.745960113572, w0=72.63366336633673, w1=15.975276037041594\n",
      "SubGD iter. 408/499: loss=1072.7365829830173, w0=72.62673267326743, w1=15.973149937255856\n",
      "SubGD iter. 409/499: loss=1072.7366741899139, w0=72.62673267326743, w1=15.97154027653477\n",
      "SubGD iter. 410/499: loss=1072.746409795032, w0=72.63366336633673, w1=15.976008976342174\n",
      "SubGD iter. 411/499: loss=1072.7369234348569, w0=72.62673267326743, w1=15.973882876556436\n",
      "SubGD iter. 412/499: loss=1072.7361757440817, w0=72.62673267326743, w1=15.972273215835349\n",
      "SubGD iter. 413/499: loss=1072.7378047564541, w0=72.62673267326743, w1=15.970663555114262\n",
      "SubGD iter. 414/499: loss=1072.7458718986902, w0=72.63366336633673, w1=15.975132254921666\n",
      "SubGD iter. 415/499: loss=1072.7365161959215, w0=72.62673267326743, w1=15.973006155135929\n",
      "SubGD iter. 416/499: loss=1072.7368596025776, w0=72.62673267326743, w1=15.971396494414842\n",
      "SubGD iter. 417/499: loss=1072.7463215801504, w0=72.63366336633673, w1=15.975865194222246\n",
      "SubGD iter. 418/499: loss=1072.7368566477612, w0=72.62673267326743, w1=15.973739094436509\n",
      "SubGD iter. 419/499: loss=1072.7361089569858, w0=72.62673267326743, w1=15.972129433715422\n",
      "SubGD iter. 420/499: loss=1072.7379901691181, w0=72.62673267326743, w1=15.970519772994335\n",
      "SubGD iter. 421/499: loss=1072.7457836838087, w0=72.63366336633673, w1=15.974988472801739\n",
      "SubGD iter. 422/499: loss=1072.7364494088256, w0=72.62673267326743, w1=15.972862373016001\n",
      "SubGD iter. 423/499: loss=1072.7370450152412, w0=72.62673267326743, w1=15.971252712294914\n",
      "SubGD iter. 424/499: loss=1072.746233365269, w0=72.63366336633673, w1=15.975721412102319\n",
      "SubGD iter. 425/499: loss=1072.7367898606653, w0=72.62673267326743, w1=15.973595312316581\n",
      "SubGD iter. 426/499: loss=1072.7360998613647, w0=72.62673267326743, w1=15.971985651595494\n",
      "SubGD iter. 427/499: loss=1072.7466830467292, w0=72.63366336633673, w1=15.976454351402898\n",
      "SubGD iter. 428/499: loss=1072.737130312505, w0=72.62673267326743, w1=15.97432825161716\n",
      "SubGD iter. 429/499: loss=1072.7363826217297, w0=72.62673267326743, w1=15.972718590896074\n",
      "SubGD iter. 430/499: loss=1072.737230427905, w0=72.62673267326743, w1=15.971108930174987\n",
      "SubGD iter. 431/499: loss=1072.7461451503873, w0=72.63366336633673, w1=15.975577629982391\n",
      "SubGD iter. 432/499: loss=1072.7367230735697, w0=72.62673267326743, w1=15.973451530196654\n",
      "SubGD iter. 433/499: loss=1072.7362852740282, w0=72.62673267326743, w1=15.971841869475567\n",
      "SubGD iter. 434/499: loss=1072.7465948318475, w0=72.63366336633673, w1=15.97631056928297\n",
      "SubGD iter. 435/499: loss=1072.7370635254097, w0=72.62673267326743, w1=15.974184469497233\n",
      "SubGD iter. 436/499: loss=1072.7363158346343, w0=72.62673267326743, w1=15.972574808776146\n",
      "SubGD iter. 437/499: loss=1072.7374158405687, w0=72.62673267326743, w1=15.97096514805506\n",
      "SubGD iter. 438/499: loss=1072.7460569355057, w0=72.63366336633673, w1=15.975433847862464\n",
      "SubGD iter. 439/499: loss=1072.7366562864738, w0=72.62673267326743, w1=15.973307748076726\n",
      "SubGD iter. 440/499: loss=1072.7364706866917, w0=72.62673267326743, w1=15.97169808735564\n",
      "SubGD iter. 441/499: loss=1072.746506616966, w0=72.63366336633673, w1=15.976166787163043\n",
      "SubGD iter. 442/499: loss=1072.7369967383138, w0=72.62673267326743, w1=15.974040687377306\n",
      "SubGD iter. 443/499: loss=1072.7362490475384, w0=72.62673267326743, w1=15.972431026656219\n",
      "SubGD iter. 444/499: loss=1072.7376012532325, w0=72.62673267326743, w1=15.970821365935132\n",
      "SubGD iter. 445/499: loss=1072.745968720624, w0=72.63366336633673, w1=15.975290065742536\n",
      "SubGD iter. 446/499: loss=1072.7365894993782, w0=72.62673267326743, w1=15.973163965956799\n",
      "SubGD iter. 447/499: loss=1072.7366560993557, w0=72.62673267326743, w1=15.971554305235712\n",
      "SubGD iter. 448/499: loss=1072.7464184020841, w0=72.63366336633673, w1=15.976023005043116\n",
      "SubGD iter. 449/499: loss=1072.736929951218, w0=72.62673267326743, w1=15.973896905257378\n",
      "SubGD iter. 450/499: loss=1072.7361822604428, w0=72.62673267326743, w1=15.972287244536291\n",
      "SubGD iter. 451/499: loss=1072.737786665896, w0=72.62673267326743, w1=15.970677583815204\n",
      "SubGD iter. 452/499: loss=1072.7458805057422, w0=72.63366336633673, w1=15.975146283622609\n",
      "SubGD iter. 453/499: loss=1072.7365227122823, w0=72.62673267326743, w1=15.973020183836871\n",
      "SubGD iter. 454/499: loss=1072.736841512019, w0=72.62673267326743, w1=15.971410523115784\n",
      "SubGD iter. 455/499: loss=1072.7463301872026, w0=72.63366336633673, w1=15.975879222923188\n",
      "SubGD iter. 456/499: loss=1072.736863164122, w0=72.62673267326743, w1=15.97375312313745\n",
      "SubGD iter. 457/499: loss=1072.736115473347, w0=72.62673267326743, w1=15.972143462416364\n",
      "SubGD iter. 458/499: loss=1072.7379720785596, w0=72.62673267326743, w1=15.970533801695277\n",
      "SubGD iter. 459/499: loss=1072.7457922908607, w0=72.63366336633673, w1=15.975002501502681\n",
      "SubGD iter. 460/499: loss=1072.7364559251866, w0=72.62673267326743, w1=15.972876401716944\n",
      "SubGD iter. 461/499: loss=1072.737026924683, w0=72.62673267326743, w1=15.971266740995857\n",
      "SubGD iter. 462/499: loss=1072.7462419723208, w0=72.63366336633673, w1=15.97573544080326\n",
      "SubGD iter. 463/499: loss=1072.7367963770264, w0=72.62673267326743, w1=15.973609341017523\n",
      "SubGD iter. 464/499: loss=1072.7360817708063, w0=72.62673267326743, w1=15.971999680296436\n",
      "SubGD iter. 465/499: loss=1072.7466916537812, w0=72.63366336633673, w1=15.97646838010384\n",
      "SubGD iter. 466/499: loss=1072.7371368288661, w0=72.62673267326743, w1=15.974342280318103\n",
      "SubGD iter. 467/499: loss=1072.736389138091, w0=72.62673267326743, w1=15.972732619597016\n",
      "SubGD iter. 468/499: loss=1072.7372123373466, w0=72.62673267326743, w1=15.97112295887593\n",
      "SubGD iter. 469/499: loss=1072.746153757439, w0=72.63366336633673, w1=15.975591658683333\n",
      "SubGD iter. 470/499: loss=1072.7367295899307, w0=72.62673267326743, w1=15.973465558897596\n",
      "SubGD iter. 471/499: loss=1072.7362671834699, w0=72.62673267326743, w1=15.971855898176509\n",
      "SubGD iter. 472/499: loss=1072.7466034388997, w0=72.63366336633673, w1=15.976324597983913\n",
      "SubGD iter. 473/499: loss=1072.7370700417705, w0=72.62673267326743, w1=15.974198498198175\n",
      "SubGD iter. 474/499: loss=1072.7363223509951, w0=72.62673267326743, w1=15.972588837477089\n",
      "SubGD iter. 475/499: loss=1072.7373977500104, w0=72.62673267326743, w1=15.970979176756002\n",
      "SubGD iter. 476/499: loss=1072.7460655425577, w0=72.63366336633673, w1=15.975447876563406\n",
      "SubGD iter. 477/499: loss=1072.7366628028349, w0=72.62673267326743, w1=15.973321776777668\n",
      "SubGD iter. 478/499: loss=1072.7364525961334, w0=72.62673267326743, w1=15.971712116056581\n",
      "SubGD iter. 479/499: loss=1072.746515224018, w0=72.63366336633673, w1=15.976180815863986\n",
      "SubGD iter. 480/499: loss=1072.7370032546746, w0=72.62673267326743, w1=15.974054716078248\n",
      "SubGD iter. 481/499: loss=1072.7362555638992, w0=72.62673267326743, w1=15.972445055357161\n",
      "SubGD iter. 482/499: loss=1072.7375831626741, w0=72.62673267326743, w1=15.970835394636074\n",
      "SubGD iter. 483/499: loss=1072.745977327676, w0=72.63366336633673, w1=15.975304094443478\n",
      "SubGD iter. 484/499: loss=1072.736596015739, w0=72.62673267326743, w1=15.97317799465774\n",
      "SubGD iter. 485/499: loss=1072.7366380087974, w0=72.62673267326743, w1=15.971568333936654\n",
      "SubGD iter. 486/499: loss=1072.7464270091364, w0=72.63366336633673, w1=15.976037033744058\n",
      "SubGD iter. 487/499: loss=1072.736936467579, w0=72.62673267326743, w1=15.97391093395832\n",
      "SubGD iter. 488/499: loss=1072.7361887768036, w0=72.62673267326743, w1=15.972301273237234\n",
      "SubGD iter. 489/499: loss=1072.737768575338, w0=72.62673267326743, w1=15.970691612516147\n",
      "SubGD iter. 490/499: loss=1072.7458891127944, w0=72.63366336633673, w1=15.97516031232355\n",
      "SubGD iter. 491/499: loss=1072.7365292286433, w0=72.62673267326743, w1=15.973034212537813\n",
      "SubGD iter. 492/499: loss=1072.736823421461, w0=72.62673267326743, w1=15.971424551816726\n",
      "SubGD iter. 493/499: loss=1072.7463387942546, w0=72.63366336633673, w1=15.97589325162413\n",
      "SubGD iter. 494/499: loss=1072.736869680483, w0=72.62673267326743, w1=15.973767151838393\n",
      "SubGD iter. 495/499: loss=1072.736121989708, w0=72.62673267326743, w1=15.972157491117306\n",
      "SubGD iter. 496/499: loss=1072.7379539880017, w0=72.62673267326743, w1=15.97054783039622\n",
      "SubGD iter. 497/499: loss=1072.7458008979129, w0=72.63366336633673, w1=15.975016530203623\n",
      "SubGD iter. 498/499: loss=1072.7364624415477, w0=72.62673267326743, w1=15.972890430417886\n",
      "SubGD iter. 499/499: loss=1072.737008834125, w0=72.62673267326743, w1=15.971280769696799\n",
      "SubGD: execution time=0.079 seconds\n"
     ]
    }
   ],
   "source": [
    "# Define the parameters of the algorithm.\n",
    "max_iters = 500\n",
    "gamma = 0.7\n",
    "batch_size = 1\n",
    "\n",
    "# Initialization\n",
    "w_initial = np.array([0, 0])\n",
    "\n",
    "# Start SubSGD.\n",
    "start_time = datetime.datetime.now()\n",
    "subgd_losses, subgd_ws = subgradient_descent(\n",
    "    y, tx, w_initial, max_iters, gamma)\n",
    "end_time = datetime.datetime.now()\n",
    "\n",
    "# Print result\n",
    "exection_time = (end_time - start_time).total_seconds()\n",
    "print(\"SubGD: execution time={t:.3f} seconds\".format(t=exection_time))"
   ]
  },
  {
   "cell_type": "code",
   "execution_count": 25,
   "metadata": {},
   "outputs": [
    {
     "data": {
      "application/vnd.jupyter.widget-view+json": {
       "model_id": "dd227304f4ec4adcbcc666940adca9e1",
       "version_major": 2,
       "version_minor": 0
      },
      "text/plain": [
       "interactive(children=(IntSlider(value=1, description='n_iter', max=501, min=1), Output()), _dom_classes=('widg…"
      ]
     },
     "metadata": {},
     "output_type": "display_data"
    },
    {
     "data": {
      "text/plain": [
       "<function __main__.plot_figure(n_iter)>"
      ]
     },
     "execution_count": 25,
     "metadata": {},
     "output_type": "execute_result"
    }
   ],
   "source": [
    "from ipywidgets import IntSlider, interact\n",
    "def plot_figure(n_iter):\n",
    "    fig = gradient_descent_visualization(\n",
    "        subgd_losses, subgd_ws, grid_losses, grid_w0, grid_w1, mean_x, std_x, height, weight, n_iter)\n",
    "    fig.set_size_inches(10.0, 6.0)\n",
    "\n",
    "interact(plot_figure, n_iter=IntSlider(min=1, max=len(subgd_ws)))"
   ]
  },
  {
   "cell_type": "markdown",
   "metadata": {},
   "source": [
    "# Stochastic Subgradient Descent\n",
    "\n",
    "**NB** for the computation of the subgradient you can reuse the `compute_subgradient` method that you implemented above, just making sure that you pass in a minibatch as opposed to the full data."
   ]
  },
  {
   "cell_type": "code",
   "execution_count": 26,
   "metadata": {},
   "outputs": [],
   "source": [
    "def stochastic_subgradient_descent(y, tx, initial_w, batch_size, max_iters, gamma):\n",
    "    \"\"\"The Stochastic SubGradient Descent algorithm (SubSGD).\n",
    "            \n",
    "    Args:\n",
    "        y: numpy array of shape=(N, )\n",
    "        tx: numpy array of shape=(N,2)\n",
    "        initial_w: numpy array of shape=(2, ). The initial guess (or the initialization) for the model parameters\n",
    "        batch_size: a scalar denoting the number of data points in a mini-batch used for computing the stochastic subgradient\n",
    "        max_iters: a scalar denoting the total number of iterations of SubSGD\n",
    "        gamma: a scalar denoting the stepsize\n",
    "        \n",
    "    Returns:\n",
    "        losses: a list of length max_iters containing the loss value (scalar) for each iteration of SubSGD\n",
    "        ws: a list of length max_iters containing the model parameters as numpy arrays of shape (2, ), for each iteration of SubSGD \n",
    "    \"\"\"\n",
    "    \n",
    "    # Define parameters to store w and loss\n",
    "    ws = [initial_w]\n",
    "    losses = []\n",
    "    w = initial_w\n",
    "    \n",
    "    for n_iter in range(max_iters):\n",
    "\n",
    "        subgradient = None\n",
    "        for minibatch_y, minibatch_tx in batch_iter(y, tx, batch_size):\n",
    "            subgradient = compute_subgradient_mae(minibatch_y, minibatch_tx,w)\n",
    "        loss = compute_loss_mae(y,tx,w)\n",
    "        \n",
    "        w = w - gamma* subgradient\n",
    "        ws.append(w)\n",
    "        losses.append(loss)\n",
    "        # ***************************************************\n",
    "        \n",
    "        print(\"SubSGD iter. {bi}/{ti}: loss={l}, w0={w0}, w1={w1}\".format(\n",
    "              bi=n_iter, ti=max_iters - 1, l=loss, w0=w[0], w1=w[1]))\n",
    "    return losses, ws"
   ]
  },
  {
   "cell_type": "code",
   "execution_count": 27,
   "metadata": {},
   "outputs": [
    {
     "name": "stdout",
     "output_type": "stream",
     "text": [
      "SubSGD iter. 0/499: loss=14961.696782695128, w0=0.7, w1=1.0926245143257944\n",
      "SubSGD iter. 1/499: loss=14820.296782695128, w0=1.4, w1=0.8100766952395693\n",
      "SubSGD iter. 2/499: loss=14678.896782695127, w0=2.0999999999999996, w1=0.39900151069734335\n",
      "SubSGD iter. 3/499: loss=14537.496782695129, w0=2.8, w1=1.4569168175249017\n",
      "SubSGD iter. 4/499: loss=14396.096782695127, w0=3.5, w1=2.062319968968886\n",
      "SubSGD iter. 5/499: loss=14254.696782695128, w0=4.2, w1=1.383972972994343\n",
      "SubSGD iter. 6/499: loss=14113.296782695128, w0=4.9, w1=2.118248716486142\n",
      "SubSGD iter. 7/499: loss=13971.896782695128, w0=5.6000000000000005, w1=2.7417368387723196\n",
      "SubSGD iter. 8/499: loss=13830.496782695129, w0=6.300000000000001, w1=-0.028562858116669698\n",
      "SubSGD iter. 9/499: loss=13689.096782695127, w0=7.000000000000001, w1=-0.3788997914850608\n",
      "SubSGD iter. 10/499: loss=13547.69678269513, w0=7.700000000000001, w1=-1.1787305255477705\n",
      "SubSGD iter. 11/499: loss=13406.296782695128, w0=8.4, w1=-1.0258367684331888\n",
      "SubSGD iter. 12/499: loss=13264.89678269513, w0=9.1, w1=-0.37968953504596814\n",
      "SubSGD iter. 13/499: loss=13123.496782695129, w0=9.799999999999999, w1=0.35227505846166685\n",
      "SubSGD iter. 14/499: loss=12982.096782695127, w0=10.499999999999998, w1=-0.624522420480252\n",
      "SubSGD iter. 15/499: loss=12840.69678269513, w0=11.199999999999998, w1=-0.36381019909838813\n",
      "SubSGD iter. 16/499: loss=12699.296782695128, w0=11.899999999999997, w1=-0.7597864423202205\n",
      "SubSGD iter. 17/499: loss=12557.89678269513, w0=12.599999999999996, w1=0.18712581942220985\n",
      "SubSGD iter. 18/499: loss=12416.496782695129, w0=13.299999999999995, w1=-0.4697551483307537\n",
      "SubSGD iter. 19/499: loss=12275.096782695131, w0=13.999999999999995, w1=-0.5896469618190849\n",
      "SubSGD iter. 20/499: loss=12133.69678269513, w0=14.699999999999994, w1=-0.39088609600056046\n",
      "SubSGD iter. 21/499: loss=11992.296782695128, w0=15.399999999999993, w1=-0.4717004014892715\n",
      "SubSGD iter. 22/499: loss=11850.89678269513, w0=16.099999999999994, w1=0.5407379363771493\n",
      "SubSGD iter. 23/499: loss=11709.49678269513, w0=16.799999999999994, w1=1.203882253420197\n",
      "SubSGD iter. 24/499: loss=11568.096782695131, w0=17.499999999999993, w1=0.8471567350643602\n",
      "SubSGD iter. 25/499: loss=11426.69678269513, w0=18.199999999999992, w1=0.4161460503157465\n",
      "SubSGD iter. 26/499: loss=11285.29678269513, w0=18.89999999999999, w1=0.6816297525399768\n",
      "SubSGD iter. 27/499: loss=11143.89678269513, w0=19.59999999999999, w1=1.8763685896444022\n",
      "SubSGD iter. 28/499: loss=11002.49678269513, w0=20.29999999999999, w1=2.53951290668745\n",
      "SubSGD iter. 29/499: loss=10861.096782695131, w0=20.99999999999999, w1=3.0675687221980983\n",
      "SubSGD iter. 30/499: loss=10719.69678269513, w0=21.69999999999999, w1=2.540380083450871\n",
      "SubSGD iter. 31/499: loss=10578.296782695132, w0=22.399999999999988, w1=2.1171406586783568\n",
      "SubSGD iter. 32/499: loss=10436.89678269513, w0=23.099999999999987, w1=2.3778528800602206\n",
      "SubSGD iter. 33/499: loss=10295.496782695132, w0=23.799999999999986, w1=1.9818766368383882\n",
      "SubSGD iter. 34/499: loss=10154.096782695131, w0=24.499999999999986, w1=3.176615473942814\n",
      "SubSGD iter. 35/499: loss=10012.69678269513, w0=25.199999999999985, w1=4.344946274460282\n",
      "SubSGD iter. 36/499: loss=9871.296782695132, w0=25.899999999999984, w1=4.854132118406535\n",
      "SubSGD iter. 37/499: loss=9729.89678269513, w0=26.599999999999984, w1=4.458155875184703\n",
      "SubSGD iter. 38/499: loss=9588.496782695132, w0=27.299999999999983, w1=4.076029890634368\n",
      "SubSGD iter. 39/499: loss=9447.096782695131, w0=27.999999999999982, w1=3.524058458696689\n",
      "SubSGD iter. 40/499: loss=9305.696782695131, w0=28.69999999999998, w1=4.147546580982866\n",
      "SubSGD iter. 41/499: loss=9164.296782695132, w0=29.39999999999998, w1=3.7976086495025494\n",
      "SubSGD iter. 42/499: loss=9022.89678269513, w0=30.09999999999998, w1=3.0582758500586054\n",
      "SubSGD iter. 43/499: loss=8881.496782695132, w0=30.79999999999998, w1=3.254795932837108\n",
      "SubSGD iter. 44/499: loss=8740.096782695133, w0=31.49999999999998, w1=4.617547328228855\n",
      "SubSGD iter. 45/499: loss=8598.696782695131, w0=32.19999999999998, w1=5.260477026992651\n",
      "SubSGD iter. 46/499: loss=8457.296782695132, w0=32.899999999999984, w1=4.980548034556188\n",
      "SubSGD iter. 47/499: loss=8315.89678269513, w0=33.59999999999999, w1=4.860656221067857\n",
      "SubSGD iter. 48/499: loss=8174.496782695131, w0=34.29999999999999, w1=5.390357195129973\n",
      "SubSGD iter. 49/499: loss=8033.096782695129, w0=34.99999999999999, w1=4.78659112516346\n",
      "SubSGD iter. 50/499: loss=7891.6967826951295, w0=35.699999999999996, w1=4.964943246543274\n",
      "SubSGD iter. 51/499: loss=7750.296782695128, w0=36.4, w1=3.8751482234700534\n",
      "SubSGD iter. 52/499: loss=7608.896782695128, w0=37.1, w1=5.114464524448055\n",
      "SubSGD iter. 53/499: loss=7467.496782695127, w0=37.800000000000004, w1=5.667670440524168\n",
      "SubSGD iter. 54/499: loss=7326.096782695126, w0=38.50000000000001, w1=6.392690630604972\n",
      "SubSGD iter. 55/499: loss=7184.696782695126, w0=39.20000000000001, w1=7.009077579442222\n",
      "SubSGD iter. 56/499: loss=7043.296782695124, w0=39.90000000000001, w1=7.174530371374847\n",
      "SubSGD iter. 57/499: loss=6901.896782695125, w0=40.600000000000016, w1=7.263057884863973\n",
      "SubSGD iter. 58/499: loss=6760.496782695123, w0=41.30000000000002, w1=7.507370608573107\n",
      "SubSGD iter. 59/499: loss=6619.096782695123, w0=42.00000000000002, w1=7.122086468244979\n",
      "SubSGD iter. 60/499: loss=6477.696782695122, w0=42.700000000000024, w1=6.586566785418774\n",
      "SubSGD iter. 61/499: loss=6336.296782695123, w0=43.40000000000003, w1=6.60187445213091\n",
      "SubSGD iter. 62/499: loss=6194.896782695122, w0=44.10000000000003, w1=5.9052897008901475\n",
      "SubSGD iter. 63/499: loss=6053.4967826951215, w0=44.80000000000003, w1=5.625360708453684\n",
      "SubSGD iter. 64/499: loss=5912.09678269512, w0=45.500000000000036, w1=4.830991363962903\n",
      "SubSGD iter. 65/499: loss=5770.6967826951195, w0=46.20000000000004, w1=4.455405525676333\n",
      "SubSGD iter. 66/499: loss=5629.296782695119, w0=46.90000000000004, w1=5.995467864063519\n",
      "SubSGD iter. 67/499: loss=5487.896782695118, w0=47.600000000000044, w1=5.159429006790703\n",
      "SubSGD iter. 68/499: loss=5346.496782695118, w0=48.30000000000005, w1=5.791703435272394\n",
      "SubSGD iter. 69/499: loss=5205.096782695118, w0=49.00000000000005, w1=5.93503402586691\n",
      "SubSGD iter. 70/499: loss=5063.696782695117, w0=49.70000000000005, w1=5.509247878576171\n",
      "SubSGD iter. 71/499: loss=4922.296782695116, w0=50.400000000000055, w1=5.864275356105997\n",
      "SubSGD iter. 72/499: loss=4780.896782695116, w0=51.10000000000006, w1=5.2605092861394835\n",
      "SubSGD iter. 73/499: loss=4639.496782695116, w0=51.80000000000006, w1=5.246754090163993\n",
      "SubSGD iter. 74/499: loss=4498.096782695115, w0=52.500000000000064, w1=6.365064310775474\n",
      "SubSGD iter. 75/499: loss=4356.696782695113, w0=53.20000000000007, w1=6.341098470972383\n",
      "SubSGD iter. 76/499: loss=4215.2967826951135, w0=53.90000000000007, w1=5.958972486422049\n",
      "SubSGD iter. 77/499: loss=4073.8967826951125, w0=54.60000000000007, w1=7.164988776192495\n",
      "SubSGD iter. 78/499: loss=3932.4967826951124, w0=55.300000000000075, w1=6.311142505767227\n",
      "SubSGD iter. 79/499: loss=3792.511629202423, w0=56.00000000000008, w1=5.526909777727902\n",
      "SubSGD iter. 80/499: loss=3657.3072094908616, w0=56.70000000000008, w1=5.692362569660528\n",
      "SubSGD iter. 81/499: loss=3519.742837240081, w0=57.400000000000084, w1=4.908129841621204\n",
      "SubSGD iter. 82/499: loss=3397.081586082619, w0=58.10000000000009, w1=5.286669624977935\n",
      "SubSGD iter. 83/499: loss=3259.768518093427, w0=58.80000000000009, w1=4.875594440435709\n",
      "SubSGD iter. 84/499: loss=3155.834630114671, w0=59.50000000000009, w1=4.989414767250022\n",
      "SubSGD iter. 85/499: loss=3041.786305546478, w0=60.200000000000095, w1=4.446398305884923\n",
      "SubSGD iter. 86/499: loss=2973.979243940234, w0=60.9000000000001, w1=5.504313612712481\n",
      "SubSGD iter. 87/499: loss=2810.120999079013, w0=61.6000000000001, w1=5.108876820769476\n",
      "SubSGD iter. 88/499: loss=2744.975277282203, w0=62.300000000000104, w1=5.115304701647823\n",
      "SubSGD iter. 89/499: loss=2662.697552686481, w0=63.00000000000011, w1=5.738792823934\n",
      "SubSGD iter. 90/499: loss=2534.3363764800783, w0=62.300000000000104, w1=6.2168410263601235\n",
      "SubSGD iter. 91/499: loss=2576.7886757788483, w0=63.00000000000011, w1=5.7858303416115096\n",
      "SubSGD iter. 92/499: loss=2530.3018962881415, w0=63.70000000000011, w1=6.665002653842317\n",
      "SubSGD iter. 93/499: loss=2380.693935704145, w0=64.4000000000001, w1=6.043951080271723\n",
      "SubSGD iter. 94/499: loss=2364.799226250387, w0=65.10000000000011, w1=5.44018501030521\n",
      "SubSGD iter. 95/499: loss=2359.5449678378754, w0=65.80000000000011, w1=5.256024231986889\n",
      "SubSGD iter. 96/499: loss=2325.14245183676, w0=66.50000000000011, w1=6.017381182605958\n",
      "SubSGD iter. 97/499: loss=2193.17737222283, w0=65.80000000000011, w1=6.587341307141944\n",
      "SubSGD iter. 98/499: loss=2188.7777658211285, w0=65.10000000000011, w1=6.6126390725307855\n",
      "SubSGD iter. 99/499: loss=2245.4234601820253, w0=64.4000000000001, w1=6.626394268506276\n",
      "SubSGD iter. 100/499: loss=2312.0287406957154, w0=65.10000000000011, w1=7.531569371693339\n",
      "SubSGD iter. 101/499: loss=2161.418116016652, w0=65.80000000000011, w1=7.742733766259543\n",
      "SubSGD iter. 102/499: loss=2077.1904731902664, w0=66.50000000000011, w1=7.758041432971679\n",
      "SubSGD iter. 103/499: loss=2016.3261648646592, w0=67.20000000000012, w1=7.960478323012678\n",
      "SubSGD iter. 104/499: loss=1940.523669103854, w0=67.90000000000012, w1=8.488534138523327\n",
      "SubSGD iter. 105/499: loss=1835.7879411655474, w0=68.60000000000012, w1=7.9613454997761\n",
      "SubSGD iter. 106/499: loss=1846.7099377898833, w0=69.30000000000013, w1=7.705913618674529\n",
      "SubSGD iter. 107/499: loss=1837.2318316629335, w0=68.60000000000012, w1=8.051090706399528\n",
      "SubSGD iter. 108/499: loss=1837.0395511331092, w0=69.30000000000013, w1=7.6551144631776955\n",
      "SubSGD iter. 109/499: loss=1842.95426027643, w0=68.60000000000012, w1=8.744909486250915\n",
      "SubSGD iter. 110/499: loss=1764.0459443860843, w0=69.30000000000013, w1=9.358823899628497\n",
      "SubSGD iter. 111/499: loss=1662.1056782440858, w0=68.60000000000012, w1=10.260456164041255\n",
      "SubSGD iter. 112/499: loss=1615.7200929209766, w0=69.30000000000013, w1=10.538583132842943\n",
      "SubSGD iter. 113/499: loss=1546.2566936714234, w0=70.00000000000013, w1=11.74459942261339\n",
      "SubSGD iter. 114/499: loss=1397.3231186117434, w0=70.70000000000013, w1=12.37687385109508\n",
      "SubSGD iter. 115/499: loss=1306.3229204620584, w0=70.00000000000013, w1=12.727210784463471\n",
      "SubSGD iter. 116/499: loss=1322.3911213550637, w0=70.70000000000013, w1=13.222837044932303\n",
      "SubSGD iter. 117/499: loss=1243.7672306821255, w0=71.40000000000013, w1=12.981857130265656\n",
      "SubSGD iter. 118/499: loss=1223.2397018892493, w0=72.10000000000014, w1=12.211034064197468\n",
      "SubSGD iter. 119/499: loss=1254.2711210732905, w0=72.80000000000014, w1=13.267435295576359\n",
      "SubSGD iter. 120/499: loss=1154.3951267668185, w0=73.50000000000014, w1=14.146607607807166\n",
      "SubSGD iter. 121/499: loss=1107.4589550293215, w0=74.20000000000014, w1=14.792754841194387\n",
      "SubSGD iter. 122/499: loss=1110.8091766842547, w0=73.50000000000014, w1=14.91264665468272\n",
      "SubSGD iter. 123/499: loss=1090.0706661408242, w0=72.80000000000014, w1=13.96573439294029\n",
      "SubSGD iter. 124/499: loss=1115.7716771524351, w0=73.50000000000014, w1=13.194911326872102\n",
      "SubSGD iter. 125/499: loss=1156.40251622697, w0=72.80000000000014, w1=13.34536800332323\n",
      "SubSGD iter. 126/499: loss=1149.3009999215515, w0=73.50000000000014, w1=12.606035203879287\n",
      "SubSGD iter. 127/499: loss=1200.8009024629423, w0=74.20000000000014, w1=12.771841463446783\n",
      "SubSGD iter. 128/499: loss=1194.8517631973618, w0=73.50000000000014, w1=11.892111333614306\n",
      "SubSGD iter. 129/499: loss=1260.0641186276544, w0=72.80000000000014, w1=12.1772858281636\n",
      "SubSGD iter. 130/499: loss=1241.6178965499394, w0=72.10000000000014, w1=12.985399569205532\n",
      "SubSGD iter. 131/499: loss=1192.7538383493, w0=71.40000000000013, w1=12.4897733087367\n",
      "SubSGD iter. 132/499: loss=1259.8122413602482, w0=70.70000000000013, w1=12.671637152311868\n",
      "SubSGD iter. 133/499: loss=1283.7152324127992, w0=71.40000000000013, w1=12.921918268773926\n",
      "SubSGD iter. 134/499: loss=1227.4771342946933, w0=70.70000000000013, w1=13.103782112349094\n",
      "SubSGD iter. 135/499: loss=1251.8683895783315, w0=71.40000000000013, w1=14.343098413327095\n",
      "SubSGD iter. 136/499: loss=1138.0503259107468, w0=72.10000000000014, w1=13.73933234336058\n",
      "SubSGD iter. 137/499: loss=1143.0107466774616, w0=71.40000000000013, w1=14.162571768133095\n",
      "SubSGD iter. 138/499: loss=1147.7206262819382, w0=70.70000000000013, w1=13.215659506390665\n",
      "SubSGD iter. 139/499: loss=1244.2519350162424, w0=71.40000000000013, w1=14.383990306908133\n",
      "SubSGD iter. 140/499: loss=1135.859863149693, w0=70.70000000000013, w1=14.504494858387176\n",
      "SubSGD iter. 141/499: loss=1168.9161114247295, w0=70.00000000000013, w1=14.529792623776018\n",
      "SubSGD iter. 142/499: loss=1217.7296615444202, w0=70.70000000000013, w1=14.16387189304562\n",
      "SubSGD iter. 143/499: loss=1185.6439548255653, w0=71.40000000000013, w1=14.79614632152731\n",
      "SubSGD iter. 144/499: loss=1116.8978736800334, w0=72.10000000000014, w1=15.046427437989367\n",
      "SubSGD iter. 145/499: loss=1090.7387161586494, w0=71.40000000000013, w1=14.622886184935352\n",
      "SubSGD iter. 146/499: loss=1124.1479878056693, w0=70.70000000000013, w1=14.199344931881337\n",
      "SubSGD iter. 147/499: loss=1183.711758943387, w0=71.40000000000013, w1=13.958365017214689\n",
      "SubSGD iter. 148/499: loss=1159.2199194181048, w0=72.10000000000014, w1=14.187486709501448\n",
      "SubSGD iter. 149/499: loss=1119.6206527615086, w0=72.80000000000014, w1=15.550238104893195\n",
      "SubSGD iter. 150/499: loss=1075.73831269121, w0=72.10000000000014, w1=16.33447083293252\n",
      "SubSGD iter. 151/499: loss=1079.7546059840695, w0=71.40000000000013, w1=16.959286932743467\n",
      "SubSGD iter. 152/499: loss=1106.1313237970733, w0=70.70000000000013, w1=16.21330127915607\n",
      "SubSGD iter. 153/499: loss=1133.4103937746154, w0=71.40000000000013, w1=16.41573816919707\n",
      "SubSGD iter. 154/499: loss=1099.3277955032324, w0=70.70000000000013, w1=15.654381218578001\n",
      "SubSGD iter. 155/499: loss=1135.8531520502356, w0=71.40000000000013, w1=16.094305661462183\n",
      "SubSGD iter. 156/499: loss=1097.7053520865757, w0=72.10000000000014, w1=16.75744997850523\n",
      "SubSGD iter. 157/499: loss=1085.2555317812128, w0=71.40000000000013, w1=16.2618237180364\n",
      "SubSGD iter. 158/499: loss=1098.268273997744, w0=72.10000000000014, w1=16.993788311544034\n",
      "SubSGD iter. 159/499: loss=1091.158459900697, w0=72.80000000000014, w1=17.204952706110237\n",
      "SubSGD iter. 160/499: loss=1096.2925755231317, w0=72.10000000000014, w1=18.023611075915866\n",
      "SubSGD iter. 161/499: loss=1132.9260713222357, w0=72.80000000000014, w1=18.189417335483363\n",
      "SubSGD iter. 162/499: loss=1137.1760230147208, w0=73.50000000000014, w1=17.61640725246874\n",
      "SubSGD iter. 163/499: loss=1123.7182460077713, w0=72.80000000000014, w1=18.047417937217354\n",
      "SubSGD iter. 164/499: loss=1129.8178647028276, w0=73.50000000000014, w1=18.21287072914998\n",
      "SubSGD iter. 165/499: loss=1149.298095753123, w0=74.20000000000014, w1=18.944835322657614\n",
      "SubSGD iter. 166/499: loss=1218.4898630008947, w0=74.90000000000015, w1=19.18914804636675\n",
      "SubSGD iter. 167/499: loss=1278.557199157584, w0=74.20000000000014, w1=19.30965259784579\n",
      "SubSGD iter. 168/499: loss=1244.3744774130519, w0=74.90000000000015, w1=19.833833149297508\n",
      "SubSGD iter. 169/499: loss=1324.9106322596476, w0=74.20000000000014, w1=20.673860720757318\n",
      "SubSGD iter. 170/499: loss=1361.0881490849872, w0=73.50000000000014, w1=19.715725629855513\n",
      "SubSGD iter. 171/499: loss=1251.0273987588016, w0=74.20000000000014, w1=19.09467405628492\n",
      "SubSGD iter. 172/499: loss=1228.9879163304274, w0=73.50000000000014, w1=19.52646663456834\n",
      "SubSGD iter. 173/499: loss=1235.2102064901246, w0=72.80000000000014, w1=20.149253041388633\n",
      "SubSGD iter. 174/499: loss=1277.9031027560438, w0=72.10000000000014, w1=20.33341381970695\n",
      "SubSGD iter. 175/499: loss=1297.5461126506166, w0=71.40000000000013, w1=19.32097548184053\n",
      "SubSGD iter. 176/499: loss=1234.6395998588875, w0=70.70000000000013, w1=18.464753429335993\n",
      "SubSGD iter. 177/499: loss=1210.1881174502214, w0=70.00000000000013, w1=17.406838122508436\n",
      "SubSGD iter. 178/499: loss=1210.1091086942743, w0=69.30000000000013, w1=17.228486001128623\n",
      "SubSGD iter. 179/499: loss=1267.63760947965, w0=68.60000000000012, w1=17.63956118567085\n",
      "SubSGD iter. 180/499: loss=1351.765706749122, w0=67.90000000000012, w1=18.07135376395427\n",
      "SubSGD iter. 181/499: loss=1456.0595288485638, w0=68.60000000000012, w1=18.2676983574715\n",
      "SubSGD iter. 182/499: loss=1376.491350611165, w0=69.30000000000013, w1=18.64623814082823\n",
      "SubSGD iter. 183/499: loss=1326.1425389869567, w0=68.60000000000012, w1=17.91196239733643\n",
      "SubSGD iter. 184/499: loss=1361.675799590672, w0=69.30000000000013, w1=17.075923540063616\n",
      "SubSGD iter. 185/499: loss=1263.787200575079, w0=70.00000000000013, w1=16.965749423182874\n",
      "SubSGD iter. 186/499: loss=1198.6148567416462, w0=70.70000000000013, w1=17.235887873472546\n",
      "SubSGD iter. 187/499: loss=1152.3786975894304, w0=71.40000000000013, w1=16.839911630250715\n",
      "SubSGD iter. 188/499: loss=1104.0430794987435, w0=70.70000000000013, w1=16.138977632815962\n",
      "SubSGD iter. 189/499: loss=1133.440343691554, w0=71.40000000000013, w1=16.282308223410478\n",
      "SubSGD iter. 190/499: loss=1098.383257809633, w0=72.10000000000014, w1=16.806488774862196\n",
      "SubSGD iter. 191/499: loss=1086.3351977697712, w0=72.80000000000014, w1=16.858649120391906\n",
      "SubSGD iter. 192/499: loss=1085.7841143796918, w0=72.10000000000014, w1=15.493279667728295\n",
      "SubSGD iter. 193/499: loss=1081.660362840394, w0=72.80000000000014, w1=14.455765473914754\n",
      "SubSGD iter. 194/499: loss=1097.096758408432, w0=73.50000000000014, w1=15.180785663995557\n",
      "SubSGD iter. 195/499: loss=1086.9902984357395, w0=72.80000000000014, w1=15.38561918387078\n",
      "SubSGD iter. 196/499: loss=1077.5555852278007, w0=73.50000000000014, w1=14.812609100856157\n",
      "SubSGD iter. 197/499: loss=1091.6471496888248, w0=74.20000000000014, w1=14.57162918618951\n",
      "SubSGD iter. 198/499: loss=1115.1126926127338, w0=74.90000000000015, w1=15.584307527542277\n",
      "SubSGD iter. 199/499: loss=1135.6132792264418, w0=75.60000000000015, w1=12.2111638499526\n",
      "SubSGD iter. 200/499: loss=1282.501831137121, w0=74.90000000000015, w1=13.248678043766141\n",
      "SubSGD iter. 201/499: loss=1190.2930150497696, w0=74.20000000000014, w1=13.618946134294937\n",
      "SubSGD iter. 202/499: loss=1145.7331642983418, w0=73.50000000000014, w1=14.418776868357646\n",
      "SubSGD iter. 203/499: loss=1099.5040151740304, w0=72.80000000000014, w1=14.130279603800231\n",
      "SubSGD iter. 204/499: loss=1108.6094627314324, w0=73.50000000000014, w1=15.311084304500127\n",
      "SubSGD iter. 205/499: loss=1085.7751052232293, w0=72.80000000000014, w1=15.43097611798846\n",
      "SubSGD iter. 206/499: loss=1077.0548778352113, w0=72.10000000000014, w1=15.075948640458634\n",
      "SubSGD iter. 207/499: loss=1089.919578715878, w0=72.80000000000014, w1=14.39760164448409\n",
      "SubSGD iter. 208/499: loss=1099.0192636159882, w0=72.10000000000014, w1=15.239020154210035\n",
      "SubSGD iter. 209/499: loss=1085.8425163307656, w0=71.40000000000013, w1=15.319834459698747\n",
      "SubSGD iter. 210/499: loss=1104.6625237790777, w0=72.10000000000014, w1=14.465988189273478\n",
      "SubSGD iter. 211/499: loss=1107.984024078336, w0=71.40000000000013, w1=13.409586957894588\n",
      "SubSGD iter. 212/499: loss=1193.5139598512365, w0=72.10000000000014, w1=14.127750281925776\n",
      "SubSGD iter. 213/499: loss=1122.7080363581636, w0=72.80000000000014, w1=14.636936125872028\n",
      "SubSGD iter. 214/499: loss=1091.8154760733996, w0=72.10000000000014, w1=14.584775780342317\n",
      "SubSGD iter. 215/499: loss=1104.3289247628018, w0=72.80000000000014, w1=13.898081144836182\n",
      "SubSGD iter. 216/499: loss=1118.9377201190302, w0=72.10000000000014, w1=12.951168883093752\n",
      "SubSGD iter. 217/499: loss=1195.1778433670938, w0=71.40000000000013, w1=13.44085241649034\n",
      "SubSGD iter. 218/499: loss=1191.4720009068133, w0=70.70000000000013, w1=12.89245791273253\n",
      "SubSGD iter. 219/499: loss=1266.9277445522073, w0=71.40000000000013, w1=10.122158215843541\n",
      "SubSGD iter. 220/499: loss=1479.2844892975204, w0=70.70000000000013, w1=10.553950794126962\n",
      "SubSGD iter. 221/499: loss=1468.0910678923685, w0=71.40000000000013, w1=9.867256158620826\n",
      "SubSGD iter. 222/499: loss=1505.7458335960391, w0=70.70000000000013, w1=10.48830773219142\n",
      "SubSGD iter. 223/499: loss=1474.5281494610213, w0=71.40000000000013, w1=9.450793538377878\n",
      "SubSGD iter. 224/499: loss=1551.4053700659524, w0=72.10000000000014, w1=9.647138131895106\n",
      "SubSGD iter. 225/499: loss=1505.71677095085, w0=71.40000000000013, w1=10.217098256431091\n",
      "SubSGD iter. 226/499: loss=1469.5498635603021, w0=72.10000000000014, w1=6.843954578841414\n",
      "SubSGD iter. 227/499: loss=1835.967646975645, w0=71.40000000000013, w1=7.500835546594377\n",
      "SubSGD iter. 228/499: loss=1774.8051390501278, w0=70.70000000000013, w1=8.538349740407918\n",
      "SubSGD iter. 229/499: loss=1680.389448798786, w0=71.40000000000013, w1=8.652170067222231\n",
      "SubSGD iter. 230/499: loss=1640.2906974495827, w0=72.10000000000014, w1=9.283335407217084\n",
      "SubSGD iter. 231/499: loss=1545.8625411824453, w0=71.40000000000013, w1=9.668619547545212\n",
      "SubSGD iter. 232/499: loss=1527.2643917634682, w0=72.10000000000014, w1=9.558445430664472\n",
      "SubSGD iter. 233/499: loss=1515.4101833713553, w0=72.80000000000014, w1=10.614846662043362\n",
      "SubSGD iter. 234/499: loss=1389.1316897254433, w0=73.50000000000014, w1=11.23833478432954\n",
      "SubSGD iter. 235/499: loss=1319.5307634292312, w0=74.20000000000014, w1=12.25077312219596\n",
      "SubSGD iter. 236/499: loss=1234.2336374564177, w0=73.50000000000014, w1=12.140473088735169\n",
      "SubSGD iter. 237/499: loss=1238.8532701017616, w0=72.80000000000014, w1=12.874587411736158\n",
      "SubSGD iter. 238/499: loss=1182.6384349348584, w0=73.50000000000014, w1=12.619155530634588\n",
      "SubSGD iter. 239/499: loss=1199.7659483281254, w0=74.20000000000014, w1=13.73746575124607\n",
      "SubSGD iter. 240/499: loss=1140.6239416714661, w0=74.90000000000015, w1=14.278422803217213\n",
      "SubSGD iter. 241/499: loss=1155.3241737386306, w0=74.20000000000014, w1=14.560970622303438\n",
      "SubSGD iter. 242/499: loss=1115.3672037746571, w0=73.50000000000014, w1=14.031269648241322\n",
      "SubSGD iter. 243/499: loss=1111.536553456194, w0=74.20000000000014, w1=11.260969951352333\n",
      "SubSGD iter. 244/499: loss=1320.003800676444, w0=73.50000000000014, w1=11.031848259065574\n",
      "SubSGD iter. 245/499: loss=1339.5213207504396, w0=74.20000000000014, w1=10.848382480015156\n",
      "SubSGD iter. 246/499: loss=1361.2117970259349, w0=73.50000000000014, w1=10.49335500248533\n",
      "SubSGD iter. 247/499: loss=1394.1242891394077, w0=72.80000000000014, w1=11.045326434423009\n",
      "SubSGD iter. 248/499: loss=1346.9987030483576, w0=73.50000000000014, w1=11.026746975524132\n",
      "SubSGD iter. 249/499: loss=1340.0281153140063, w0=72.80000000000014, w1=11.466942230231103\n",
      "SubSGD iter. 250/499: loss=1307.01087370526, w0=73.50000000000014, w1=11.084816245680768\n",
      "SubSGD iter. 251/499: loss=1334.2957046429628, w0=74.20000000000014, w1=12.447567641072515\n",
      "SubSGD iter. 252/499: loss=1218.690638788711, w0=74.90000000000015, w1=12.192135759970945\n",
      "SubSGD iter. 253/499: loss=1252.618417419873, w0=75.60000000000015, w1=11.951155845304298\n",
      "SubSGD iter. 254/499: loss=1300.0638280297308, w0=76.30000000000015, w1=12.329695628661028\n",
      "SubSGD iter. 255/499: loss=1320.7659431021295, w0=75.60000000000015, w1=12.674872716386027\n",
      "SubSGD iter. 256/499: loss=1254.4683685597277, w0=74.90000000000015, w1=12.693452175284904\n",
      "SubSGD iter. 257/499: loss=1218.9365164253466, w0=74.20000000000014, w1=13.534870685010848\n",
      "SubSGD iter. 258/499: loss=1149.3896881311666, w0=73.50000000000014, w1=14.191751652763811\n",
      "SubSGD iter. 259/499: loss=1106.0106017378594, w0=74.20000000000014, w1=15.070999618659982\n",
      "SubSGD iter. 260/499: loss=1107.0822623063614, w0=73.50000000000014, w1=15.622971050597661\n",
      "SubSGD iter. 261/499: loss=1083.6152665610916, w0=74.20000000000014, w1=15.834135445163865\n",
      "SubSGD iter. 262/499: loss=1104.647092744094, w0=74.90000000000015, w1=16.30071757113044\n",
      "SubSGD iter. 263/499: loss=1143.5841551243466, w0=74.20000000000014, w1=15.459527402905799\n",
      "SubSGD iter. 264/499: loss=1104.6462567422332, w0=73.50000000000014, w1=15.89131998118922\n",
      "SubSGD iter. 265/499: loss=1083.0089489695154, w0=74.20000000000014, w1=15.63588810008765\n",
      "SubSGD iter. 266/499: loss=1104.0829948340913, w0=73.50000000000014, w1=16.18785953202533\n",
      "SubSGD iter. 267/499: loss=1083.6839729826243, w0=72.80000000000014, w1=16.66590773445145\n",
      "SubSGD iter. 268/499: loss=1080.3652236583398, w0=72.10000000000014, w1=15.125845396064266\n",
      "SubSGD iter. 269/499: loss=1088.535072077576, w0=72.80000000000014, w1=16.250975356194573\n",
      "SubSGD iter. 270/499: loss=1073.985405361869, w0=73.50000000000014, w1=16.364795683008886\n",
      "SubSGD iter. 271/499: loss=1086.0774012203042, w0=72.80000000000014, w1=15.816401179251075\n",
      "SubSGD iter. 272/499: loss=1073.2277771866577, w0=73.50000000000014, w1=15.982207438818572\n",
      "SubSGD iter. 273/499: loss=1082.8035944548064, w0=72.80000000000014, w1=15.731926322356514\n",
      "SubSGD iter. 274/499: loss=1073.897208299562, w0=73.50000000000014, w1=12.961626625467526\n",
      "SubSGD iter. 275/499: loss=1173.073016430274, w0=74.20000000000014, w1=14.501688963854711\n",
      "SubSGD iter. 276/499: loss=1116.7827644387198, w0=73.50000000000014, w1=14.582503269343423\n",
      "SubSGD iter. 277/499: loss=1095.9076797638706, w0=72.80000000000014, w1=14.472203235882631\n",
      "SubSGD iter. 278/499: loss=1096.5534364969765, w0=72.10000000000014, w1=14.842471326411427\n",
      "SubSGD iter. 279/499: loss=1096.3996216632247, w0=71.40000000000013, w1=14.346845065942595\n",
      "SubSGD iter. 280/499: loss=1137.8496283564357, w0=72.10000000000014, w1=13.492998795517327\n",
      "SubSGD iter. 281/499: loss=1157.9766185126311, w0=71.40000000000013, w1=13.99801652734165\n",
      "SubSGD iter. 282/499: loss=1156.9305509705891, w0=72.10000000000014, w1=14.086544040830775\n",
      "SubSGD iter. 283/499: loss=1124.8618976844177, w0=72.80000000000014, w1=14.315665733117534\n",
      "SubSGD iter. 284/499: loss=1101.9214925879032, w0=73.50000000000014, w1=14.782247859084109\n",
      "SubSGD iter. 285/499: loss=1092.154799149439, w0=72.80000000000014, w1=15.671079683250602\n",
      "SubSGD iter. 286/499: loss=1074.442867734114, w0=73.50000000000014, w1=16.851884383950498\n",
      "SubSGD iter. 287/499: loss=1096.7617634191251, w0=72.80000000000014, w1=17.262959568492725\n",
      "SubSGD iter. 288/499: loss=1098.1209652369087, w0=72.10000000000014, w1=16.974462303935308\n",
      "SubSGD iter. 289/499: loss=1090.638901195653, w0=71.40000000000013, w1=17.05527660942402\n",
      "SubSGD iter. 290/499: loss=1108.3874205049804, w0=72.10000000000014, w1=16.21524903796421\n",
      "SubSGD iter. 291/499: loss=1078.89067305189, w0=71.40000000000013, w1=15.880020982660955\n",
      "SubSGD iter. 292/499: loss=1098.3502379229308, w0=70.70000000000013, w1=16.31970938774614\n",
      "SubSGD iter. 293/499: loss=1133.5426155962496, w0=70.00000000000013, w1=16.141357266366327\n",
      "SubSGD iter. 294/499: loss=1184.1241547394488, w0=70.70000000000013, w1=16.68231431833747\n",
      "SubSGD iter. 295/499: loss=1137.6198521704396, w0=71.40000000000013, w1=17.301447714282133\n",
      "SubSGD iter. 296/499: loss=1116.9373577958027, w0=70.70000000000013, w1=16.946420236752306\n",
      "SubSGD iter. 297/499: loss=1143.5863825832862, w0=71.40000000000013, w1=16.983707548370177\n",
      "SubSGD iter. 298/499: loss=1106.624052838976, w0=72.10000000000014, w1=16.61778681763978\n",
      "SubSGD iter. 299/499: loss=1082.7721063550816, w0=72.80000000000014, w1=17.412956542757126\n",
      "SubSGD iter. 300/499: loss=1102.9909316459957, w0=73.50000000000014, w1=16.6287238147178\n",
      "SubSGD iter. 301/499: loss=1091.7345486681602, w0=72.80000000000014, w1=16.368011593335936\n",
      "SubSGD iter. 302/499: loss=1074.569484278562, w0=72.10000000000014, w1=15.633735849844136\n",
      "SubSGD iter. 303/499: loss=1080.095264012099, w0=72.80000000000014, w1=14.937151098603373\n",
      "SubSGD iter. 304/499: loss=1084.2584015903, w0=72.10000000000014, w1=15.217080091039836\n",
      "SubSGD iter. 305/499: loss=1086.3093448155246, w0=71.40000000000013, w1=14.048749290522368\n",
      "SubSGD iter. 306/499: loss=1154.0013816423766, w0=72.10000000000014, w1=14.578450264584484\n",
      "SubSGD iter. 307/499: loss=1104.5235611562905, w0=72.80000000000014, w1=15.018374707468666\n",
      "SubSGD iter. 308/499: loss=1082.5498620043356, w0=73.50000000000014, w1=15.183827499401293\n",
      "SubSGD iter. 309/499: loss=1086.9619296229544, w0=72.80000000000014, w1=16.023855070861103\n",
      "SubSGD iter. 310/499: loss=1073.2361442671818, w0=72.10000000000014, w1=15.794733378574344\n",
      "SubSGD iter. 311/499: loss=1079.2231085200435, w0=72.80000000000014, w1=16.03904610228348\n",
      "SubSGD iter. 312/499: loss=1073.263673147707, w0=72.10000000000014, w1=16.15893791577181\n",
      "SubSGD iter. 313/499: loss=1078.6023421976997, w0=71.40000000000013, w1=15.735396662717793\n",
      "SubSGD iter. 314/499: loss=1099.2207390922695, w0=72.10000000000014, w1=15.82392417620692\n",
      "SubSGD iter. 315/499: loss=1079.084109418129, w0=71.40000000000013, w1=15.535426911649504\n",
      "SubSGD iter. 316/499: loss=1101.1237812047561, w0=70.70000000000013, w1=15.685883588100632\n",
      "SubSGD iter. 317/499: loss=1135.5537140274182, w0=71.40000000000013, w1=15.33554665473224\n",
      "SubSGD iter. 318/499: loss=1104.3764124975291, w0=72.10000000000014, w1=14.535715920669531\n",
      "SubSGD iter. 319/499: loss=1105.8384987670956, w0=71.40000000000013, w1=14.975911175376503\n",
      "SubSGD iter. 320/499: loss=1112.2403620492905, w0=72.10000000000014, w1=15.32037942224697\n",
      "SubSGD iter. 321/499: loss=1084.2497117191988, w0=71.40000000000013, w1=14.586103678755173\n",
      "SubSGD iter. 322/499: loss=1125.8437936725377, w0=70.70000000000013, w1=15.207155252325766\n",
      "SubSGD iter. 323/499: loss=1142.1557934014302, w0=70.00000000000013, w1=15.831971352136712\n",
      "SubSGD iter. 324/499: loss=1182.541865954928, w0=69.30000000000013, w1=16.114519171222938\n",
      "SubSGD iter. 325/499: loss=1250.52196030886, w0=70.00000000000013, w1=15.987504725994912\n",
      "SubSGD iter. 326/499: loss=1182.5878832813642, w0=70.70000000000013, w1=15.556494041246298\n",
      "SubSGD iter. 327/499: loss=1136.9541011514216, w0=70.00000000000013, w1=16.114617744995336\n",
      "SubSGD iter. 328/499: loss=1183.7796823833673, w0=69.30000000000013, w1=16.386097926977914\n",
      "SubSGD iter. 329/499: loss=1252.0344034052607, w0=70.00000000000013, w1=15.946409521892729\n",
      "SubSGD iter. 330/499: loss=1182.4365002342172, w0=70.70000000000013, w1=16.476110495954845\n",
      "SubSGD iter. 331/499: loss=1134.279577539813, w0=71.40000000000013, w1=15.574478231542088\n",
      "SubSGD iter. 332/499: loss=1100.6354869189443, w0=72.10000000000014, w1=15.198892393255518\n",
      "SubSGD iter. 333/499: loss=1086.6963325526172, w0=71.40000000000013, w1=13.99287610348507\n",
      "SubSGD iter. 334/499: loss=1157.2273448164333, w0=72.10000000000014, w1=13.19850675899429\n",
      "SubSGD iter. 335/499: loss=1177.86776379365, w0=71.40000000000013, w1=13.75663046274333\n",
      "SubSGD iter. 336/499: loss=1171.3362051205654, w0=72.10000000000014, w1=14.408687360185784\n",
      "SubSGD iter. 337/499: loss=1110.0656898295124, w0=72.80000000000014, w1=15.02334834131617\n",
      "SubSGD iter. 338/499: loss=1082.4547314456252, w0=72.10000000000014, w1=15.173805017767299\n",
      "SubSGD iter. 339/499: loss=1087.2657422288294, w0=71.40000000000013, w1=15.04148149141346\n",
      "SubSGD iter. 340/499: loss=1110.6980506935156, w0=72.10000000000014, w1=14.691543559933143\n",
      "SubSGD iter. 341/499: loss=1101.043675566382, w0=71.40000000000013, w1=15.122554244681757\n",
      "SubSGD iter. 342/499: loss=1108.809963772906, w0=72.10000000000014, w1=14.740428260131422\n",
      "SubSGD iter. 343/499: loss=1099.5394912266954, w0=71.40000000000013, w1=15.087512245751412\n",
      "SubSGD iter. 344/499: loss=1109.6153388900484, w0=70.70000000000013, w1=15.527707500458384\n",
      "SubSGD iter. 345/499: loss=1137.2778669098238, w0=71.40000000000013, w1=16.40687981268919\n",
      "SubSGD iter. 346/499: loss=1099.2588020636276, w0=72.10000000000014, w1=16.60931670273019\n",
      "SubSGD iter. 347/499: loss=1082.6543489431847, w0=71.40000000000013, w1=16.79118054630536\n",
      "SubSGD iter. 348/499: loss=1103.300436382211, w0=72.10000000000014, w1=16.586347026430136\n",
      "SubSGD iter. 349/499: loss=1082.3350085727081, w0=71.40000000000013, w1=16.997422210972363\n",
      "SubSGD iter. 350/499: loss=1106.9031162965948, w0=70.70000000000013, w1=17.27997003005859\n",
      "SubSGD iter. 351/499: loss=1153.8074059345677, w0=71.40000000000013, w1=18.011934623566223\n",
      "SubSGD iter. 352/499: loss=1151.5129908644521, w0=72.10000000000014, w1=17.61595838034439\n",
      "SubSGD iter. 353/499: loss=1113.1340935169349, w0=72.80000000000014, w1=17.631266047056528\n",
      "SubSGD iter. 354/499: loss=1111.0326844737015, w0=72.10000000000014, w1=18.158223082825376\n",
      "SubSGD iter. 355/499: loss=1140.264863263926, w0=71.40000000000013, w1=17.565905121557197\n",
      "SubSGD iter. 356/499: loss=1128.4056997122102, w0=70.70000000000013, w1=18.135865246093182\n",
      "SubSGD iter. 357/499: loss=1191.2632388227762, w0=71.40000000000013, w1=18.38546370878036\n",
      "SubSGD iter. 358/499: loss=1172.9952078717358, w0=70.70000000000013, w1=18.77074784910849\n",
      "SubSGD iter. 359/499: loss=1229.4957166938077, w0=71.40000000000013, w1=19.220927595314784\n",
      "SubSGD iter. 360/499: loss=1227.1804807457904, w0=72.10000000000014, w1=19.38673385488228\n",
      "SubSGD iter. 361/499: loss=1220.32289937713, w0=71.40000000000013, w1=20.222772712155095\n",
      "SubSGD iter. 362/499: loss=1304.9720508820383, w0=72.10000000000014, w1=20.835765209338653\n",
      "SubSGD iter. 363/499: loss=1344.1577641027102, w0=72.80000000000014, w1=20.811799369535564\n",
      "SubSGD iter. 364/499: loss=1342.0800202441783, w0=73.50000000000014, w1=21.08992633833725\n",
      "SubSGD iter. 365/499: loss=1379.0903368315999, w0=72.80000000000014, w1=21.27408711665557\n",
      "SubSGD iter. 366/499: loss=1388.6796187833042, w0=73.50000000000014, w1=21.740669242622143\n",
      "SubSGD iter. 367/499: loss=1447.759247621532, w0=74.20000000000014, w1=22.293875158698256\n",
      "SubSGD iter. 368/499: loss=1526.1448272291877, w0=74.90000000000015, w1=21.523052092630067\n",
      "SubSGD iter. 369/499: loss=1475.8857983458947, w0=75.60000000000015, w1=20.950042009615444\n",
      "SubSGD iter. 370/499: loss=1466.0961359519993, w0=76.30000000000015, w1=19.766039809221553\n",
      "SubSGD iter. 371/499: loss=1426.5061553569687, w0=77.00000000000016, w1=19.879860136035866\n",
      "SubSGD iter. 372/499: loss=1502.464636476921, w0=76.30000000000015, w1=20.305646283326606\n",
      "SubSGD iter. 373/499: loss=1466.0734345179055, w0=75.60000000000015, w1=19.187336062715126\n",
      "SubSGD iter. 374/499: loss=1328.8756986899734, w0=74.90000000000015, w1=18.12942075588757\n",
      "SubSGD iter. 375/499: loss=1209.7912105698838, w0=74.20000000000014, w1=18.073111140842265\n",
      "SubSGD iter. 376/499: loss=1168.7683541632064, w0=73.50000000000014, w1=18.51279954592745\n",
      "SubSGD iter. 377/499: loss=1165.263716429034, w0=72.80000000000014, w1=18.95299480063442\n",
      "SubSGD iter. 378/499: loss=1183.0374201627758, w0=72.10000000000014, w1=18.597967323104594\n",
      "SubSGD iter. 379/499: loss=1166.8813972264034, w0=71.40000000000013, w1=18.877896315541058\n",
      "SubSGD iter. 380/499: loss=1203.5260398094001, w0=72.10000000000014, w1=18.02405004511579\n",
      "SubSGD iter. 381/499: loss=1132.9497306886415, w0=72.80000000000014, w1=18.65632447359748\n",
      "SubSGD iter. 382/499: loss=1163.9192203679231, w0=73.50000000000014, w1=17.67952699465556\n",
      "SubSGD iter. 383/499: loss=1126.26271226037, w0=72.80000000000014, w1=18.304343094466507\n",
      "SubSGD iter. 384/499: loss=1143.349679298234, w0=72.10000000000014, w1=18.575823276449086\n",
      "SubSGD iter. 385/499: loss=1165.4372799429918, w0=72.80000000000014, w1=18.741276068381712\n",
      "SubSGD iter. 386/499: loss=1169.182320507062, w0=72.10000000000014, w1=18.084093365186728\n",
      "SubSGD iter. 387/499: loss=1136.1859188085223, w0=72.80000000000014, w1=17.84311345052008\n",
      "SubSGD iter. 388/499: loss=1120.1442614985383, w0=73.50000000000014, w1=17.638279930644856\n",
      "SubSGD iter. 389/499: loss=1124.5999715906855, w0=72.80000000000014, w1=17.37756770926299\n",
      "SubSGD iter. 390/499: loss=1101.73732379715, w0=72.10000000000014, w1=17.773004501205996\n",
      "SubSGD iter. 391/499: loss=1120.1035762022404, w0=71.40000000000013, w1=16.81486941030419\n",
      "SubSGD iter. 392/499: loss=1103.6514481588201, w0=72.10000000000014, w1=16.461753658736875\n",
      "SubSGD iter. 393/499: loss=1080.9891683845076, w0=72.80000000000014, w1=17.074746155920433\n",
      "SubSGD iter. 394/499: loss=1092.281161326826, w0=73.50000000000014, w1=18.255550856620328\n",
      "SubSGD iter. 395/499: loss=1151.3677425777314, w0=72.80000000000014, w1=18.46038437649555\n",
      "SubSGD iter. 396/499: loss=1152.2141212188874, w0=72.10000000000014, w1=18.404074761450246\n",
      "SubSGD iter. 397/499: loss=1154.7299733581256, w0=72.80000000000014, w1=18.569527553382873\n",
      "SubSGD iter. 398/499: loss=1158.6621802607433, w0=72.10000000000014, w1=17.96412440193889\n",
      "SubSGD iter. 399/499: loss=1129.7198850655786, w0=72.80000000000014, w1=16.98732692299697\n",
      "SubSGD iter. 400/499: loss=1089.652865853003, w0=72.10000000000014, w1=17.690831841387833\n",
      "SubSGD iter. 401/499: loss=1116.357286005234, w0=71.40000000000013, w1=17.267290588333818\n",
      "SubSGD iter. 402/499: loss=1115.553154099764, w0=72.10000000000014, w1=16.47292124384304\n",
      "SubSGD iter. 403/499: loss=1081.1075132578842, w0=71.40000000000013, w1=17.097737343653986\n",
      "SubSGD iter. 404/499: loss=1109.5871725604688, w0=72.10000000000014, w1=17.625793159164633\n",
      "SubSGD iter. 405/499: loss=1113.5574662951626, w0=72.80000000000014, w1=16.271836265131405\n",
      "SubSGD iter. 406/499: loss=1074.0756100329706, w0=73.50000000000014, w1=17.284274602997826\n",
      "SubSGD iter. 407/499: loss=1111.2203594404118, w0=72.80000000000014, w1=16.66514120705316\n",
      "SubSGD iter. 408/499: loss=1080.344064916562, w0=73.50000000000014, w1=15.72163472351604\n",
      "SubSGD iter. 409/499: loss=1083.392342175263, w0=72.80000000000014, w1=14.663719416688481\n",
      "SubSGD iter. 410/499: loss=1091.108387192864, w0=73.50000000000014, w1=14.829172208621108\n",
      "SubSGD iter. 411/499: loss=1091.3768083650518, w0=72.80000000000014, w1=13.62315591885066\n",
      "SubSGD iter. 412/499: loss=1132.7412839047538, w0=72.10000000000014, w1=14.008440059178788\n",
      "SubSGD iter. 413/499: loss=1128.9444138527535, w0=72.80000000000014, w1=14.219604453744992\n",
      "SubSGD iter. 414/499: loss=1105.386989012898, w0=73.50000000000014, w1=10.846460776155315\n",
      "SubSGD iter. 415/499: loss=1358.114331560867, w0=72.80000000000014, w1=11.735292600321808\n",
      "SubSGD iter. 416/499: loss=1281.7245816347454, w0=72.10000000000014, w1=11.979319425030958\n",
      "SubSGD iter. 417/499: loss=1275.4983955777043, w0=71.40000000000013, w1=12.60210583185125\n",
      "SubSGD iter. 418/499: loss=1251.0232409822681, w0=72.10000000000014, w1=13.126286383302968\n",
      "SubSGD iter. 419/499: loss=1182.780406924177, w0=72.80000000000014, w1=14.307091084002865\n",
      "SubSGD iter. 420/499: loss=1102.2308307108863, w0=73.50000000000014, w1=14.536212776289624\n",
      "SubSGD iter. 421/499: loss=1096.8261802248976, w0=72.80000000000014, w1=13.63103767310256\n",
      "SubSGD iter. 422/499: loss=1132.2966431014142, w0=73.50000000000014, w1=12.934452921861796\n",
      "SubSGD iter. 423/499: loss=1175.123766798452, w0=74.20000000000014, w1=13.312992705218527\n",
      "SubSGD iter. 424/499: loss=1160.1417823778986, w0=73.50000000000014, w1=13.59816719976782\n",
      "SubSGD iter. 425/499: loss=1131.902679480861, w0=72.80000000000014, w1=12.897233202333068\n",
      "SubSGD iter. 426/499: loss=1180.898641890918, w0=73.50000000000014, w1=13.510225699516628\n",
      "SubSGD iter. 427/499: loss=1137.10977274478, w0=74.20000000000014, w1=13.653556290111144\n",
      "SubSGD iter. 428/499: loss=1144.2321399963798, w0=73.50000000000014, w1=13.424434597824385\n",
      "SubSGD iter. 429/499: loss=1142.2717966039027, w0=74.20000000000014, w1=13.851951683041804\n",
      "SubSGD iter. 430/499: loss=1136.0937937584374, w0=74.90000000000015, w1=14.708173735546342\n",
      "SubSGD iter. 431/499: loss=1145.6148433628598, w0=74.20000000000014, w1=14.733471500935185\n",
      "SubSGD iter. 432/499: loss=1111.8596034027369, w0=73.50000000000014, w1=15.276487962300283\n",
      "SubSGD iter. 433/499: loss=1086.0977581692318, w0=72.80000000000014, w1=14.684170001032106\n",
      "SubSGD iter. 434/499: loss=1090.56848412834, w0=73.50000000000014, w1=15.776794515357901\n",
      "SubSGD iter. 435/499: loss=1083.267712082392, w0=74.20000000000014, w1=14.799997036415983\n",
      "SubSGD iter. 436/499: loss=1110.6941256168914, w0=73.50000000000014, w1=15.599827770478692\n",
      "SubSGD iter. 437/499: loss=1083.6675573521597, w0=72.80000000000014, w1=15.176286517424677\n",
      "SubSGD iter. 438/499: loss=1080.011864822462, w0=72.10000000000014, w1=14.007955716907208\n",
      "SubSGD iter. 439/499: loss=1128.9697305538093, w0=72.80000000000014, w1=14.118255750368\n",
      "SubSGD iter. 440/499: loss=1109.0432339799127, w0=72.10000000000014, w1=14.503539890696128\n",
      "SubSGD iter. 441/499: loss=1106.8285566012025, w0=72.80000000000014, w1=13.764207091252185\n",
      "SubSGD iter. 442/499: loss=1125.2027704697084, w0=73.50000000000014, w1=13.38208110670185\n",
      "SubSGD iter. 443/499: loss=1144.8201929687839, w0=74.20000000000014, w1=13.547887366269347\n",
      "SubSGD iter. 444/499: loss=1148.8149457916204, w0=74.90000000000015, w1=12.86119273076321\n",
      "SubSGD iter. 445/499: loss=1209.1530993854803, w0=74.20000000000014, w1=13.83799020970513\n",
      "SubSGD iter. 446/499: loss=1136.6206808594707, w0=74.90000000000015, w1=13.442013966483296\n",
      "SubSGD iter. 447/499: loss=1182.4655280489565, w0=75.60000000000015, w1=13.786482213353764\n",
      "SubSGD iter. 448/499: loss=1211.3768367605865, w0=74.90000000000015, w1=14.333644515587634\n",
      "SubSGD iter. 449/499: loss=1153.8236387721008, w0=74.20000000000014, w1=14.515508359162803\n",
      "SubSGD iter. 450/499: loss=1116.4527771726553, w0=73.50000000000014, w1=13.568596097420373\n",
      "SubSGD iter. 451/499: loss=1133.5976440892175, w0=72.80000000000014, w1=14.752598297814265\n",
      "SubSGD iter. 452/499: loss=1088.7619515367987, w0=73.50000000000014, w1=14.652321198574056\n",
      "SubSGD iter. 453/499: loss=1094.522345628161, w0=72.80000000000014, w1=15.08333188332267\n",
      "SubSGD iter. 454/499: loss=1081.4278692220882, w0=72.10000000000014, w1=15.514342568071283\n",
      "SubSGD iter. 455/499: loss=1081.360497335298, w0=72.80000000000014, w1=16.166399465513738\n",
      "SubSGD iter. 456/499: loss=1073.6196906931032, w0=72.10000000000014, w1=17.002438322786553\n",
      "SubSGD iter. 457/499: loss=1091.391006049429, w0=72.80000000000014, w1=16.477805398074814\n",
      "SubSGD iter. 458/499: loss=1076.1848833354297, w0=72.10000000000014, w1=16.84807348860361\n",
      "SubSGD iter. 459/499: loss=1087.3902219818642, w0=71.40000000000013, w1=16.234159075226028\n",
      "SubSGD iter. 460/499: loss=1098.1129865730882, w0=70.70000000000013, w1=15.488173421638631\n",
      "SubSGD iter. 461/499: loss=1137.7225115479598, w0=71.40000000000013, w1=16.234159075226028\n",
      "SubSGD iter. 462/499: loss=1098.1129865730882, w0=72.10000000000014, w1=15.630393005259513\n",
      "SubSGD iter. 463/499: loss=1080.1184534902895, w0=72.80000000000014, w1=15.294030047583437\n",
      "SubSGD iter. 464/499: loss=1078.5666623323723, w0=72.10000000000014, w1=14.745635543825626\n",
      "SubSGD iter. 465/499: loss=1099.3792628821757, w0=72.80000000000014, w1=14.948072433866626\n",
      "SubSGD iter. 466/499: loss=1083.9983033964072, w0=73.50000000000014, w1=15.113878693434122\n",
      "SubSGD iter. 467/499: loss=1087.614287267711, w0=72.80000000000014, w1=14.27268852520948\n",
      "SubSGD iter. 468/499: loss=1103.4719337368704, w0=73.50000000000014, w1=14.72134756399419\n",
      "SubSGD iter. 469/499: loss=1093.17307113534, w0=74.20000000000014, w1=15.161272006878372\n",
      "SubSGD iter. 470/499: loss=1106.4317482529425, w0=73.50000000000014, w1=15.242086312367084\n",
      "SubSGD iter. 471/499: loss=1086.4185953731817, w0=74.20000000000014, w1=14.714897673619857\n",
      "SubSGD iter. 472/499: loss=1112.191637623093, w0=74.90000000000015, w1=15.327890170803418\n",
      "SubSGD iter. 473/499: loss=1135.3328834557615, w0=75.60000000000015, w1=14.754880087788795\n",
      "SubSGD iter. 474/499: loss=1187.0679860058888, w0=74.90000000000015, w1=15.186672666072216\n",
      "SubSGD iter. 475/499: loss=1137.2497991967505, w0=74.20000000000014, w1=15.0083205446924\n",
      "SubSGD iter. 476/499: loss=1107.6475668659873, w0=73.50000000000014, w1=15.10859764393261\n",
      "SubSGD iter. 477/499: loss=1087.6635394739067, w0=74.20000000000014, w1=14.583964719220871\n",
      "SubSGD iter. 478/499: loss=1114.8263632758224, w0=73.50000000000014, w1=14.85544490120345\n",
      "SubSGD iter. 479/499: loss=1090.9657140152835, w0=74.20000000000014, w1=15.020897693136076\n",
      "SubSGD iter. 480/499: loss=1107.5219031643908, w0=73.50000000000014, w1=14.415494541692091\n",
      "SubSGD iter. 481/499: loss=1099.5802470814997, w0=72.80000000000014, w1=14.216733675873567\n",
      "SubSGD iter. 482/499: loss=1105.4905548878828, w0=72.10000000000014, w1=14.83778524944416\n",
      "SubSGD iter. 483/499: loss=1096.543812454211, w0=72.80000000000014, w1=14.313152324732421\n",
      "SubSGD iter. 484/499: loss=1102.0121660395796, w0=73.50000000000014, w1=13.960036573165107\n",
      "SubSGD iter. 485/499: loss=1114.3188381730765, w0=72.80000000000014, w1=14.936834052107026\n",
      "SubSGD iter. 486/499: loss=1084.2659522440517, w0=72.10000000000014, w1=14.27965134891204\n",
      "SubSGD iter. 487/499: loss=1115.319665944506, w0=72.80000000000014, w1=15.011615942419676\n",
      "SubSGD iter. 488/499: loss=1082.679136718763, w0=73.50000000000014, w1=15.154946533014192\n",
      "SubSGD iter. 489/499: loss=1087.231279741946, w0=72.80000000000014, w1=16.28087894651536\n",
      "SubSGD iter. 490/499: loss=1074.1147114979444, w0=72.10000000000014, w1=16.43133562296649\n",
      "SubSGD iter. 491/499: loss=1080.6786251693877, w0=72.80000000000014, w1=15.577489352541221\n",
      "SubSGD iter. 492/499: loss=1075.437478840332, w0=73.50000000000014, w1=15.77992624258222\n",
      "SubSGD iter. 493/499: loss=1083.2606361409903, w0=74.20000000000014, w1=14.425969348548993\n",
      "SubSGD iter. 494/499: loss=1118.5908398490499, w0=74.90000000000015, w1=13.739274713042857\n",
      "SubSGD iter. 495/499: loss=1171.152643600766, w0=75.60000000000015, w1=14.572612295602433\n",
      "SubSGD iter. 496/499: loss=1191.1037170049422, w0=76.30000000000015, w1=15.23575661264548\n",
      "SubSGD iter. 497/499: loss=1240.1076917387531, w0=75.60000000000015, w1=15.419222391695898\n",
      "SubSGD iter. 498/499: loss=1181.6586874261923, w0=74.90000000000015, w1=16.50901741476912\n",
      "SubSGD iter. 499/499: loss=1147.6408359194804, w0=75.60000000000015, w1=16.53539006539394\n",
      "SubSGD: execution time=0.110 seconds\n"
     ]
    }
   ],
   "source": [
    "# Define the parameters of the algorithm.\n",
    "max_iters = 500\n",
    "gamma = 0.7\n",
    "batch_size = 1\n",
    "\n",
    "# Initialization\n",
    "w_initial = np.array([0, 0])\n",
    "\n",
    "# Start SubSGD.\n",
    "start_time = datetime.datetime.now()\n",
    "subsgd_losses, subsgd_ws = stochastic_subgradient_descent(\n",
    "    y, tx, w_initial, batch_size, max_iters, gamma)\n",
    "end_time = datetime.datetime.now()\n",
    "\n",
    "# Print result\n",
    "exection_time = (end_time - start_time).total_seconds()\n",
    "print(\"SubSGD: execution time={t:.3f} seconds\".format(t=exection_time))"
   ]
  },
  {
   "cell_type": "code",
   "execution_count": 28,
   "metadata": {},
   "outputs": [
    {
     "data": {
      "application/vnd.jupyter.widget-view+json": {
       "model_id": "c80df71225744a79b453c5a7bee63799",
       "version_major": 2,
       "version_minor": 0
      },
      "text/plain": [
       "interactive(children=(IntSlider(value=1, description='n_iter', max=501, min=1), Output()), _dom_classes=('widg…"
      ]
     },
     "metadata": {},
     "output_type": "display_data"
    },
    {
     "data": {
      "text/plain": [
       "<function __main__.plot_figure(n_iter)>"
      ]
     },
     "execution_count": 28,
     "metadata": {},
     "output_type": "execute_result"
    }
   ],
   "source": [
    "from ipywidgets import IntSlider, interact\n",
    "def plot_figure(n_iter):\n",
    "    fig = gradient_descent_visualization(\n",
    "        subsgd_losses, subsgd_ws, grid_losses, grid_w0, grid_w1, mean_x, std_x, height, weight, n_iter)\n",
    "    fig.set_size_inches(10.0, 6.0)\n",
    "\n",
    "interact(plot_figure, n_iter=IntSlider(min=1, max=len(subsgd_ws)))"
   ]
  },
  {
   "cell_type": "code",
   "execution_count": null,
   "metadata": {},
   "outputs": [],
   "source": []
  }
 ],
 "metadata": {
  "anaconda-cloud": {},
  "kernelspec": {
   "display_name": "Python 3 (ipykernel)",
   "language": "python",
   "name": "python3"
  },
  "language_info": {
   "codemirror_mode": {
    "name": "ipython",
    "version": 3
   },
   "file_extension": ".py",
   "mimetype": "text/x-python",
   "name": "python",
   "nbconvert_exporter": "python",
   "pygments_lexer": "ipython3",
   "version": "3.9.7"
  },
  "widgets": {
   "state": {
    "d2b2c3aea192430e81437f33ba0b0e69": {
     "views": [
      {
       "cell_index": 22
      }
     ]
    },
    "e4a6a7a70ccd42ddb112989c04f2ed3f": {
     "views": [
      {
       "cell_index": 18
      }
     ]
    }
   },
   "version": "1.2.0"
  }
 },
 "nbformat": 4,
 "nbformat_minor": 1
}
