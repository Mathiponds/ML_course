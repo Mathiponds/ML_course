{
 "cells": [
  {
   "cell_type": "code",
   "execution_count": 1,
   "metadata": {},
   "outputs": [],
   "source": [
    "# Useful starting lines\n",
    "%matplotlib inline\n",
    "import numpy as np\n",
    "import matplotlib.pyplot as plt\n",
    "%load_ext autoreload\n",
    "%autoreload 2"
   ]
  },
  {
   "cell_type": "markdown",
   "metadata": {},
   "source": [
    "# Load the data"
   ]
  },
  {
   "cell_type": "code",
   "execution_count": 2,
   "metadata": {},
   "outputs": [],
   "source": [
    "import datetime\n",
    "from helpers import *\n",
    "\n",
    "height, weight, gender = load_data(sub_sample=False, add_outlier=False)\n",
    "x, mean_x, std_x = standardize(height)\n",
    "y, tx = build_model_data(x, weight)\n",
    "N = y.shape[0] "
   ]
  },
  {
   "cell_type": "code",
   "execution_count": 3,
   "metadata": {},
   "outputs": [
    {
     "data": {
      "text/plain": [
       "((10000,), (10000, 2))"
      ]
     },
     "execution_count": 3,
     "metadata": {},
     "output_type": "execute_result"
    }
   ],
   "source": [
    "y.shape, tx.shape"
   ]
  },
  {
   "cell_type": "markdown",
   "metadata": {},
   "source": [
    "### NB: throughout this laboratory the data has the following format: \n",
    "  * there are **N = 10000** data entries\n",
    "  * **y** represents the column vector containing weight information -- that which we wish to predict/the output (see also the first page of $\\texttt{exercise02.pdf}$). Its **shape** is **(N,)**.\n",
    "  * **tx** represents the matrix $\\tilde{X}$ formed by laterally concatenating a column vector of 1s to the column vector of height information -- the input data (see also the first page of $\\texttt{exercise02.pdf}$). Its **shape** is **(N,2)**."
   ]
  },
  {
   "cell_type": "markdown",
   "metadata": {},
   "source": [
    "# 1. Computing the Cost Function\n",
    "Fill in the `compute_cost` function below:"
   ]
  },
  {
   "cell_type": "code",
   "execution_count": 4,
   "metadata": {},
   "outputs": [],
   "source": [
    "def get_err(y, tx, w):\n",
    "    return y-tx.dot(w)\n",
    "\n",
    "def compute_loss(y, tx, w):\n",
    "\n",
    "    \"\"\"Calculate the loss using either MSE or MAE.\n",
    "\n",
    "    Args:\n",
    "        y: numpy array of shape=(N, )\n",
    "        tx: numpy array of shape=(N,2)\n",
    "        w: numpy array of shape=(2,). The vector of model parameters.\n",
    "\n",
    "    Returns:\n",
    "        the value of the loss (a scalar), corresponding to the input parameters w.\n",
    "    \"\"\"\n",
    "    # ***************************************************\n",
    "    # INSERT YOUR CODE HERE\n",
    "    # TODO: compute loss by MSE\n",
    "    err = get_err(y, tx, w)\n",
    "    return 0.5/N * err.T.dot(err)\n",
    "    # ***************************************************"
   ]
  },
  {
   "cell_type": "markdown",
   "metadata": {},
   "source": [
    "# 2. Grid Search"
   ]
  },
  {
   "cell_type": "markdown",
   "metadata": {},
   "source": [
    "Fill in the function `grid_search()` below:"
   ]
  },
  {
   "cell_type": "code",
   "execution_count": 5,
   "metadata": {},
   "outputs": [],
   "source": [
    "# from costs import *\n",
    "\n",
    "def grid_search(y, tx, grid_w0, grid_w1):\n",
    "    \"\"\"Algorithm for grid search.\n",
    "        \n",
    "    Args:\n",
    "        y: numpy array of shape=(N, )\n",
    "        tx: numpy array of shape=(N,2)\n",
    "        grid_w0: numpy array of shape=(num_grid_pts_w0, ). A 1D array containing num_grid_pts_w0 values of parameter w0 to be tested in the grid search.\n",
    "        grid_w1: numpy array of shape=(num_grid_pts_w1, ). A 1D array containing num_grid_pts_w1 values of parameter w1 to be tested in the grid search.\n",
    "        \n",
    "    Returns:\n",
    "        losses: numpy array of shape=(num_grid_pts_w0, num_grid_pts_w1). A 2D array containing the loss value for each combination of w0 and w1\n",
    "    \"\"\"\n",
    "\n",
    "    losses = np.zeros((len(grid_w0), len(grid_w1)))\n",
    "    # ***************************************************\n",
    "    # INSERT YOUR CODE HERE\n",
    "    # TODO: compute loss for each combination of w0 and w1.\n",
    "    for i, w0 in enumerate(grid_w0) : \n",
    "        for j, w1 in enumerate(grid_w1) :\n",
    "            losses[i,j]=compute_loss(y, tx, [w0, w1])\n",
    "            \n",
    "            \n",
    "    # ***************************************************\n",
    "    return losses"
   ]
  },
  {
   "cell_type": "markdown",
   "metadata": {},
   "source": [
    "Let us play with the grid search demo now!"
   ]
  },
  {
   "cell_type": "code",
   "execution_count": 31,
   "metadata": {},
   "outputs": [],
   "source": [
    "from grid_search import generate_w, get_best_parameters\n",
    "from plots import grid_visualization\n",
    "\n",
    "grid_w0, grid_w1 = get_grid(10)\n",
    "def get_grid(num_intervals=10):\n",
    "    return generate_w(num_intervals)\n",
    "def show_plots(num_intervals=10) : \n",
    "    # Generate the grid of parameters to be swept\n",
    "    grid_w0, grid_w1 = get_grid(num_intervals)\n",
    "\n",
    "    # Start the grid search\n",
    "    start_time = datetime.datetime.now()\n",
    "    grid_losses = grid_search(y, tx, grid_w0, grid_w1)\n",
    "\n",
    "    # Select the best combinaison\n",
    "    loss_star, w0_star, w1_star = get_best_parameters(grid_w0, grid_w1, grid_losses)\n",
    "    end_time = datetime.datetime.now()\n",
    "    execution_time = (end_time - start_time).total_seconds()\n",
    "\n",
    "    # Print the results\n",
    "    print(\"Grid Search: loss*={l}, w0*={w0}, w1*={w1}, execution time={t:.3f} seconds\".format(\n",
    "          l=loss_star, w0=w0_star, w1=w1_star, t=execution_time))\n",
    "\n",
    "    # Plot the results\n",
    "    fig = grid_visualization(grid_losses, grid_w0, grid_w1, mean_x, std_x, height, weight)\n",
    "    fig.set_size_inches(10.0,6.0)\n",
    "    fig.savefig(\"grid_plot\"+str(num_intervals))  # Optional saving\n",
    "    return grid_losses"
   ]
  },
  {
   "cell_type": "code",
   "execution_count": 7,
   "metadata": {},
   "outputs": [
    {
     "name": "stdout",
     "output_type": "stream",
     "text": [
      "Grid Search: loss*=42.42448314678249, w0*=66.66666666666669, w1*=16.666666666666686, execution time=0.016 seconds\n",
      "Grid Search: loss*=18.79354101952324, w0*=71.42857142857142, w1*=15.306122448979579, execution time=0.090 seconds\n"
     ]
    },
    {
     "data": {
      "image/png": "[encoded data removed]",
      "text/plain": [
       "<Figure size 720x432 with 3 Axes>"
      ]
     },
     "metadata": {
      "needs_background": "light"
     },
     "output_type": "display_data"
    },
    {
     "data": {
      "image/png": "[encoded data removed]",
      "text/plain": [
       "<Figure size 720x432 with 3 Axes>"
      ]
     },
     "metadata": {
      "needs_background": "light"
     },
     "output_type": "display_data"
    }
   ],
   "source": [
    "show_plots()\n",
    "grid_losses = show_plots(50)"
   ]
  },
  {
   "cell_type": "markdown",
   "metadata": {},
   "source": [
    "# 3. Gradient Descent"
   ]
  },
  {
   "cell_type": "markdown",
   "metadata": {},
   "source": [
    "Again, please fill in the functions `compute_gradient` below:"
   ]
  },
  {
   "cell_type": "code",
   "execution_count": 8,
   "metadata": {},
   "outputs": [],
   "source": [
    "def compute_gradient(y, tx, w):\n",
    "    \"\"\"Computes the gradient at w.\n",
    "        \n",
    "    Args:\n",
    "        y: numpy array of shape=(N, )\n",
    "        tx: numpy array of shape=(N,2)\n",
    "        w: numpy array of shape=(2, ). The vector of model parameters.\n",
    "        \n",
    "    Returns:\n",
    "        An numpy array of shape (2, ) (same shape as w), containing the gradient of the loss at w.\n",
    "    \"\"\"\n",
    "    # ***************************************************\n",
    "    # INSERT YOUR CODE HERE\n",
    "    # TODO: compute gradient vector\n",
    "    N = y.shape[0]\n",
    "    gradient = -1/N * tx.T.dot(get_err(y, tx, w))\n",
    "    # ***************************************************\n",
    "    return gradient"
   ]
  },
  {
   "cell_type": "code",
   "execution_count": 9,
   "metadata": {},
   "outputs": [
    {
     "name": "stdout",
     "output_type": "stream",
     "text": [
      "[26.706078    6.52028757]\n",
      "[-23.293922    -3.47971243]\n",
      "[-2.293922    1.52028757]\n",
      "[-73.293922   -13.47971243]\n"
     ]
    }
   ],
   "source": [
    "print(compute_gradient(y,tx,[100,20]))\n",
    "print(compute_gradient(y,tx,[50,10]))\n",
    "print(compute_gradient(y,tx,[71,15]))\n",
    "print(compute_gradient(y,tx,[0,0]))"
   ]
  },
  {
   "cell_type": "markdown",
   "metadata": {},
   "source": [
    "Please fill in the functions `gradient_descent` below:"
   ]
  },
  {
   "cell_type": "code",
   "execution_count": 10,
   "metadata": {},
   "outputs": [],
   "source": [
    "def gradient_descent(y, tx, initial_w, max_iters, gamma, verbose = False):\n",
    "    \"\"\"The Gradient Descent (GD) algorithm.\n",
    "        \n",
    "    Args:\n",
    "        y: numpy array of shape=(N, )\n",
    "        tx: numpy array of shape=(N,2)\n",
    "        initial_w: numpy array of shape=(2, ). The initial guess (or the initialization) for the model parameters\n",
    "        max_iters: a scalar denoting the total number of iterations of GD\n",
    "        gamma: a scalar denoting the stepsize\n",
    "        \n",
    "    Returns:\n",
    "        losses: a list of length max_iters containing the loss value (scalar) for each iteration of GD\n",
    "        ws: a list of length max_iters containing the model parameters as numpy arrays of shape (2, ), for each iteration of GD \n",
    "    \"\"\"\n",
    "    # Define parameters to store w and loss\n",
    "    ws = [initial_w]\n",
    "    losses = []\n",
    "    w = initial_w\n",
    "    for n_iter in range(max_iters):\n",
    "        # ***************************************************\n",
    "        # INSERT YOUR CODE HERE\n",
    "        # TODO: compute gradient and loss\n",
    "        gradient = compute_gradient(y,tx,w)\n",
    "        loss = compute_loss(y,tx,w)\n",
    "        # ***************************************************\n",
    "        # ***************************************************\n",
    "        # INSERT YOUR CODE HERE\n",
    "        # TODO: update w by gradient\n",
    "        w = w - gamma* gradient\n",
    "        # ***************************************************\n",
    "        \n",
    "        # store w and loss\n",
    "        ws.append(w)\n",
    "        losses.append(loss)\n",
    "        if verbose :\n",
    "            print(\"GD iter. {bi}/{ti}: loss={l}, w0={w0}, w1={w1}\".format(\n",
    "                  bi=n_iter, ti=max_iters - 1, l=loss, w0=w[0], w1=w[1]))\n",
    "\n",
    "    return losses, ws"
   ]
  },
  {
   "cell_type": "markdown",
   "metadata": {},
   "source": [
    "Test your gradient descent function through gradient descent demo shown below:"
   ]
  },
  {
   "cell_type": "code",
   "execution_count": 11,
   "metadata": {},
   "outputs": [],
   "source": [
    "# from gradient_descent import *\n",
    "from plots import gradient_descent_visualization\n",
    "from ipywidgets import IntSlider, interact\n",
    "\n",
    "def plot_figure(n_iter):\n",
    "    fig = gradient_descent_visualization(\n",
    "        gd_losses, gd_ws, grid_losses, grid_w0, grid_w1, mean_x, std_x, height, weight, n_iter)\n",
    "    fig.set_size_inches(10.0, 6.0)\n",
    "\n",
    "def play_with_gradient_descent(y, tx, initial_w= np.array([0, 0]), max_iters= 50, gamma=0.7, verbose = False):\n",
    "\n",
    "    # Start gradient descent.\n",
    "    start_time = datetime.datetime.now()\n",
    "    gd_losses, gd_ws = gradient_descent(y, tx, initial_w, max_iters, gamma)\n",
    "    end_time = datetime.datetime.now()\n",
    "\n",
    "    # Print result\n",
    "    exection_time = (end_time - start_time).total_seconds()\n",
    "    if verbose :\n",
    "        print(\"GD: execution time={t:.3f} seconds\".format(t=exection_time))\n",
    "        \n",
    "    grid_w0, grid_w1 = get_grid(num_intervals = 10)\n",
    "    def plot_figure(n_iter):\n",
    "        fig = gradient_descent_visualization(\n",
    "            gd_losses, gd_ws, grid_losses, grid_w0, grid_w1, mean_x, std_x, height, weight, n_iter)\n",
    "        fig.set_size_inches(10.0, 6.0)\n",
    "    \n",
    "    interact(plot_figure, n_iter=IntSlider(min=1, max=len(gd_ws)))\n"
   ]
  },
  {
   "cell_type": "code",
   "execution_count": 33,
   "metadata": {},
   "outputs": [
    {
     "name": "stdout",
     "output_type": "stream",
     "text": [
      "Gradient descent with w = [0, 0] and gamma = 0.7\n",
      "GD: execution time=0.000 seconds\n"
     ]
    },
    {
     "data": {
      "application/vnd.jupyter.widget-view+json": {
       "model_id": "07689b2db1b74354b00c28f1c514bd0c",
       "version_major": 2,
       "version_minor": 0
      },
      "text/plain": [
       "interactive(children=(IntSlider(value=1, description='n_iter', max=51, min=1), Output()), _dom_classes=('widge…"
      ]
     },
     "metadata": {},
     "output_type": "display_data"
    },
    {
     "name": "stdout",
     "output_type": "stream",
     "text": [
      "Gradient descent with w = [100, 10] and gamma = 0.7\n",
      "GD: execution time=0.000 seconds\n"
     ]
    },
    {
     "data": {
      "image/png": "[encoded data removed]",
      "text/plain": [
       "<Figure size 432x288 with 1 Axes>"
      ]
     },
     "metadata": {
      "needs_background": "light"
     },
     "output_type": "display_data"
    },
    {
     "data": {
      "application/vnd.jupyter.widget-view+json": {
       "model_id": "07fa4f1170374e41ae5322a261f25117",
       "version_major": 2,
       "version_minor": 0
      },
      "text/plain": [
       "interactive(children=(IntSlider(value=1, description='n_iter', max=51, min=1), Output()), _dom_classes=('widge…"
      ]
     },
     "metadata": {},
     "output_type": "display_data"
    },
    {
     "name": "stdout",
     "output_type": "stream",
     "text": [
      "Gradient descent with w = [-1000, 1000] and gamma = 0.7\n",
      "GD: execution time=0.000 seconds\n"
     ]
    },
    {
     "data": {
      "image/png": "[encoded data removed]",
      "text/plain": [
       "<Figure size 432x288 with 1 Axes>"
      ]
     },
     "metadata": {
      "needs_background": "light"
     },
     "output_type": "display_data"
    },
    {
     "data": {
      "application/vnd.jupyter.widget-view+json": {
       "model_id": "bd7bdb1a5f654a97b24764d19327099e",
       "version_major": 2,
       "version_minor": 0
      },
      "text/plain": [
       "interactive(children=(IntSlider(value=1, description='n_iter', max=51, min=1), Output()), _dom_classes=('widge…"
      ]
     },
     "metadata": {},
     "output_type": "display_data"
    },
    {
     "data": {
      "image/png": "[encoded data removed]",
      "text/plain": [
       "<Figure size 432x288 with 1 Axes>"
      ]
     },
     "metadata": {
      "needs_background": "light"
     },
     "output_type": "display_data"
    }
   ],
   "source": [
    "initial_ws = [[0,0],[100,10],[-1000,1000]]\n",
    "gammas = [0.001,0.01,0.5, 1,2,2.5]\n",
    "\n",
    "gamma = 0.7\n",
    "for w in initial_ws :\n",
    "    print(\"Gradient descent with w = \"+str(w)+\" and gamma = \"+str(gamma))\n",
    "    play_with_gradient_descent(y,tx, w ,max_iters= 50, gamma=gamma, verbose = True)\n",
    "\n"
   ]
  },
  {
   "cell_type": "code",
   "execution_count": 13,
   "metadata": {},
   "outputs": [
    {
     "name": "stdout",
     "output_type": "stream",
     "text": [
      "Gradient descent with w = [-20, -50] and gamma = 0.001\n",
      "GD: execution time=0.008 seconds\n"
     ]
    },
    {
     "data": {
      "application/vnd.jupyter.widget-view+json": {
       "model_id": "8acb83f7573d4730aed683c94e03cc3f",
       "version_major": 2,
       "version_minor": 0
      },
      "text/plain": [
       "interactive(children=(IntSlider(value=1, description='n_iter', max=51, min=1), Output()), _dom_classes=('widge…"
      ]
     },
     "metadata": {},
     "output_type": "display_data"
    },
    {
     "name": "stdout",
     "output_type": "stream",
     "text": [
      "Gradient descent with w = [-20, -50] and gamma = 0.01\n",
      "GD: execution time=0.008 seconds\n"
     ]
    },
    {
     "data": {
      "image/png": "[encoded data removed]",
      "text/plain": [
       "<Figure size 432x288 with 1 Axes>"
      ]
     },
     "metadata": {
      "needs_background": "light"
     },
     "output_type": "display_data"
    },
    {
     "data": {
      "application/vnd.jupyter.widget-view+json": {
       "model_id": "56f436c869b0419d8f4bbe1d7929d198",
       "version_major": 2,
       "version_minor": 0
      },
      "text/plain": [
       "interactive(children=(IntSlider(value=1, description='n_iter', max=51, min=1), Output()), _dom_classes=('widge…"
      ]
     },
     "metadata": {},
     "output_type": "display_data"
    },
    {
     "name": "stdout",
     "output_type": "stream",
     "text": [
      "Gradient descent with w = [-20, -50] and gamma = 0.5\n",
      "GD: execution time=0.028 seconds\n"
     ]
    },
    {
     "data": {
      "image/png": "[encoded data removed]",
      "text/plain": [
       "<Figure size 432x288 with 1 Axes>"
      ]
     },
     "metadata": {
      "needs_background": "light"
     },
     "output_type": "display_data"
    },
    {
     "data": {
      "application/vnd.jupyter.widget-view+json": {
       "model_id": "4ea09f0803074681a499dc0724e885ed",
       "version_major": 2,
       "version_minor": 0
      },
      "text/plain": [
       "interactive(children=(IntSlider(value=1, description='n_iter', max=51, min=1), Output()), _dom_classes=('widge…"
      ]
     },
     "metadata": {},
     "output_type": "display_data"
    },
    {
     "name": "stdout",
     "output_type": "stream",
     "text": [
      "Gradient descent with w = [-20, -50] and gamma = 1\n",
      "GD: execution time=0.008 seconds\n"
     ]
    },
    {
     "data": {
      "image/png": "[encoded data removed]",
      "text/plain": [
       "<Figure size 432x288 with 1 Axes>"
      ]
     },
     "metadata": {
      "needs_background": "light"
     },
     "output_type": "display_data"
    },
    {
     "data": {
      "application/vnd.jupyter.widget-view+json": {
       "model_id": "3afdbaba644f4780bab776d14d311490",
       "version_major": 2,
       "version_minor": 0
      },
      "text/plain": [
       "interactive(children=(IntSlider(value=1, description='n_iter', max=51, min=1), Output()), _dom_classes=('widge…"
      ]
     },
     "metadata": {},
     "output_type": "display_data"
    },
    {
     "name": "stdout",
     "output_type": "stream",
     "text": [
      "Gradient descent with w = [-20, -50] and gamma = 2\n",
      "GD: execution time=0.008 seconds\n"
     ]
    },
    {
     "data": {
      "image/png": "[encoded data removed]",
      "text/plain": [
       "<Figure size 432x288 with 1 Axes>"
      ]
     },
     "metadata": {
      "needs_background": "light"
     },
     "output_type": "display_data"
    },
    {
     "data": {
      "application/vnd.jupyter.widget-view+json": {
       "model_id": "586ce43036884c8e86579117b59e30de",
       "version_major": 2,
       "version_minor": 0
      },
      "text/plain": [
       "interactive(children=(IntSlider(value=1, description='n_iter', max=51, min=1), Output()), _dom_classes=('widge…"
      ]
     },
     "metadata": {},
     "output_type": "display_data"
    },
    {
     "name": "stdout",
     "output_type": "stream",
     "text": [
      "Gradient descent with w = [-20, -50] and gamma = 2.5\n",
      "GD: execution time=0.008 seconds\n"
     ]
    },
    {
     "data": {
      "image/png": "[encoded data removed]",
      "text/plain": [
       "<Figure size 432x288 with 1 Axes>"
      ]
     },
     "metadata": {
      "needs_background": "light"
     },
     "output_type": "display_data"
    },
    {
     "data": {
      "application/vnd.jupyter.widget-view+json": {
       "model_id": "2b76bb0e5c484b2db8d84fbdc0e39c43",
       "version_major": 2,
       "version_minor": 0
      },
      "text/plain": [
       "interactive(children=(IntSlider(value=1, description='n_iter', max=51, min=1), Output()), _dom_classes=('widge…"
      ]
     },
     "metadata": {},
     "output_type": "display_data"
    },
    {
     "data": {
      "image/png": "[encoded data removed]",
      "text/plain": [
       "<Figure size 432x288 with 1 Axes>"
      ]
     },
     "metadata": {
      "needs_background": "light"
     },
     "output_type": "display_data"
    }
   ],
   "source": [
    "w = [-20,-50]\n",
    "for gamma in gammas:\n",
    "    print(\"Gradient descent with w = \"+str(w)+\" and gamma = \"+str(gamma))\n",
    "    play_with_gradient_descent(y,tx, w ,max_iters= 50, gamma=gamma, verbose = True)"
   ]
  },
  {
   "cell_type": "markdown",
   "metadata": {
    "collapsed": true
   },
   "source": [
    "# 4. Stochastic gradient descent"
   ]
  },
  {
   "cell_type": "code",
   "execution_count": 14,
   "metadata": {},
   "outputs": [],
   "source": [
    "def compute_stoch_gradient(y, tx, w):\n",
    "    \"\"\"Compute a stochastic gradient at w from just few examples n and their corresponding y_n labels.\n",
    "        \n",
    "    Args:\n",
    "        y: numpy array of shape=(N, )\n",
    "        tx: numpy array of shape=(N,2)\n",
    "        w: numpy array of shape=(2, ). The vector of model parameters.\n",
    "        \n",
    "    Returns:\n",
    "        A numpy array of shape (2, ) (same shape as w), containing the stochastic gradient of the loss at w.\n",
    "    \"\"\"\n",
    "    \n",
    "    # ***************************************************\n",
    "    # INSERT YOUR CODE HERE\n",
    "    gradient = compute_gradient(y, tx, w )\n",
    "    # TODO: implement stochastic gradient computation. It's the same as the usual gradient.\n",
    "    # ***************************************************\n",
    "    return gradient\n",
    "\n",
    "\n",
    "def stochastic_gradient_descent(y, tx, initial_w, batch_size, max_iters, gamma):\n",
    "    \"\"\"The Stochastic Gradient Descent algorithm (SGD).\n",
    "            \n",
    "    Args:\n",
    "        y: numpy array of shape=(N, )\n",
    "        tx: numpy array of shape=(N,2)\n",
    "        initial_w: numpy array of shape=(2, ). The initial guess (or the initialization) for the model parameters\n",
    "        batch_size: a scalar denoting the number of data points in a mini-batch used for computing the stochastic gradient\n",
    "        max_iters: a scalar denoting the total number of iterations of SGD\n",
    "        gamma: a scalar denoting the stepsize\n",
    "        \n",
    "    Returns:\n",
    "        losses: a list of length max_iters containing the loss value (scalar) for each iteration of SGD\n",
    "        ws: a list of length max_iters containing the model parameters as numpy arrays of shape (2, ), for each iteration of SGD \n",
    "    \"\"\"\n",
    "    \n",
    "    # Define parameters to store w and loss\n",
    "    ws = [initial_w]\n",
    "    losses = []\n",
    "    w = initial_w\n",
    "    \n",
    "    for n_iter in range(max_iters):\n",
    "         # ***************************************************\n",
    "        # INSERT YOUR CODE HERE\n",
    "        # TODO: compute gradient and loss\n",
    "        gradient = None\n",
    "        for minibatch_y, minibatch_tx in batch_iter(y, tx, batch_size):\n",
    "            gradient = compute_stoch_gradient(minibatch_y, minibatch_tx,w)\n",
    "        loss = compute_loss(y,tx,w)\n",
    "        # ***************************************************\n",
    "        # ***************************************************\n",
    "        # INSERT YOUR CODE HERE\n",
    "        # TODO: update w by gradient\n",
    "        w = w - gamma* gradient\n",
    "        # ***************************************************\n",
    "        \n",
    "        # store w and loss\n",
    "        ws.append(w)\n",
    "        losses.append(loss)\n",
    "        print(\"SGD iter. {bi}/{ti}: loss={l}, w0={w0}, w1={w1}\".format(\n",
    "              bi=n_iter, ti=max_iters - 1, l=loss, w0=w[0], w1=w[1]))\n",
    "    return losses, ws"
   ]
  },
  {
   "cell_type": "code",
   "execution_count": 15,
   "metadata": {
    "scrolled": true
   },
   "outputs": [
    {
     "name": "stdout",
     "output_type": "stream",
     "text": [
      "SGD iter. 0/49: loss=2792.236712759167, w0=52.47786571422759, w1=8.604678604699492\n",
      "SGD iter. 1/49: loss=243.92296498210737, w0=67.19576889249004, w1=11.714006971416676\n",
      "SGD iter. 2/49: loss=35.53848143502853, w0=71.75551589200515, w1=13.118601093781415\n",
      "SGD iter. 3/49: loss=16.634435249000358, w0=71.40596758093531, w1=13.21733382176987\n",
      "SGD iter. 4/49: loss=17.202495085374256, w0=73.00247333502534, w1=13.152301866042656\n",
      "SGD iter. 5/49: loss=15.481957871929609, w0=73.36174576291744, w1=13.33491741630729\n",
      "SGD iter. 6/49: loss=15.398670698812284, w0=73.90298920236847, w1=13.617187246229602\n",
      "SGD iter. 7/49: loss=15.580818957910493, w0=72.07401644607347, w1=13.892992968191917\n",
      "SGD iter. 8/49: loss=16.21537305121015, w0=72.6257016479648, w1=13.41050681921432\n",
      "SGD iter. 9/49: loss=15.611541798300532, w0=73.3094962911402, w1=13.552666261568689\n",
      "SGD iter. 10/49: loss=15.388670278475178, w0=73.83018308635, w1=14.040672113371311\n",
      "SGD iter. 11/49: loss=15.687013724452479, w0=73.43912868189084, w1=13.941320124373396\n",
      "SGD iter. 12/49: loss=15.502971188205965, w0=73.0027686001598, w1=13.33198411555536\n",
      "SGD iter. 13/49: loss=15.439184848742938, w0=74.4915786832603, w1=13.16721889118694\n",
      "SGD iter. 14/49: loss=16.151904739246138, w0=73.51662974547557, w1=14.449891133431302\n",
      "SGD iter. 15/49: loss=15.881310591763516, w0=73.26989179952267, w1=13.693679252530625\n",
      "SGD iter. 16/49: loss=15.409067493651916, w0=74.24152039585032, w1=12.899466338454172\n",
      "SGD iter. 17/49: loss=16.003201993015555, w0=73.89849924063279, w1=13.410042300842766\n",
      "SGD iter. 18/49: loss=15.57107165129821, w0=74.26484044286046, w1=12.786001288533553\n",
      "SGD iter. 19/49: loss=16.097846755487023, w0=73.10248527023813, w1=13.655390593482457\n",
      "SGD iter. 20/49: loss=15.419643287669187, w0=72.74470043904454, w1=12.95794141820507\n",
      "SGD iter. 21/49: loss=15.672832528472687, w0=73.94922600564428, w1=12.946387804942022\n",
      "SGD iter. 22/49: loss=15.742817117863979, w0=73.52402763588259, w1=14.17814728020172\n",
      "SGD iter. 23/49: loss=15.656267786681077, w0=72.78382197584355, w1=14.147926740949986\n",
      "SGD iter. 24/49: loss=15.739244066570892, w0=73.405844038888, w1=13.380301619588442\n",
      "SGD iter. 25/49: loss=15.397092395097513, w0=73.8954140338845, w1=13.022629712097158\n",
      "SGD iter. 26/49: loss=15.671246508759538, w0=73.88308793079317, w1=13.112827095839599\n",
      "SGD iter. 27/49: loss=15.626748540634189, w0=73.69075981690453, w1=13.199605485619903\n",
      "SGD iter. 28/49: loss=15.503857945999204, w0=74.23096779124833, w1=13.067173948067547\n",
      "SGD iter. 29/49: loss=15.91000927590059, w0=72.97494986965405, w1=13.772595512619159\n",
      "SGD iter. 30/49: loss=15.479649728050655, w0=73.33119015403194, w1=13.378052119818927\n",
      "SGD iter. 31/49: loss=15.391749736243662, w0=72.93351085970644, w1=12.897226104699683\n",
      "SGD iter. 32/49: loss=15.62048112709897, w0=73.21544774655862, w1=13.204926278365775\n",
      "SGD iter. 33/49: loss=15.426720689157088, w0=73.32285799301077, w1=13.966332680413478\n",
      "SGD iter. 34/49: loss=15.504706146242713, w0=74.26696217009248, w1=13.4494966655599\n",
      "SGD iter. 35/49: loss=15.859747949448868, w0=73.24542758568285, w1=13.534491105608558\n",
      "SGD iter. 36/49: loss=15.388564074418893, w0=72.87425947000114, w1=12.434574838355685\n",
      "SGD iter. 37/49: loss=16.020102487203676, w0=74.09542202623614, w1=13.82800794556984\n",
      "SGD iter. 38/49: loss=15.76774389451572, w0=73.79370852117978, w1=14.240829620897363\n",
      "SGD iter. 39/49: loss=15.800430836496247, w0=73.9472331034709, w1=13.320880107678562\n",
      "SGD iter. 40/49: loss=15.611909420512667, w0=73.07545449462651, w1=13.148365927287058\n",
      "SGD iter. 41/49: loss=15.464647148824525, w0=72.7528338891057, w1=13.131990617676612\n",
      "SGD iter. 42/49: loss=15.592731272961604, w0=73.44706758395054, w1=13.101316358345139\n",
      "SGD iter. 43/49: loss=15.469206448858529, w0=73.741804969204, w1=13.31931688481548\n",
      "SGD iter. 44/49: loss=15.499050811195758, w0=73.48500669660709, w1=13.063315303692184\n",
      "SGD iter. 45/49: loss=15.490837834541972, w0=73.55025255474571, w1=13.50917941697446\n",
      "SGD iter. 46/49: loss=15.419174696451563, w0=73.10857354093542, w1=13.656988992784864\n",
      "SGD iter. 47/49: loss=15.418778383830372, w0=74.2368251885367, w1=14.222244531737104\n",
      "SGD iter. 48/49: loss=16.106098035671277, w0=73.63819453646967, w1=12.613930300137358\n",
      "SGD iter. 49/49: loss=15.81993901030245, w0=73.00095025936704, w1=13.15433313866931\n",
      "SGD: execution time=0.052 seconds\n"
     ]
    }
   ],
   "source": [
    "# from stochastic_gradient_descent import *\n",
    "\n",
    "# Define the parameters of the algorithm.\n",
    "max_iters = 50\n",
    "gamma = 0.7\n",
    "batch_size = 50\n",
    "\n",
    "# Initialization\n",
    "w_initial = np.array([0, 0])\n",
    "\n",
    "# Start SGD.\n",
    "start_time = datetime.datetime.now()\n",
    "sgd_losses, sgd_ws = stochastic_gradient_descent(\n",
    "    y, tx, w_initial, batch_size, max_iters, gamma)\n",
    "end_time = datetime.datetime.now()\n",
    "\n",
    "# Print result\n",
    "exection_time = (end_time - start_time).total_seconds()\n",
    "print(\"SGD: execution time={t:.3f} seconds\".format(t=exection_time))"
   ]
  },
  {
   "cell_type": "code",
   "execution_count": 16,
   "metadata": {},
   "outputs": [
    {
     "data": {
      "application/vnd.jupyter.widget-view+json": {
       "model_id": "f8341f3f1f7e4ee1ad43c8b6d19f3a57",
       "version_major": 2,
       "version_minor": 0
      },
      "text/plain": [
       "interactive(children=(IntSlider(value=1, description='n_iter', max=51, min=1), Output()), _dom_classes=('widge…"
      ]
     },
     "metadata": {},
     "output_type": "display_data"
    },
    {
     "data": {
      "text/plain": [
       "<function __main__.plot_figure(n_iter)>"
      ]
     },
     "execution_count": 16,
     "metadata": {},
     "output_type": "execute_result"
    }
   ],
   "source": [
    "# Time Visualization\n",
    "from ipywidgets import IntSlider, interact\n",
    "def plot_figure(n_iter):\n",
    "    fig = gradient_descent_visualization(\n",
    "        sgd_losses, sgd_ws, grid_losses, grid_w0, grid_w1, mean_x, std_x, height, weight, n_iter)\n",
    "    fig.set_size_inches(10.0, 6.0)\n",
    "\n",
    "interact(plot_figure, n_iter=IntSlider(min=1, max=len(sgd_ws)))"
   ]
  },
  {
   "cell_type": "markdown",
   "metadata": {},
   "source": [
    "# 5. Effect of Outliers and MAE Cost Function"
   ]
  },
  {
   "cell_type": "code",
   "execution_count": 17,
   "metadata": {},
   "outputs": [],
   "source": [
    "import datetime\n",
    "from helpers import *\n",
    "\n",
    "# ***************************************************\n",
    "# INSERT YOUR CODE HERE\n",
    "# TODO: reload the data by subsampling first, then by subsampling and adding outliers\n",
    "\n",
    "height, weight, gender = load_data(sub_sample=True, add_outlier=True)\n",
    "# ***************************************************\n",
    "\n",
    "\n",
    "x, mean_x, std_x = standardize(height)\n",
    "y, tx = build_model_data(x, weight)"
   ]
  },
  {
   "cell_type": "code",
   "execution_count": 18,
   "metadata": {},
   "outputs": [
    {
     "data": {
      "text/plain": [
       "((202,), (202, 2))"
      ]
     },
     "execution_count": 18,
     "metadata": {},
     "output_type": "execute_result"
    }
   ],
   "source": [
    "y.shape, tx.shape"
   ]
  },
  {
   "cell_type": "code",
   "execution_count": 19,
   "metadata": {},
   "outputs": [
    {
     "name": "stdout",
     "output_type": "stream",
     "text": [
      "GD iter. 0/49: loss=57.97066931362423, w0=51.84746409844842, w1=7.7244264061924195\n",
      "GD iter. 1/49: loss=6.42929891897225, w0=67.40170332798297, w1=10.041754328050114\n",
      "GD iter. 2/49: loss=1.7905755834535588, w0=72.06797509684336, w1=10.736952704607411\n",
      "GD iter. 3/49: loss=1.373090483256875, w0=73.46785662750146, w1=10.945512217574597\n",
      "GD iter. 4/49: loss=1.3355168242391737, w0=73.88782108669889, w1=11.00808007146475\n",
      "GD iter. 5/49: loss=1.332135194927581, w0=74.01381042445813, w1=11.026850427631798\n",
      "GD iter. 6/49: loss=1.3318308482895376, w0=74.0516072257859, w1=11.032481534481914\n",
      "GD iter. 7/49: loss=1.3318034570921136, w0=74.06294626618423, w1=11.034170866536945\n",
      "GD iter. 8/49: loss=1.3318009918843454, w0=74.06634797830372, w1=11.034677666153454\n",
      "GD iter. 9/49: loss=1.3318007700156462, w0=74.06736849193958, w1=11.034829706038408\n",
      "GD iter. 10/49: loss=1.3318007500474633, w0=74.06767464603033, w1=11.034875318003895\n",
      "GD iter. 11/49: loss=1.331800748250327, w0=74.06776649225755, w1=11.034889001593541\n",
      "GD iter. 12/49: loss=1.331800748088585, w0=74.06779404612573, w1=11.034893106670431\n",
      "GD iter. 13/49: loss=1.3318007480740282, w0=74.06780231228618, w1=11.034894338193501\n",
      "GD iter. 14/49: loss=1.3318007480727179, w0=74.06780479213431, w1=11.034894707650421\n",
      "GD iter. 15/49: loss=1.3318007480725997, w0=74.06780553608874, w1=11.034894818487496\n",
      "GD iter. 16/49: loss=1.3318007480725893, w0=74.06780575927507, w1=11.03489485173862\n",
      "GD iter. 17/49: loss=1.3318007480725884, w0=74.06780582623098, w1=11.034894861713957\n",
      "GD iter. 18/49: loss=1.3318007480725882, w0=74.06780584631775, w1=11.034894864706557\n",
      "GD iter. 19/49: loss=1.3318007480725884, w0=74.06780585234378, w1=11.034894865604338\n",
      "GD iter. 20/49: loss=1.3318007480725884, w0=74.06780585415159, w1=11.034894865873675\n",
      "GD iter. 21/49: loss=1.3318007480725882, w0=74.06780585469393, w1=11.034894865954474\n",
      "GD iter. 22/49: loss=1.3318007480725884, w0=74.06780585485663, w1=11.034894865978712\n",
      "GD iter. 23/49: loss=1.3318007480725882, w0=74.06780585490544, w1=11.034894865985985\n",
      "GD iter. 24/49: loss=1.3318007480725884, w0=74.0678058549201, w1=11.034894865988166\n",
      "GD iter. 25/49: loss=1.3318007480725884, w0=74.06780585492449, w1=11.034894865988822\n",
      "GD iter. 26/49: loss=1.3318007480725884, w0=74.06780585492581, w1=11.034894865989015\n",
      "GD iter. 27/49: loss=1.3318007480725884, w0=74.06780585492619, w1=11.034894865989076\n",
      "GD iter. 28/49: loss=1.3318007480725884, w0=74.06780585492632, w1=11.034894865989099\n",
      "GD iter. 29/49: loss=1.3318007480725884, w0=74.06780585492635, w1=11.0348948659891\n",
      "GD iter. 30/49: loss=1.3318007480725884, w0=74.06780585492636, w1=11.0348948659891\n",
      "GD iter. 31/49: loss=1.3318007480725884, w0=74.06780585492636, w1=11.0348948659891\n",
      "GD iter. 32/49: loss=1.3318007480725884, w0=74.06780585492636, w1=11.0348948659891\n",
      "GD iter. 33/49: loss=1.3318007480725884, w0=74.06780585492636, w1=11.0348948659891\n",
      "GD iter. 34/49: loss=1.3318007480725884, w0=74.06780585492636, w1=11.0348948659891\n",
      "GD iter. 35/49: loss=1.3318007480725884, w0=74.06780585492636, w1=11.0348948659891\n",
      "GD iter. 36/49: loss=1.3318007480725884, w0=74.06780585492636, w1=11.0348948659891\n",
      "GD iter. 37/49: loss=1.3318007480725884, w0=74.06780585492636, w1=11.0348948659891\n",
      "GD iter. 38/49: loss=1.3318007480725884, w0=74.06780585492636, w1=11.0348948659891\n",
      "GD iter. 39/49: loss=1.3318007480725884, w0=74.06780585492636, w1=11.0348948659891\n",
      "GD iter. 40/49: loss=1.3318007480725884, w0=74.06780585492636, w1=11.0348948659891\n",
      "GD iter. 41/49: loss=1.3318007480725884, w0=74.06780585492636, w1=11.0348948659891\n",
      "GD iter. 42/49: loss=1.3318007480725884, w0=74.06780585492636, w1=11.0348948659891\n",
      "GD iter. 43/49: loss=1.3318007480725884, w0=74.06780585492636, w1=11.0348948659891\n",
      "GD iter. 44/49: loss=1.3318007480725884, w0=74.06780585492636, w1=11.0348948659891\n",
      "GD iter. 45/49: loss=1.3318007480725884, w0=74.06780585492636, w1=11.0348948659891\n",
      "GD iter. 46/49: loss=1.3318007480725884, w0=74.06780585492636, w1=11.0348948659891\n",
      "GD iter. 47/49: loss=1.3318007480725884, w0=74.06780585492636, w1=11.0348948659891\n",
      "GD iter. 48/49: loss=1.3318007480725884, w0=74.06780585492636, w1=11.0348948659891\n",
      "GD iter. 49/49: loss=1.3318007480725884, w0=74.06780585492636, w1=11.0348948659891\n",
      "GD: execution time=0.008 seconds\n"
     ]
    }
   ],
   "source": [
    "from plots import gradient_descent_visualization\n",
    "\n",
    "# Define the parameters of the algorithm.\n",
    "max_iters = 50\n",
    "gamma = 0.7\n",
    "\n",
    "# Initialization\n",
    "w_initial = np.array([0, 0])\n",
    "\n",
    "# Start gradient descent.\n",
    "start_time = datetime.datetime.now()\n",
    "\n",
    "\n",
    "gd_losses, gd_ws = gradient_descent(y, tx, w_initial, max_iters, gamma, True)\n",
    "\n",
    "\n",
    "end_time = datetime.datetime.now()\n",
    "\n",
    "# Print result\n",
    "exection_time = (end_time - start_time).total_seconds()\n",
    "print(\"GD: execution time={t:.3f} seconds\".format(t=exection_time))"
   ]
  },
  {
   "cell_type": "code",
   "execution_count": 20,
   "metadata": {},
   "outputs": [
    {
     "data": {
      "application/vnd.jupyter.widget-view+json": {
       "model_id": "237d48c204e34ebdae27238f8c51de58",
       "version_major": 2,
       "version_minor": 0
      },
      "text/plain": [
       "interactive(children=(IntSlider(value=1, description='n_iter', max=51, min=1), Output()), _dom_classes=('widge…"
      ]
     },
     "metadata": {},
     "output_type": "display_data"
    },
    {
     "data": {
      "text/plain": [
       "<function __main__.plot_figure(n_iter)>"
      ]
     },
     "execution_count": 20,
     "metadata": {},
     "output_type": "execute_result"
    }
   ],
   "source": [
    "# Time Visualization\n",
    "from ipywidgets import IntSlider, interact\n",
    "def plot_figure(n_iter):\n",
    "    fig = gradient_descent_visualization(\n",
    "        gd_losses, gd_ws, grid_losses, grid_w0, grid_w1, mean_x, std_x, height, weight, n_iter)\n",
    "    fig.set_size_inches(10.0, 6.0)\n",
    "\n",
    "interact(plot_figure, n_iter=IntSlider(min=1, max=len(gd_ws)))"
   ]
  },
  {
   "cell_type": "markdown",
   "metadata": {
    "collapsed": true
   },
   "source": [
    "# 6. Subgradient descent"
   ]
  },
  {
   "cell_type": "code",
   "execution_count": 21,
   "metadata": {},
   "outputs": [
    {
     "data": {
      "text/plain": [
       "array([-0.93069307, -0.17126666])"
      ]
     },
     "execution_count": 21,
     "metadata": {},
     "output_type": "execute_result"
    }
   ],
   "source": [
    "def compute_subgradient_mae(y, tx, w):\n",
    "    \"\"\"Compute a subgradient of the MAE at w.\n",
    "        \n",
    "    Args:\n",
    "        y: numpy array of shape=(N, )\n",
    "        tx: numpy array of shape=(N,2)\n",
    "        w: numpy array of shape=(2, ). The vector of model parameters.\n",
    "        \n",
    "    Returns:\n",
    "        A numpy array of shape (2, ) (same shape as w), containing the subgradient of the MAE at w.\n",
    "    \"\"\"\n",
    "    # ***************************************************\n",
    "    # INSERT YOUR CODE HERE\n",
    "    # TODO: compute subgradient gradient vector for MAE\n",
    "    N = y.shape[0]\n",
    "    return -1/N * tx.T.dot(np.sign(get_err(y,tx,w)))\n",
    "    # ***************************************************\n",
    "def compute_loss_mae(y,tx,w):\n",
    "    return np.abs(get_err(y,tx,w)).sum()\n",
    "compute_subgradient_mae(y,tx,w)"
   ]
  },
  {
   "cell_type": "code",
   "execution_count": 22,
   "metadata": {},
   "outputs": [],
   "source": [
    "def subgradient_descent(y, tx, initial_w, max_iters, gamma):\n",
    "    \"\"\"The SubGradient Descent (SubGD) algorithm.\n",
    "        \n",
    "    Args:\n",
    "        y: numpy array of shape=(N, )\n",
    "        tx: numpy array of shape=(N,2)\n",
    "        initial_w: numpy array of shape=(2, ). The initial guess (or the initialization) for the model parameters\n",
    "        max_iters: a scalar denoting the total number of iterations of GD\n",
    "        gamma: a scalar denoting the stepsize\n",
    "        \n",
    "    Returns:\n",
    "        losses: a list of length max_iters containing the loss value (scalar) for each iteration of SubGD\n",
    "        ws: a list of length max_iters containing the model parameters as numpy arrays of shape (2, ), for each iteration of SubGD \n",
    "    \"\"\"\n",
    "    # Define parameters to store w and loss\n",
    "    ws = [initial_w]\n",
    "    losses = []\n",
    "    w = initial_w\n",
    "    for n_iter in range(max_iters):\n",
    "        # ***************************************************\n",
    "        # INSERT YOUR CODE HERE\n",
    "        # TODO: compute subgradient and loss\n",
    "        subgradient = compute_subgradient_mae(y, tx, w)\n",
    "        # ***************************************************\n",
    "        # ***************************************************\n",
    "        # INSERT YOUR CODE HERE\n",
    "        # TODO: update w by subgradient\n",
    "        w = w -gamma * subgradient\n",
    "        # ***************************************************\n",
    "        loss = compute_loss_mae(y,tx,w)\n",
    "        ws.append(w)\n",
    "        losses.append(loss)\n",
    "        print(\"SubGD iter. {bi}/{ti}: loss={l}, w0={w0}, w1={w1}\".format(\n",
    "              bi=n_iter, ti=max_iters - 1, l=loss, w0=w[0], w1=w[1]))\n",
    "\n",
    "    return losses, ws"
   ]
  },
  {
   "cell_type": "code",
   "execution_count": 23,
   "metadata": {},
   "outputs": [
    {
     "name": "stdout",
     "output_type": "stream",
     "text": [
      "SubGD iter. 0/499: loss=14820.296782695128, w0=0.7, w1=6.109524327590712e-16\n",
      "SubGD iter. 1/499: loss=14678.896782695127, w0=1.4, w1=1.2219048655181425e-15\n",
      "SubGD iter. 2/499: loss=14537.496782695129, w0=2.0999999999999996, w1=1.832857298277214e-15\n",
      "SubGD iter. 3/499: loss=14396.096782695127, w0=2.8, w1=2.443809731036285e-15\n",
      "SubGD iter. 4/499: loss=14254.69678269513, w0=3.5, w1=3.054762163795356e-15\n",
      "SubGD iter. 5/499: loss=14113.296782695128, w0=4.2, w1=3.665714596554428e-15\n",
      "SubGD iter. 6/499: loss=13971.896782695128, w0=4.9, w1=4.276667029313499e-15\n",
      "SubGD iter. 7/499: loss=13830.496782695127, w0=5.6000000000000005, w1=4.887619462072571e-15\n",
      "SubGD iter. 8/499: loss=13689.096782695127, w0=6.300000000000001, w1=5.498571894831642e-15\n",
      "SubGD iter. 9/499: loss=13547.69678269513, w0=7.000000000000001, w1=6.109524327590714e-15\n",
      "SubGD iter. 10/499: loss=13406.296782695128, w0=7.700000000000001, w1=6.720476760349785e-15\n",
      "SubGD iter. 11/499: loss=13264.896782695128, w0=8.4, w1=7.331429193108857e-15\n",
      "SubGD iter. 12/499: loss=13123.496782695129, w0=9.1, w1=7.942381625867928e-15\n",
      "SubGD iter. 13/499: loss=12982.096782695127, w0=9.799999999999999, w1=8.553334058627e-15\n",
      "SubGD iter. 14/499: loss=12840.69678269513, w0=10.499999999999998, w1=9.164286491386072e-15\n",
      "SubGD iter. 15/499: loss=12699.296782695128, w0=11.199999999999998, w1=9.775238924145143e-15\n",
      "SubGD iter. 16/499: loss=12557.89678269513, w0=11.899999999999997, w1=1.0386191356904215e-14\n",
      "SubGD iter. 17/499: loss=12416.496782695129, w0=12.599999999999996, w1=1.0997143789663286e-14\n",
      "SubGD iter. 18/499: loss=12275.09678269513, w0=13.299999999999995, w1=1.1608096222422358e-14\n",
      "SubGD iter. 19/499: loss=12133.69678269513, w0=13.999999999999995, w1=1.2219048655181429e-14\n",
      "SubGD iter. 20/499: loss=11992.29678269513, w0=14.699999999999994, w1=1.28300010879405e-14\n",
      "SubGD iter. 21/499: loss=11850.89678269513, w0=15.399999999999993, w1=1.3440953520699572e-14\n",
      "SubGD iter. 22/499: loss=11709.496782695129, w0=16.099999999999994, w1=1.4051905953458644e-14\n",
      "SubGD iter. 23/499: loss=11568.09678269513, w0=16.799999999999994, w1=1.4662858386217714e-14\n",
      "SubGD iter. 24/499: loss=11426.69678269513, w0=17.499999999999993, w1=1.5273810818976784e-14\n",
      "SubGD iter. 25/499: loss=11285.296782695132, w0=18.199999999999992, w1=1.5884763251735854e-14\n",
      "SubGD iter. 26/499: loss=11143.89678269513, w0=18.89999999999999, w1=1.6495715684494924e-14\n",
      "SubGD iter. 27/499: loss=11002.496782695129, w0=19.59999999999999, w1=1.7106668117253994e-14\n",
      "SubGD iter. 28/499: loss=10861.096782695131, w0=20.29999999999999, w1=1.7717620550013064e-14\n",
      "SubGD iter. 29/499: loss=10719.696782695131, w0=20.99999999999999, w1=1.8328572982772134e-14\n",
      "SubGD iter. 30/499: loss=10578.296782695132, w0=21.69999999999999, w1=1.8939525415531204e-14\n",
      "SubGD iter. 31/499: loss=10436.89678269513, w0=22.399999999999988, w1=1.9550477848290273e-14\n",
      "SubGD iter. 32/499: loss=10295.49678269513, w0=23.099999999999987, w1=2.0161430281049343e-14\n",
      "SubGD iter. 33/499: loss=10154.096782695131, w0=23.799999999999986, w1=2.0772382713808413e-14\n",
      "SubGD iter. 34/499: loss=10012.696782695131, w0=24.499999999999986, w1=2.1383335146567483e-14\n",
      "SubGD iter. 35/499: loss=9871.296782695132, w0=25.199999999999985, w1=2.1994287579326553e-14\n",
      "SubGD iter. 36/499: loss=9729.896782695132, w0=25.899999999999984, w1=2.2605240012085623e-14\n",
      "SubGD iter. 37/499: loss=9588.496782695132, w0=26.599999999999984, w1=2.3216192444844693e-14\n",
      "SubGD iter. 38/499: loss=9447.096782695133, w0=27.299999999999983, w1=2.3827144877603763e-14\n",
      "SubGD iter. 39/499: loss=9305.696782695133, w0=27.999999999999982, w1=2.4438097310362833e-14\n",
      "SubGD iter. 40/499: loss=9164.296782695132, w0=28.69999999999998, w1=2.5049049743121903e-14\n",
      "SubGD iter. 41/499: loss=9022.896782695132, w0=29.39999999999998, w1=2.5660002175880973e-14\n",
      "SubGD iter. 42/499: loss=8881.496782695132, w0=30.09999999999998, w1=2.6270954608640043e-14\n",
      "SubGD iter. 43/499: loss=8740.096782695133, w0=30.79999999999998, w1=2.6881907041399113e-14\n",
      "SubGD iter. 44/499: loss=8598.696782695133, w0=31.49999999999998, w1=2.7492859474158183e-14\n",
      "SubGD iter. 45/499: loss=8457.296782695132, w0=32.19999999999998, w1=2.8103811906917253e-14\n",
      "SubGD iter. 46/499: loss=8315.89678269513, w0=32.899999999999984, w1=2.871476433967632e-14\n",
      "SubGD iter. 47/499: loss=8174.496782695131, w0=33.59999999999999, w1=2.9325716772435396e-14\n",
      "SubGD iter. 48/499: loss=8033.096782695131, w0=34.29999999999999, w1=2.993666920519447e-14\n",
      "SubGD iter. 49/499: loss=7891.6967826951295, w0=34.99999999999999, w1=3.054762163795354e-14\n",
      "SubGD iter. 50/499: loss=7750.296782695129, w0=35.699999999999996, w1=3.1158574070712615e-14\n",
      "SubGD iter. 51/499: loss=7608.896782695128, w0=36.4, w1=3.176952650347169e-14\n",
      "SubGD iter. 52/499: loss=7467.496782695129, w0=37.1, w1=3.238047893623076e-14\n",
      "SubGD iter. 53/499: loss=7326.096782695127, w0=37.800000000000004, w1=3.2991431368989835e-14\n",
      "SubGD iter. 54/499: loss=7184.696782695127, w0=38.50000000000001, w1=3.360238380174891e-14\n",
      "SubGD iter. 55/499: loss=7043.296782695126, w0=39.20000000000001, w1=3.421333623450798e-14\n",
      "SubGD iter. 56/499: loss=6901.896782695127, w0=39.90000000000001, w1=3.4824288667267054e-14\n",
      "SubGD iter. 57/499: loss=6760.496782695125, w0=40.600000000000016, w1=3.543524110002613e-14\n",
      "SubGD iter. 58/499: loss=6619.0967826951255, w0=41.30000000000002, w1=3.60461935327852e-14\n",
      "SubGD iter. 59/499: loss=6477.696782695124, w0=42.00000000000002, w1=3.6657145965544273e-14\n",
      "SubGD iter. 60/499: loss=6336.296782695124, w0=42.700000000000024, w1=3.7268098398303347e-14\n",
      "SubGD iter. 61/499: loss=6194.896782695123, w0=43.40000000000003, w1=3.787905083106242e-14\n",
      "SubGD iter. 62/499: loss=6053.496782695122, w0=44.10000000000003, w1=3.849000326382149e-14\n",
      "SubGD iter. 63/499: loss=5912.096782695122, w0=44.80000000000003, w1=3.9100955696580566e-14\n",
      "SubGD iter. 64/499: loss=5770.696782695121, w0=45.500000000000036, w1=3.971190812933964e-14\n",
      "SubGD iter. 65/499: loss=5629.296782695121, w0=46.20000000000004, w1=4.032286056209871e-14\n",
      "SubGD iter. 66/499: loss=5489.000582353122, w0=46.90000000000004, w1=4.0933812994857785e-14\n",
      "SubGD iter. 67/499: loss=5351.071215877741, w0=47.59306930693074, w1=0.011147845678271063\n",
      "SubGD iter. 68/499: loss=5215.076889199575, w0=48.279207920792125, w1=0.03308574108989941\n",
      "SubGD iter. 69/499: loss=5081.317965800603, w0=48.96534653465351, w1=0.05502363650152776\n",
      "SubGD iter. 70/499: loss=4953.868889606745, w0=49.63069306930698, w1=0.10538326388307814\n",
      "SubGD iter. 71/499: loss=4827.65765989919, w0=50.28910891089114, w1=0.16746568532793435\n",
      "SubGD iter. 72/499: loss=4703.447370982743, w0=50.947524752475296, w1=0.22954810677279056\n",
      "SubGD iter. 73/499: loss=4582.749041724733, w0=51.59207920792084, w1=0.31242512932747524\n",
      "SubGD iter. 74/499: loss=4465.466049067391, w0=52.22277227722777, w1=0.4119501328839991\n",
      "SubGD iter. 75/499: loss=4350.639403257704, w0=52.84653465346539, w1=0.5208167847923756\n",
      "SubGD iter. 76/499: loss=4239.24065467495, w0=53.4564356435644, w1=0.6457900912635992\n",
      "SubGD iter. 77/499: loss=4130.00330919733, w0=54.0594059405941, w1=0.7796904498577214\n",
      "SubGD iter. 78/499: loss=4022.2058521094855, w0=54.655445544554496, w1=0.9197570104995693\n",
      "SubGD iter. 79/499: loss=3916.708106293773, w0=55.24455445544559, w1=1.0670920297849913\n",
      "SubGD iter. 80/499: loss=3815.373791007969, w0=55.819801980198065, w1=1.2261255948210765\n",
      "SubGD iter. 81/499: loss=3720.0240213745556, w0=56.36732673267331, w1=1.410709342622213\n",
      "SubGD iter. 82/499: loss=3626.889505694158, w0=56.900990099009945, w1=1.605853732220269\n",
      "SubGD iter. 83/499: loss=3536.1630466291244, w0=57.42772277227727, w1=1.808762802293962\n",
      "SubGD iter. 84/499: loss=3449.1414002401857, w0=57.933663366336674, w1=2.0285064197514697\n",
      "SubGD iter. 85/499: loss=3363.8993940970004, w0=58.43267326732677, w1=2.2494370848672776\n",
      "SubGD iter. 86/499: loss=3282.205227762339, w0=58.91089108910895, w1=2.4837982986028337\n",
      "SubGD iter. 87/499: loss=3201.51925295614, w0=59.382178217821824, w1=2.7260245553531504\n",
      "SubGD iter. 88/499: loss=3124.3177978287285, w0=59.83960396039608, w1=2.978742333469136\n",
      "SubGD iter. 89/499: loss=3051.8755135454676, w0=60.262376237623805, w1=3.251528669355438\n",
      "SubGD iter. 90/499: loss=2980.489061876412, w0=60.67821782178222, w1=3.5270865794242794\n",
      "SubGD iter. 91/499: loss=2909.7148502472965, w0=61.087128712871326, w1=3.806459183951815\n",
      "SubGD iter. 92/499: loss=2839.2689796817103, w0=61.49603960396043, w1=4.085831788479351\n",
      "SubGD iter. 93/499: loss=2770.3534241443385, w0=61.891089108910926, w1=4.373839384328607\n",
      "SubGD iter. 94/499: loss=2703.009734071399, w0=62.27920792079211, w1=4.666037469532047\n",
      "SubGD iter. 95/499: loss=2637.88196626358, w0=62.65346534653469, w1=4.959829093241769\n",
      "SubGD iter. 96/499: loss=2573.5308483165263, w0=63.02079207920796, w1=5.25705719205664\n",
      "SubGD iter. 97/499: loss=2509.4902155287346, w0=63.38118811881192, w1=5.560434316352406\n",
      "SubGD iter. 98/499: loss=2445.727469844037, w0=63.74158415841588, w1=5.863811440648173\n",
      "SubGD iter. 99/499: loss=2383.7256636744232, w0=64.08811881188123, w1=6.172402175278548\n",
      "SubGD iter. 100/499: loss=2321.9984425185785, w0=64.42772277227726, w1=6.486369310516498\n",
      "SubGD iter. 101/499: loss=2260.2712213627324, w0=64.7673267326733, w1=6.800336445754448\n",
      "SubGD iter. 102/499: loss=2198.5440002068867, w0=65.10693069306933, w1=7.114303580992399\n",
      "SubGD iter. 103/499: loss=2138.087868479267, w0=65.44653465346536, w1=7.428270716230349\n",
      "SubGD iter. 104/499: loss=2079.754939932426, w0=65.76534653465349, w1=7.747893210218626\n",
      "SubGD iter. 105/499: loss=2022.293120406715, w0=66.070297029703, w1=8.073669686866905\n",
      "SubGD iter. 106/499: loss=1965.0730339869624, w0=66.37524752475251, w1=8.399446163515185\n",
      "SubGD iter. 107/499: loss=1908.521343146747, w0=66.6663366336634, w1=8.73297028041739\n",
      "SubGD iter. 108/499: loss=1852.5503030275274, w0=66.9574257425743, w1=9.066494397319596\n",
      "SubGD iter. 109/499: loss=1798.5385384941108, w0=67.23465346534658, w1=9.39863031947029\n",
      "SubGD iter. 110/499: loss=1744.5267739606938, w0=67.51188118811886, w1=9.730766241620982\n",
      "SubGD iter. 111/499: loss=1691.9826879010798, w0=67.78910891089114, w1=10.062902163771675\n",
      "SubGD iter. 112/499: loss=1644.3892494278023, w0=68.06633663366343, w1=10.363999289979422\n",
      "SubGD iter. 113/499: loss=1599.5459893226491, w0=68.32970297029709, w1=10.660466909273612\n",
      "SubGD iter. 114/499: loss=1556.466505132154, w0=68.59306930693076, w1=10.943174379960814\n",
      "SubGD iter. 115/499: loss=1513.7265578980855, w0=68.85643564356442, w1=11.225881850648015\n",
      "SubGD iter. 116/499: loss=1472.57846596017, w0=69.11287128712878, w1=11.504395843582206\n",
      "SubGD iter. 117/499: loss=1433.6412752278718, w0=69.35544554455453, w1=11.78820189306775\n",
      "SubGD iter. 118/499: loss=1397.8208695231224, w0=69.58415841584166, w1=12.060911465190971\n",
      "SubGD iter. 119/499: loss=1363.6158525177216, w0=69.80594059405948, w1=12.324245668386048\n",
      "SubGD iter. 120/499: loss=1330.1184517827442, w0=70.0277227722773, w1=12.587579871581125\n",
      "SubGD iter. 121/499: loss=1298.9293418222567, w0=70.25643564356443, w1=12.824765405096484\n",
      "SubGD iter. 122/499: loss=1268.1704393418513, w0=70.47821782178225, w1=13.065616959310148\n",
      "SubGD iter. 123/499: loss=1238.9999925111913, w0=70.69306930693077, w1=13.302953389983912\n",
      "SubGD iter. 124/499: loss=1213.179841265292, w0=70.89405940594067, w1=13.525403099312918\n",
      "SubGD iter. 125/499: loss=1188.7744086950902, w0=71.08811881188126, w1=13.742945617944212\n",
      "SubGD iter. 126/499: loss=1165.870320958471, w0=71.27524752475254, w1=13.953548196006844\n",
      "SubGD iter. 127/499: loss=1144.7667364816318, w0=71.46237623762383, w1=14.164150774069476\n",
      "SubGD iter. 128/499: loss=1128.5188067306156, w0=71.62178217821788, w1=14.349779559473173\n",
      "SubGD iter. 129/499: loss=1115.8172580563983, w0=71.75346534653471, w1=14.51689010761231\n",
      "SubGD iter. 130/499: loss=1106.9789291355582, w0=71.87128712871292, w1=14.670791185324186\n",
      "SubGD iter. 131/499: loss=1101.523776707409, w0=71.95445544554461, w1=14.780276456654521\n",
      "SubGD iter. 132/499: loss=1096.3333114343068, w0=72.0376237623763, w1=14.889761727984856\n",
      "SubGD iter. 133/499: loss=1092.279134027916, w0=72.10693069306937, w1=14.985916181776727\n",
      "SubGD iter. 134/499: loss=1088.224956621525, w0=72.17623762376245, w1=15.082070635568597\n",
      "SubGD iter. 135/499: loss=1084.8330776284165, w0=72.24554455445552, w1=15.178225089360467\n",
      "SubGD iter. 136/499: loss=1082.1961177136177, w0=72.30099009900998, w1=15.25972348971591\n",
      "SubGD iter. 137/499: loss=1079.877711332562, w0=72.34950495049513, w1=15.335091856448138\n",
      "SubGD iter. 138/499: loss=1077.8143612225294, w0=72.39801980198028, w1=15.410460223180365\n",
      "SubGD iter. 139/499: loss=1076.668869914003, w0=72.43267326732682, w1=15.469961786755725\n",
      "SubGD iter. 140/499: loss=1075.7866385111915, w0=72.46039603960405, w1=15.51864528583281\n",
      "SubGD iter. 141/499: loss=1075.0796987583713, w0=72.48811881188128, w1=15.561592159086487\n",
      "SubGD iter. 142/499: loss=1074.662484547909, w0=72.5019801980199, w1=15.597828332032526\n",
      "SubGD iter. 143/499: loss=1074.3326135494844, w0=72.52277227722782, w1=15.624722856626713\n",
      "SubGD iter. 144/499: loss=1074.0824898101596, w0=72.55049504950505, w1=15.642690329098\n",
      "SubGD iter. 145/499: loss=1073.914122686212, w0=72.56435643564366, w1=15.664356578291091\n",
      "SubGD iter. 146/499: loss=1073.742538778561, w0=72.58514851485158, w1=15.677095775361284\n",
      "SubGD iter. 147/499: loss=1073.5709548709094, w0=72.6059405940595, w1=15.689834972431477\n",
      "SubGD iter. 148/499: loss=1073.4031299462777, w0=72.62673267326743, w1=15.70257416950167\n",
      "SubGD iter. 149/499: loss=1073.2365538680197, w0=72.64059405940604, w1=15.72424041869476\n",
      "SubGD iter. 150/499: loss=1073.1003234829263, w0=72.66138613861396, w1=15.736979615764954\n",
      "SubGD iter. 151/499: loss=1073.0507104044586, w0=72.66831683168327, w1=15.74811029423128\n",
      "SubGD iter. 152/499: loss=1073.0010973259907, w0=72.67524752475258, w1=15.759240972697606\n",
      "SubGD iter. 153/499: loss=1072.9600803518836, w0=72.68217821782189, w1=15.770371651163932\n",
      "SubGD iter. 154/499: loss=1072.955572760847, w0=72.68217821782189, w1=15.774323911906686\n",
      "SubGD iter. 155/499: loss=1072.9510651698101, w0=72.68217821782189, w1=15.77827617264944\n",
      "SubGD iter. 156/499: loss=1072.9465575787735, w0=72.68217821782189, w1=15.782228433392193\n",
      "SubGD iter. 157/499: loss=1072.942049987737, w0=72.68217821782189, w1=15.786180694134947\n",
      "SubGD iter. 158/499: loss=1072.9375423967, w0=72.68217821782189, w1=15.7901329548777\n",
      "SubGD iter. 159/499: loss=1072.9330348056633, w0=72.68217821782189, w1=15.794085215620454\n",
      "SubGD iter. 160/499: loss=1072.9285272146267, w0=72.68217821782189, w1=15.798037476363207\n",
      "SubGD iter. 161/499: loss=1072.9240196235899, w0=72.68217821782189, w1=15.801989737105961\n",
      "SubGD iter. 162/499: loss=1072.9195120325533, w0=72.68217821782189, w1=15.805941997848715\n",
      "SubGD iter. 163/499: loss=1072.9150044415164, w0=72.68217821782189, w1=15.809894258591468\n",
      "SubGD iter. 164/499: loss=1072.9104968504798, w0=72.68217821782189, w1=15.813846519334222\n",
      "SubGD iter. 165/499: loss=1072.9059892594432, w0=72.68217821782189, w1=15.817798780076975\n",
      "SubGD iter. 166/499: loss=1072.9014816684064, w0=72.68217821782189, w1=15.821751040819729\n",
      "SubGD iter. 167/499: loss=1072.8969740773696, w0=72.68217821782189, w1=15.825703301562482\n",
      "SubGD iter. 168/499: loss=1072.892466486333, w0=72.68217821782189, w1=15.829655562305236\n",
      "SubGD iter. 169/499: loss=1072.8879588952964, w0=72.68217821782189, w1=15.83360782304799\n",
      "SubGD iter. 170/499: loss=1072.8834513042596, w0=72.68217821782189, w1=15.837560083790743\n",
      "SubGD iter. 171/499: loss=1072.8789437132227, w0=72.68217821782189, w1=15.841512344533497\n",
      "SubGD iter. 172/499: loss=1072.8744361221861, w0=72.68217821782189, w1=15.84546460527625\n",
      "SubGD iter. 173/499: loss=1072.8699285311493, w0=72.68217821782189, w1=15.849416866019004\n",
      "SubGD iter. 174/499: loss=1072.8654209401127, w0=72.68217821782189, w1=15.853369126761757\n",
      "SubGD iter. 175/499: loss=1072.8609133490759, w0=72.68217821782189, w1=15.857321387504511\n",
      "SubGD iter. 176/499: loss=1072.8564057580393, w0=72.68217821782189, w1=15.861273648247264\n",
      "SubGD iter. 177/499: loss=1072.8518981670027, w0=72.68217821782189, w1=15.865225908990018\n",
      "SubGD iter. 178/499: loss=1072.847390575966, w0=72.68217821782189, w1=15.869178169732772\n",
      "SubGD iter. 179/499: loss=1072.842882984929, w0=72.68217821782189, w1=15.873130430475525\n",
      "SubGD iter. 180/499: loss=1072.8383753938926, w0=72.68217821782189, w1=15.877082691218279\n",
      "SubGD iter. 181/499: loss=1072.8338678028556, w0=72.68217821782189, w1=15.881034951961032\n",
      "SubGD iter. 182/499: loss=1072.8293602118192, w0=72.68217821782189, w1=15.884987212703786\n",
      "SubGD iter. 183/499: loss=1072.8248526207824, w0=72.68217821782189, w1=15.88893947344654\n",
      "SubGD iter. 184/499: loss=1072.8203450297456, w0=72.68217821782189, w1=15.892891734189293\n",
      "SubGD iter. 185/499: loss=1072.815837438709, w0=72.68217821782189, w1=15.896843994932047\n",
      "SubGD iter. 186/499: loss=1072.8113298476721, w0=72.68217821782189, w1=15.9007962556748\n",
      "SubGD iter. 187/499: loss=1072.8068222566355, w0=72.68217821782189, w1=15.904748516417554\n",
      "SubGD iter. 188/499: loss=1072.8023146655987, w0=72.68217821782189, w1=15.908700777160307\n",
      "SubGD iter. 189/499: loss=1072.804568624399, w0=72.68217821782189, w1=15.91265303790306\n",
      "SubGD iter. 190/499: loss=1072.8002319116263, w0=72.67524752475258, w1=15.910526938117323\n",
      "SubGD iter. 191/499: loss=1072.7957243205897, w0=72.67524752475258, w1=15.914479198860077\n",
      "SubGD iter. 192/499: loss=1072.7942524828745, w0=72.67524752475258, w1=15.91843145960283\n",
      "SubGD iter. 193/499: loss=1072.7936415666172, w0=72.66831683168327, w1=15.916305359817093\n",
      "SubGD iter. 194/499: loss=1072.7891339755809, w0=72.66831683168327, w1=15.920257620559847\n",
      "SubGD iter. 195/499: loss=1072.784626384544, w0=72.66831683168327, w1=15.9242098813026\n",
      "SubGD iter. 196/499: loss=1072.7863611784142, w0=72.66831683168327, w1=15.928162142045354\n",
      "SubGD iter. 197/499: loss=1072.7825436305716, w0=72.66138613861396, w1=15.926036042259616\n",
      "SubGD iter. 198/499: loss=1072.778036039535, w0=72.66138613861396, w1=15.92998830300237\n",
      "SubGD iter. 199/499: loss=1072.7760450368899, w0=72.66138613861396, w1=15.933940563745123\n",
      "SubGD iter. 200/499: loss=1072.7759532855628, w0=72.65445544554466, w1=15.931814463959386\n",
      "SubGD iter. 201/499: loss=1072.7714456945262, w0=72.65445544554466, w1=15.93576672470214\n",
      "SubGD iter. 202/499: loss=1072.7669381034893, w0=72.65445544554466, w1=15.939718985444893\n",
      "SubGD iter. 203/499: loss=1072.7681537324295, w0=72.65445544554466, w1=15.943671246187646\n",
      "SubGD iter. 204/499: loss=1072.7648553495171, w0=72.64752475247535, w1=15.941545146401909\n",
      "SubGD iter. 205/499: loss=1072.7603477584803, w0=72.64752475247535, w1=15.945497407144662\n",
      "SubGD iter. 206/499: loss=1072.7578375909052, w0=72.64752475247535, w1=15.949449667887416\n",
      "SubGD iter. 207/499: loss=1072.758265004508, w0=72.64059405940604, w1=15.947323568101679\n",
      "SubGD iter. 208/499: loss=1072.7537574134715, w0=72.64059405940604, w1=15.951275828844432\n",
      "SubGD iter. 209/499: loss=1072.7492498224346, w0=72.64059405940604, w1=15.955228089587186\n",
      "SubGD iter. 210/499: loss=1072.7499462864448, w0=72.64059405940604, w1=15.95918035032994\n",
      "SubGD iter. 211/499: loss=1072.7471670684622, w0=72.63366336633673, w1=15.957054250544202\n",
      "SubGD iter. 212/499: loss=1072.7426594774256, w0=72.63366336633673, w1=15.961006511286955\n",
      "SubGD iter. 213/499: loss=1072.7396301449203, w0=72.63366336633673, w1=15.964958772029709\n",
      "SubGD iter. 214/499: loss=1072.7479029860033, w0=72.62673267326743, w1=15.962832672243971\n",
      "SubGD iter. 215/499: loss=1072.7410674041826, w0=72.63366336633673, w1=15.967301372051375\n",
      "SubGD iter. 216/499: loss=1072.7448821117096, w0=72.62673267326743, w1=15.965175272265638\n",
      "SubGD iter. 217/499: loss=1072.7425046634453, w0=72.63366336633673, w1=15.969643972073042\n",
      "SubGD iter. 218/499: loss=1072.7418612374158, w0=72.62673267326743, w1=15.967517872287305\n",
      "SubGD iter. 219/499: loss=1072.7439419227073, w0=72.63366336633673, w1=15.971986572094709\n",
      "SubGD iter. 220/499: loss=1072.738840363122, w0=72.62673267326743, w1=15.969860472308971\n",
      "SubGD iter. 221/499: loss=1072.7453791819696, w0=72.63366336633673, w1=15.974329172116375\n",
      "SubGD iter. 222/499: loss=1072.7361431622767, w0=72.62673267326743, w1=15.972203072330638\n",
      "SubGD iter. 223/499: loss=1072.7378952092454, w0=72.62673267326743, w1=15.970593411609551\n",
      "SubGD iter. 224/499: loss=1072.74582886343, w0=72.63366336633673, w1=15.975062111416955\n",
      "SubGD iter. 225/499: loss=1072.7364836141167, w0=72.62673267326743, w1=15.972936011631218\n",
      "SubGD iter. 226/499: loss=1072.7369500553687, w0=72.62673267326743, w1=15.97132635091013\n",
      "SubGD iter. 227/499: loss=1072.7462785448902, w0=72.63366336633673, w1=15.975795050717535\n",
      "SubGD iter. 228/499: loss=1072.7368240659564, w0=72.62673267326743, w1=15.973668950931797\n",
      "SubGD iter. 229/499: loss=1072.7360763751813, w0=72.62673267326743, w1=15.97205929021071\n",
      "SubGD iter. 230/499: loss=1072.738080621909, w0=72.62673267326743, w1=15.970449629489623\n",
      "SubGD iter. 231/499: loss=1072.7457406485482, w0=72.63366336633673, w1=15.974918329297028\n",
      "SubGD iter. 232/499: loss=1072.736416827021, w0=72.62673267326743, w1=15.97279222951129\n",
      "SubGD iter. 233/499: loss=1072.7371354680322, w0=72.62673267326743, w1=15.971182568790203\n",
      "SubGD iter. 234/499: loss=1072.7461903300086, w0=72.63366336633673, w1=15.975651268597607\n",
      "SubGD iter. 235/499: loss=1072.7367572788608, w0=72.62673267326743, w1=15.97352516881187\n",
      "SubGD iter. 236/499: loss=1072.7361903141555, w0=72.62673267326743, w1=15.971915508090783\n",
      "SubGD iter. 237/499: loss=1072.746640011469, w0=72.63366336633673, w1=15.976384207898187\n",
      "SubGD iter. 238/499: loss=1072.7370977307003, w0=72.62673267326743, w1=15.97425810811245\n",
      "SubGD iter. 239/499: loss=1072.7363500399251, w0=72.62673267326743, w1=15.972648447391363\n",
      "SubGD iter. 240/499: loss=1072.7373208806957, w0=72.62673267326743, w1=15.971038786670276\n",
      "SubGD iter. 241/499: loss=1072.7461021151269, w0=72.63366336633673, w1=15.97550748647768\n",
      "SubGD iter. 242/499: loss=1072.736690491765, w0=72.62673267326743, w1=15.973381386691942\n",
      "SubGD iter. 243/499: loss=1072.7363757268192, w0=72.62673267326743, w1=15.971771725970855\n",
      "SubGD iter. 244/499: loss=1072.746551796587, w0=72.63366336633673, w1=15.97624042577826\n",
      "SubGD iter. 245/499: loss=1072.7370309436046, w0=72.62673267326743, w1=15.974114325992522\n",
      "SubGD iter. 246/499: loss=1072.7362832528293, w0=72.62673267326743, w1=15.972504665271435\n",
      "SubGD iter. 247/499: loss=1072.7375062933597, w0=72.62673267326743, w1=15.970895004550348\n",
      "SubGD iter. 248/499: loss=1072.746013900245, w0=72.63366336633673, w1=15.975363704357752\n",
      "SubGD iter. 249/499: loss=1072.736623704669, w0=72.62673267326743, w1=15.973237604572015\n",
      "SubGD iter. 250/499: loss=1072.736561139483, w0=72.62673267326743, w1=15.971627943850928\n",
      "SubGD iter. 251/499: loss=1072.7464635817055, w0=72.63366336633673, w1=15.976096643658332\n",
      "SubGD iter. 252/499: loss=1072.7369641565087, w0=72.62673267326743, w1=15.973970543872595\n",
      "SubGD iter. 253/499: loss=1072.7362164657336, w0=72.62673267326743, w1=15.972360883151508\n",
      "SubGD iter. 254/499: loss=1072.7376917060233, w0=72.62673267326743, w1=15.97075122243042\n",
      "SubGD iter. 255/499: loss=1072.7459256853638, w0=72.63366336633673, w1=15.975219922237825\n",
      "SubGD iter. 256/499: loss=1072.7365569175734, w0=72.62673267326743, w1=15.973093822452087\n",
      "SubGD iter. 257/499: loss=1072.7367465521465, w0=72.62673267326743, w1=15.971484161731\n",
      "SubGD iter. 258/499: loss=1072.746375366824, w0=72.63366336633673, w1=15.975952861538405\n",
      "SubGD iter. 259/499: loss=1072.7368973694133, w0=72.62673267326743, w1=15.973826761752667\n",
      "SubGD iter. 260/499: loss=1072.736149678638, w0=72.62673267326743, w1=15.97221710103158\n",
      "SubGD iter. 261/499: loss=1072.737877118687, w0=72.62673267326743, w1=15.970607440310493\n",
      "SubGD iter. 262/499: loss=1072.745837470482, w0=72.63366336633673, w1=15.975076140117897\n",
      "SubGD iter. 263/499: loss=1072.7364901304773, w0=72.62673267326743, w1=15.97295004033216\n",
      "SubGD iter. 264/499: loss=1072.7369319648103, w0=72.62673267326743, w1=15.971340379611073\n",
      "SubGD iter. 265/499: loss=1072.7462871519422, w0=72.63366336633673, w1=15.975809079418477\n",
      "SubGD iter. 266/499: loss=1072.7368305823175, w0=72.62673267326743, w1=15.97368297963274\n",
      "SubGD iter. 267/499: loss=1072.736082891542, w0=72.62673267326743, w1=15.972073318911653\n",
      "SubGD iter. 268/499: loss=1072.7380625313508, w0=72.62673267326743, w1=15.970463658190566\n",
      "SubGD iter. 269/499: loss=1072.7457492556002, w0=72.63366336633673, w1=15.97493235799797\n",
      "SubGD iter. 270/499: loss=1072.7364233433818, w0=72.62673267326743, w1=15.972806258212232\n",
      "SubGD iter. 271/499: loss=1072.737117377474, w0=72.62673267326743, w1=15.971196597491145\n",
      "SubGD iter. 272/499: loss=1072.7461989370606, w0=72.63366336633673, w1=15.97566529729855\n",
      "SubGD iter. 273/499: loss=1072.7367637952216, w0=72.62673267326743, w1=15.973539197512812\n",
      "SubGD iter. 274/499: loss=1072.7361722235974, w0=72.62673267326743, w1=15.971929536791725\n",
      "SubGD iter. 275/499: loss=1072.7466486185208, w0=72.63366336633673, w1=15.97639823659913\n",
      "SubGD iter. 276/499: loss=1072.7371042470613, w0=72.62673267326743, w1=15.974272136813392\n",
      "SubGD iter. 277/499: loss=1072.736356556286, w0=72.62673267326743, w1=15.972662476092305\n",
      "SubGD iter. 278/499: loss=1072.7373027901378, w0=72.62673267326743, w1=15.971052815371218\n",
      "SubGD iter. 279/499: loss=1072.746110722179, w0=72.63366336633673, w1=15.975521515178622\n",
      "SubGD iter. 280/499: loss=1072.736697008126, w0=72.62673267326743, w1=15.973395415392885\n",
      "SubGD iter. 281/499: loss=1072.736357636261, w0=72.62673267326743, w1=15.971785754671798\n",
      "SubGD iter. 282/499: loss=1072.7465604036393, w0=72.63366336633673, w1=15.976254454479202\n",
      "SubGD iter. 283/499: loss=1072.7370374599654, w0=72.62673267326743, w1=15.974128354693464\n",
      "SubGD iter. 284/499: loss=1072.7362897691903, w0=72.62673267326743, w1=15.972518693972377\n",
      "SubGD iter. 285/499: loss=1072.7374882028014, w0=72.62673267326743, w1=15.97090903325129\n",
      "SubGD iter. 286/499: loss=1072.7460225072973, w0=72.63366336633673, w1=15.975377733058695\n",
      "SubGD iter. 287/499: loss=1072.73663022103, w0=72.62673267326743, w1=15.973251633272957\n",
      "SubGD iter. 288/499: loss=1072.736543048925, w0=72.62673267326743, w1=15.97164197255187\n",
      "SubGD iter. 289/499: loss=1072.7464721887575, w0=72.63366336633673, w1=15.976110672359274\n",
      "SubGD iter. 290/499: loss=1072.7369706728698, w0=72.62673267326743, w1=15.973984572573537\n",
      "SubGD iter. 291/499: loss=1072.7362229820947, w0=72.62673267326743, w1=15.97237491185245\n",
      "SubGD iter. 292/499: loss=1072.7376736154652, w0=72.62673267326743, w1=15.970765251131363\n",
      "SubGD iter. 293/499: loss=1072.7459342924158, w0=72.63366336633673, w1=15.975233950938767\n",
      "SubGD iter. 294/499: loss=1072.7365634339342, w0=72.62673267326743, w1=15.97310785115303\n",
      "SubGD iter. 295/499: loss=1072.7367284615884, w0=72.62673267326743, w1=15.971498190431943\n",
      "SubGD iter. 296/499: loss=1072.7463839738757, w0=72.63366336633673, w1=15.975966890239347\n",
      "SubGD iter. 297/499: loss=1072.7369038857742, w0=72.62673267326743, w1=15.97384079045361\n",
      "SubGD iter. 298/499: loss=1072.736156194999, w0=72.62673267326743, w1=15.972231129732522\n",
      "SubGD iter. 299/499: loss=1072.7378590281287, w0=72.62673267326743, w1=15.970621469011435\n",
      "SubGD iter. 300/499: loss=1072.745846077534, w0=72.63366336633673, w1=15.97509016881884\n",
      "SubGD iter. 301/499: loss=1072.7364966468385, w0=72.62673267326743, w1=15.972964069033102\n",
      "SubGD iter. 302/499: loss=1072.736913874252, w0=72.62673267326743, w1=15.971354408312015\n",
      "SubGD iter. 303/499: loss=1072.7462957589942, w0=72.63366336633673, w1=15.97582310811942\n",
      "SubGD iter. 304/499: loss=1072.7368370986783, w0=72.62673267326743, w1=15.973697008333682\n",
      "SubGD iter. 305/499: loss=1072.7360894079031, w0=72.62673267326743, w1=15.972087347612595\n",
      "SubGD iter. 306/499: loss=1072.7380444407925, w0=72.62673267326743, w1=15.970477686891508\n",
      "SubGD iter. 307/499: loss=1072.7457578626527, w0=72.63366336633673, w1=15.974946386698912\n",
      "SubGD iter. 308/499: loss=1072.7364298597427, w0=72.62673267326743, w1=15.972820286913175\n",
      "SubGD iter. 309/499: loss=1072.737099286916, w0=72.62673267326743, w1=15.971210626192088\n",
      "SubGD iter. 310/499: loss=1072.7462075441126, w0=72.63366336633673, w1=15.975679325999492\n",
      "SubGD iter. 311/499: loss=1072.7367703115824, w0=72.62673267326743, w1=15.973553226213754\n",
      "SubGD iter. 312/499: loss=1072.7361541330392, w0=72.62673267326743, w1=15.971943565492667\n",
      "SubGD iter. 313/499: loss=1072.7466572255728, w0=72.63366336633673, w1=15.976412265300072\n",
      "SubGD iter. 314/499: loss=1072.7371107634224, w0=72.62673267326743, w1=15.974286165514334\n",
      "SubGD iter. 315/499: loss=1072.7363630726472, w0=72.62673267326743, w1=15.972676504793247\n",
      "SubGD iter. 316/499: loss=1072.7372846995795, w0=72.62673267326743, w1=15.97106684407216\n",
      "SubGD iter. 317/499: loss=1072.746119329231, w0=72.63366336633673, w1=15.975535543879564\n",
      "SubGD iter. 318/499: loss=1072.7367035244868, w0=72.62673267326743, w1=15.973409444093827\n",
      "SubGD iter. 319/499: loss=1072.7363395457028, w0=72.62673267326743, w1=15.97179978337274\n",
      "SubGD iter. 320/499: loss=1072.7465690106912, w0=72.63366336633673, w1=15.976268483180144\n",
      "SubGD iter. 321/499: loss=1072.7370439763267, w0=72.62673267326743, w1=15.974142383394407\n",
      "SubGD iter. 322/499: loss=1072.7362962855511, w0=72.62673267326743, w1=15.97253272267332\n",
      "SubGD iter. 323/499: loss=1072.737470112243, w0=72.62673267326743, w1=15.970923061952233\n",
      "SubGD iter. 324/499: loss=1072.7460311143495, w0=72.63366336633673, w1=15.975391761759637\n",
      "SubGD iter. 325/499: loss=1072.736636737391, w0=72.62673267326743, w1=15.9732656619739\n",
      "SubGD iter. 326/499: loss=1072.7365249583663, w0=72.62673267326743, w1=15.971656001252812\n",
      "SubGD iter. 327/499: loss=1072.7464807958095, w0=72.63366336633673, w1=15.976124701060217\n",
      "SubGD iter. 328/499: loss=1072.7369771892309, w0=72.62673267326743, w1=15.973998601274479\n",
      "SubGD iter. 329/499: loss=1072.7362294984555, w0=72.62673267326743, w1=15.972388940553392\n",
      "SubGD iter. 330/499: loss=1072.737655524907, w0=72.62673267326743, w1=15.970779279832305\n",
      "SubGD iter. 331/499: loss=1072.7459428994678, w0=72.63366336633673, w1=15.97524797963971\n",
      "SubGD iter. 332/499: loss=1072.7365699502952, w0=72.62673267326743, w1=15.973121879853972\n",
      "SubGD iter. 333/499: loss=1072.73671037103, w0=72.62673267326743, w1=15.971512219132885\n",
      "SubGD iter. 334/499: loss=1072.746392580928, w0=72.63366336633673, w1=15.975980918940289\n",
      "SubGD iter. 335/499: loss=1072.736910402135, w0=72.62673267326743, w1=15.973854819154552\n",
      "SubGD iter. 336/499: loss=1072.7361627113598, w0=72.62673267326743, w1=15.972245158433465\n",
      "SubGD iter. 337/499: loss=1072.7378409375706, w0=72.62673267326743, w1=15.970635497712378\n",
      "SubGD iter. 338/499: loss=1072.745854684586, w0=72.63366336633673, w1=15.975104197519782\n",
      "SubGD iter. 339/499: loss=1072.7365031631994, w0=72.62673267326743, w1=15.972978097734044\n",
      "SubGD iter. 340/499: loss=1072.736895783694, w0=72.62673267326743, w1=15.971368437012957\n",
      "SubGD iter. 341/499: loss=1072.7463043660464, w0=72.63366336633673, w1=15.975837136820362\n",
      "SubGD iter. 342/499: loss=1072.7368436150393, w0=72.62673267326743, w1=15.973711037034624\n",
      "SubGD iter. 343/499: loss=1072.736095924264, w0=72.62673267326743, w1=15.972101376313537\n",
      "SubGD iter. 344/499: loss=1072.7380263502343, w0=72.62673267326743, w1=15.97049171559245\n",
      "SubGD iter. 345/499: loss=1072.7457664697047, w0=72.63366336633673, w1=15.974960415399854\n",
      "SubGD iter. 346/499: loss=1072.7364363761035, w0=72.62673267326743, w1=15.972834315614117\n",
      "SubGD iter. 347/499: loss=1072.7370811963576, w0=72.62673267326743, w1=15.97122465489303\n",
      "SubGD iter. 348/499: loss=1072.7462161511648, w0=72.63366336633673, w1=15.975693354700434\n",
      "SubGD iter. 349/499: loss=1072.7367768279435, w0=72.62673267326743, w1=15.973567254914697\n",
      "SubGD iter. 350/499: loss=1072.7361360424811, w0=72.62673267326743, w1=15.97195759419361\n",
      "SubGD iter. 351/499: loss=1072.746665832625, w0=72.63366336633673, w1=15.976426294001014\n",
      "SubGD iter. 352/499: loss=1072.737117279783, w0=72.62673267326743, w1=15.974300194215276\n",
      "SubGD iter. 353/499: loss=1072.736369589008, w0=72.62673267326743, w1=15.97269053349419\n",
      "SubGD iter. 354/499: loss=1072.7372666090214, w0=72.62673267326743, w1=15.971080872773102\n",
      "SubGD iter. 355/499: loss=1072.746127936283, w0=72.63366336633673, w1=15.975549572580507\n",
      "SubGD iter. 356/499: loss=1072.7367100408478, w0=72.62673267326743, w1=15.973423472794769\n",
      "SubGD iter. 357/499: loss=1072.7363214551447, w0=72.62673267326743, w1=15.971813812073682\n",
      "SubGD iter. 358/499: loss=1072.7465776177435, w0=72.63366336633673, w1=15.976282511881086\n",
      "SubGD iter. 359/499: loss=1072.7370504926873, w0=72.62673267326743, w1=15.974156412095349\n",
      "SubGD iter. 360/499: loss=1072.7363028019122, w0=72.62673267326743, w1=15.972546751374262\n",
      "SubGD iter. 361/499: loss=1072.737452021685, w0=72.62673267326743, w1=15.970937090653175\n",
      "SubGD iter. 362/499: loss=1072.7460397214015, w0=72.63366336633673, w1=15.975405790460579\n",
      "SubGD iter. 363/499: loss=1072.736643253752, w0=72.62673267326743, w1=15.973279690674842\n",
      "SubGD iter. 364/499: loss=1072.7365068678084, w0=72.62673267326743, w1=15.971670029953755\n",
      "SubGD iter. 365/499: loss=1072.7464894028617, w0=72.63366336633673, w1=15.976138729761159\n",
      "SubGD iter. 366/499: loss=1072.7369837055917, w0=72.62673267326743, w1=15.974012629975421\n",
      "SubGD iter. 367/499: loss=1072.7362360148165, w0=72.62673267326743, w1=15.972402969254334\n",
      "SubGD iter. 368/499: loss=1072.737637434349, w0=72.62673267326743, w1=15.970793308533247\n",
      "SubGD iter. 369/499: loss=1072.7459515065198, w0=72.63366336633673, w1=15.975262008340652\n",
      "SubGD iter. 370/499: loss=1072.736576466656, w0=72.62673267326743, w1=15.973135908554914\n",
      "SubGD iter. 371/499: loss=1072.7366922804722, w0=72.62673267326743, w1=15.971526247833827\n",
      "SubGD iter. 372/499: loss=1072.7464011879802, w0=72.63366336633673, w1=15.975994947641231\n",
      "SubGD iter. 373/499: loss=1072.736916918496, w0=72.62673267326743, w1=15.973868847855494\n",
      "SubGD iter. 374/499: loss=1072.7361692277207, w0=72.62673267326743, w1=15.972259187134407\n",
      "SubGD iter. 375/499: loss=1072.7378228470125, w0=72.62673267326743, w1=15.97064952641332\n",
      "SubGD iter. 376/499: loss=1072.7458632916382, w0=72.63366336633673, w1=15.975118226220724\n",
      "SubGD iter. 377/499: loss=1072.7365096795606, w0=72.62673267326743, w1=15.972992126434987\n",
      "SubGD iter. 378/499: loss=1072.7368776931357, w0=72.62673267326743, w1=15.9713824657139\n",
      "SubGD iter. 379/499: loss=1072.7463129730984, w0=72.63366336633673, w1=15.975851165521304\n",
      "SubGD iter. 380/499: loss=1072.7368501314002, w0=72.62673267326743, w1=15.973725065735566\n",
      "SubGD iter. 381/499: loss=1072.736102440625, w0=72.62673267326743, w1=15.97211540501448\n",
      "SubGD iter. 382/499: loss=1072.738008259676, w0=72.62673267326743, w1=15.970505744293392\n",
      "SubGD iter. 383/499: loss=1072.7457750767567, w0=72.63366336633673, w1=15.974974444100797\n",
      "SubGD iter. 384/499: loss=1072.7364428924648, w0=72.62673267326743, w1=15.972848344315059\n",
      "SubGD iter. 385/499: loss=1072.7370631057995, w0=72.62673267326743, w1=15.971238683593972\n",
      "SubGD iter. 386/499: loss=1072.7462247582168, w0=72.63366336633673, w1=15.975707383401376\n",
      "SubGD iter. 387/499: loss=1072.7367833443045, w0=72.62673267326743, w1=15.973581283615639\n",
      "SubGD iter. 388/499: loss=1072.7361179519228, w0=72.62673267326743, w1=15.971971622894552\n",
      "SubGD iter. 389/499: loss=1072.746674439677, w0=72.63366336633673, w1=15.976440322701956\n",
      "SubGD iter. 390/499: loss=1072.7371237961443, w0=72.62673267326743, w1=15.974314222916218\n",
      "SubGD iter. 391/499: loss=1072.736376105369, w0=72.62673267326743, w1=15.972704562195132\n",
      "SubGD iter. 392/499: loss=1072.7372485184633, w0=72.62673267326743, w1=15.971094901474045\n",
      "SubGD iter. 393/499: loss=1072.7461365433353, w0=72.63366336633673, w1=15.975563601281449\n",
      "SubGD iter. 394/499: loss=1072.7367165572086, w0=72.62673267326743, w1=15.973437501495711\n",
      "SubGD iter. 395/499: loss=1072.7363033645865, w0=72.62673267326743, w1=15.971827840774624\n",
      "SubGD iter. 396/499: loss=1072.7465862247952, w0=72.63366336633673, w1=15.976296540582029\n",
      "SubGD iter. 397/499: loss=1072.7370570090484, w0=72.62673267326743, w1=15.974170440796291\n",
      "SubGD iter. 398/499: loss=1072.7363093182732, w0=72.62673267326743, w1=15.972560780075204\n",
      "SubGD iter. 399/499: loss=1072.7374339311268, w0=72.62673267326743, w1=15.970951119354117\n",
      "SubGD iter. 400/499: loss=1072.7460483284535, w0=72.63366336633673, w1=15.975419819161521\n",
      "SubGD iter. 401/499: loss=1072.736649770113, w0=72.62673267326743, w1=15.973293719375784\n",
      "SubGD iter. 402/499: loss=1072.73648877725, w0=72.62673267326743, w1=15.971684058654697\n",
      "SubGD iter. 403/499: loss=1072.7464980099137, w0=72.63366336633673, w1=15.976152758462101\n",
      "SubGD iter. 404/499: loss=1072.7369902219527, w0=72.62673267326743, w1=15.974026658676364\n",
      "SubGD iter. 405/499: loss=1072.7362425311774, w0=72.62673267326743, w1=15.972416997955277\n",
      "SubGD iter. 406/499: loss=1072.7376193437908, w0=72.62673267326743, w1=15.97080733723419\n",
      "SubGD iter. 407/499: loss=1072.745960113572, w0=72.63366336633673, w1=15.975276037041594\n",
      "SubGD iter. 408/499: loss=1072.7365829830173, w0=72.62673267326743, w1=15.973149937255856\n",
      "SubGD iter. 409/499: loss=1072.7366741899139, w0=72.62673267326743, w1=15.97154027653477\n",
      "SubGD iter. 410/499: loss=1072.746409795032, w0=72.63366336633673, w1=15.976008976342174\n",
      "SubGD iter. 411/499: loss=1072.7369234348569, w0=72.62673267326743, w1=15.973882876556436\n",
      "SubGD iter. 412/499: loss=1072.7361757440817, w0=72.62673267326743, w1=15.972273215835349\n",
      "SubGD iter. 413/499: loss=1072.7378047564541, w0=72.62673267326743, w1=15.970663555114262\n",
      "SubGD iter. 414/499: loss=1072.7458718986902, w0=72.63366336633673, w1=15.975132254921666\n",
      "SubGD iter. 415/499: loss=1072.7365161959215, w0=72.62673267326743, w1=15.973006155135929\n",
      "SubGD iter. 416/499: loss=1072.7368596025776, w0=72.62673267326743, w1=15.971396494414842\n",
      "SubGD iter. 417/499: loss=1072.7463215801504, w0=72.63366336633673, w1=15.975865194222246\n",
      "SubGD iter. 418/499: loss=1072.7368566477612, w0=72.62673267326743, w1=15.973739094436509\n",
      "SubGD iter. 419/499: loss=1072.7361089569858, w0=72.62673267326743, w1=15.972129433715422\n",
      "SubGD iter. 420/499: loss=1072.7379901691181, w0=72.62673267326743, w1=15.970519772994335\n",
      "SubGD iter. 421/499: loss=1072.7457836838087, w0=72.63366336633673, w1=15.974988472801739\n",
      "SubGD iter. 422/499: loss=1072.7364494088256, w0=72.62673267326743, w1=15.972862373016001\n",
      "SubGD iter. 423/499: loss=1072.7370450152412, w0=72.62673267326743, w1=15.971252712294914\n",
      "SubGD iter. 424/499: loss=1072.746233365269, w0=72.63366336633673, w1=15.975721412102319\n",
      "SubGD iter. 425/499: loss=1072.7367898606653, w0=72.62673267326743, w1=15.973595312316581\n",
      "SubGD iter. 426/499: loss=1072.7360998613647, w0=72.62673267326743, w1=15.971985651595494\n",
      "SubGD iter. 427/499: loss=1072.7466830467292, w0=72.63366336633673, w1=15.976454351402898\n",
      "SubGD iter. 428/499: loss=1072.737130312505, w0=72.62673267326743, w1=15.97432825161716\n",
      "SubGD iter. 429/499: loss=1072.7363826217297, w0=72.62673267326743, w1=15.972718590896074\n",
      "SubGD iter. 430/499: loss=1072.737230427905, w0=72.62673267326743, w1=15.971108930174987\n",
      "SubGD iter. 431/499: loss=1072.7461451503873, w0=72.63366336633673, w1=15.975577629982391\n",
      "SubGD iter. 432/499: loss=1072.7367230735697, w0=72.62673267326743, w1=15.973451530196654\n",
      "SubGD iter. 433/499: loss=1072.7362852740282, w0=72.62673267326743, w1=15.971841869475567\n",
      "SubGD iter. 434/499: loss=1072.7465948318475, w0=72.63366336633673, w1=15.97631056928297\n",
      "SubGD iter. 435/499: loss=1072.7370635254097, w0=72.62673267326743, w1=15.974184469497233\n",
      "SubGD iter. 436/499: loss=1072.7363158346343, w0=72.62673267326743, w1=15.972574808776146\n",
      "SubGD iter. 437/499: loss=1072.7374158405687, w0=72.62673267326743, w1=15.97096514805506\n",
      "SubGD iter. 438/499: loss=1072.7460569355057, w0=72.63366336633673, w1=15.975433847862464\n",
      "SubGD iter. 439/499: loss=1072.7366562864738, w0=72.62673267326743, w1=15.973307748076726\n",
      "SubGD iter. 440/499: loss=1072.7364706866917, w0=72.62673267326743, w1=15.97169808735564\n",
      "SubGD iter. 441/499: loss=1072.746506616966, w0=72.63366336633673, w1=15.976166787163043\n",
      "SubGD iter. 442/499: loss=1072.7369967383138, w0=72.62673267326743, w1=15.974040687377306\n",
      "SubGD iter. 443/499: loss=1072.7362490475384, w0=72.62673267326743, w1=15.972431026656219\n",
      "SubGD iter. 444/499: loss=1072.7376012532325, w0=72.62673267326743, w1=15.970821365935132\n",
      "SubGD iter. 445/499: loss=1072.745968720624, w0=72.63366336633673, w1=15.975290065742536\n",
      "SubGD iter. 446/499: loss=1072.7365894993782, w0=72.62673267326743, w1=15.973163965956799\n",
      "SubGD iter. 447/499: loss=1072.7366560993557, w0=72.62673267326743, w1=15.971554305235712\n",
      "SubGD iter. 448/499: loss=1072.7464184020841, w0=72.63366336633673, w1=15.976023005043116\n",
      "SubGD iter. 449/499: loss=1072.736929951218, w0=72.62673267326743, w1=15.973896905257378\n",
      "SubGD iter. 450/499: loss=1072.7361822604428, w0=72.62673267326743, w1=15.972287244536291\n",
      "SubGD iter. 451/499: loss=1072.737786665896, w0=72.62673267326743, w1=15.970677583815204\n",
      "SubGD iter. 452/499: loss=1072.7458805057422, w0=72.63366336633673, w1=15.975146283622609\n",
      "SubGD iter. 453/499: loss=1072.7365227122823, w0=72.62673267326743, w1=15.973020183836871\n",
      "SubGD iter. 454/499: loss=1072.736841512019, w0=72.62673267326743, w1=15.971410523115784\n",
      "SubGD iter. 455/499: loss=1072.7463301872026, w0=72.63366336633673, w1=15.975879222923188\n",
      "SubGD iter. 456/499: loss=1072.736863164122, w0=72.62673267326743, w1=15.97375312313745\n",
      "SubGD iter. 457/499: loss=1072.736115473347, w0=72.62673267326743, w1=15.972143462416364\n",
      "SubGD iter. 458/499: loss=1072.7379720785596, w0=72.62673267326743, w1=15.970533801695277\n",
      "SubGD iter. 459/499: loss=1072.7457922908607, w0=72.63366336633673, w1=15.975002501502681\n",
      "SubGD iter. 460/499: loss=1072.7364559251866, w0=72.62673267326743, w1=15.972876401716944\n",
      "SubGD iter. 461/499: loss=1072.737026924683, w0=72.62673267326743, w1=15.971266740995857\n",
      "SubGD iter. 462/499: loss=1072.7462419723208, w0=72.63366336633673, w1=15.97573544080326\n",
      "SubGD iter. 463/499: loss=1072.7367963770264, w0=72.62673267326743, w1=15.973609341017523\n",
      "SubGD iter. 464/499: loss=1072.7360817708063, w0=72.62673267326743, w1=15.971999680296436\n",
      "SubGD iter. 465/499: loss=1072.7466916537812, w0=72.63366336633673, w1=15.97646838010384\n",
      "SubGD iter. 466/499: loss=1072.7371368288661, w0=72.62673267326743, w1=15.974342280318103\n",
      "SubGD iter. 467/499: loss=1072.736389138091, w0=72.62673267326743, w1=15.972732619597016\n",
      "SubGD iter. 468/499: loss=1072.7372123373466, w0=72.62673267326743, w1=15.97112295887593\n",
      "SubGD iter. 469/499: loss=1072.746153757439, w0=72.63366336633673, w1=15.975591658683333\n",
      "SubGD iter. 470/499: loss=1072.7367295899307, w0=72.62673267326743, w1=15.973465558897596\n",
      "SubGD iter. 471/499: loss=1072.7362671834699, w0=72.62673267326743, w1=15.971855898176509\n",
      "SubGD iter. 472/499: loss=1072.7466034388997, w0=72.63366336633673, w1=15.976324597983913\n",
      "SubGD iter. 473/499: loss=1072.7370700417705, w0=72.62673267326743, w1=15.974198498198175\n",
      "SubGD iter. 474/499: loss=1072.7363223509951, w0=72.62673267326743, w1=15.972588837477089\n",
      "SubGD iter. 475/499: loss=1072.7373977500104, w0=72.62673267326743, w1=15.970979176756002\n",
      "SubGD iter. 476/499: loss=1072.7460655425577, w0=72.63366336633673, w1=15.975447876563406\n",
      "SubGD iter. 477/499: loss=1072.7366628028349, w0=72.62673267326743, w1=15.973321776777668\n",
      "SubGD iter. 478/499: loss=1072.7364525961334, w0=72.62673267326743, w1=15.971712116056581\n",
      "SubGD iter. 479/499: loss=1072.746515224018, w0=72.63366336633673, w1=15.976180815863986\n",
      "SubGD iter. 480/499: loss=1072.7370032546746, w0=72.62673267326743, w1=15.974054716078248\n",
      "SubGD iter. 481/499: loss=1072.7362555638992, w0=72.62673267326743, w1=15.972445055357161\n",
      "SubGD iter. 482/499: loss=1072.7375831626741, w0=72.62673267326743, w1=15.970835394636074\n",
      "SubGD iter. 483/499: loss=1072.745977327676, w0=72.63366336633673, w1=15.975304094443478\n",
      "SubGD iter. 484/499: loss=1072.736596015739, w0=72.62673267326743, w1=15.97317799465774\n",
      "SubGD iter. 485/499: loss=1072.7366380087974, w0=72.62673267326743, w1=15.971568333936654\n",
      "SubGD iter. 486/499: loss=1072.7464270091364, w0=72.63366336633673, w1=15.976037033744058\n",
      "SubGD iter. 487/499: loss=1072.736936467579, w0=72.62673267326743, w1=15.97391093395832\n",
      "SubGD iter. 488/499: loss=1072.7361887768036, w0=72.62673267326743, w1=15.972301273237234\n",
      "SubGD iter. 489/499: loss=1072.737768575338, w0=72.62673267326743, w1=15.970691612516147\n",
      "SubGD iter. 490/499: loss=1072.7458891127944, w0=72.63366336633673, w1=15.97516031232355\n",
      "SubGD iter. 491/499: loss=1072.7365292286433, w0=72.62673267326743, w1=15.973034212537813\n",
      "SubGD iter. 492/499: loss=1072.736823421461, w0=72.62673267326743, w1=15.971424551816726\n",
      "SubGD iter. 493/499: loss=1072.7463387942546, w0=72.63366336633673, w1=15.97589325162413\n",
      "SubGD iter. 494/499: loss=1072.736869680483, w0=72.62673267326743, w1=15.973767151838393\n",
      "SubGD iter. 495/499: loss=1072.736121989708, w0=72.62673267326743, w1=15.972157491117306\n",
      "SubGD iter. 496/499: loss=1072.7379539880017, w0=72.62673267326743, w1=15.97054783039622\n",
      "SubGD iter. 497/499: loss=1072.7458008979129, w0=72.63366336633673, w1=15.975016530203623\n",
      "SubGD iter. 498/499: loss=1072.7364624415477, w0=72.62673267326743, w1=15.972890430417886\n",
      "SubGD iter. 499/499: loss=1072.737008834125, w0=72.62673267326743, w1=15.971280769696799\n",
      "SubGD: execution time=0.065 seconds\n"
     ]
    }
   ],
   "source": [
    "# Define the parameters of the algorithm.\n",
    "max_iters = 500\n",
    "gamma = 0.7\n",
    "batch_size = 1\n",
    "\n",
    "# Initialization\n",
    "w_initial = np.array([0, 0])\n",
    "\n",
    "# Start SubSGD.\n",
    "start_time = datetime.datetime.now()\n",
    "subgd_losses, subgd_ws = subgradient_descent(\n",
    "    y, tx, w_initial, max_iters, gamma)\n",
    "end_time = datetime.datetime.now()\n",
    "\n",
    "# Print result\n",
    "exection_time = (end_time - start_time).total_seconds()\n",
    "print(\"SubGD: execution time={t:.3f} seconds\".format(t=exection_time))"
   ]
  },
  {
   "cell_type": "code",
   "execution_count": 24,
   "metadata": {},
   "outputs": [
    {
     "data": {
      "application/vnd.jupyter.widget-view+json": {
       "model_id": "4a95cad4101d4ce391241320084db159",
       "version_major": 2,
       "version_minor": 0
      },
      "text/plain": [
       "interactive(children=(IntSlider(value=1, description='n_iter', max=501, min=1), Output()), _dom_classes=('widg…"
      ]
     },
     "metadata": {},
     "output_type": "display_data"
    },
    {
     "data": {
      "text/plain": [
       "<function __main__.plot_figure(n_iter)>"
      ]
     },
     "execution_count": 24,
     "metadata": {},
     "output_type": "execute_result"
    }
   ],
   "source": [
    "from ipywidgets import IntSlider, interact\n",
    "def plot_figure(n_iter):\n",
    "    fig = gradient_descent_visualization(\n",
    "        subgd_losses, subgd_ws, grid_losses, grid_w0, grid_w1, mean_x, std_x, height, weight, n_iter)\n",
    "    fig.set_size_inches(10.0, 6.0)\n",
    "\n",
    "interact(plot_figure, n_iter=IntSlider(min=1, max=len(subgd_ws)))"
   ]
  },
  {
   "cell_type": "markdown",
   "metadata": {},
   "source": [
    "# Stochastic Subgradient Descent\n",
    "\n",
    "**NB** for the computation of the subgradient you can reuse the `compute_subgradient` method that you implemented above, just making sure that you pass in a minibatch as opposed to the full data."
   ]
  },
  {
   "cell_type": "code",
   "execution_count": 25,
   "metadata": {},
   "outputs": [],
   "source": [
    "def stochastic_subgradient_descent(y, tx, initial_w, batch_size, max_iters, gamma):\n",
    "    \"\"\"The Stochastic SubGradient Descent algorithm (SubSGD).\n",
    "            \n",
    "    Args:\n",
    "        y: numpy array of shape=(N, )\n",
    "        tx: numpy array of shape=(N,2)\n",
    "        initial_w: numpy array of shape=(2, ). The initial guess (or the initialization) for the model parameters\n",
    "        batch_size: a scalar denoting the number of data points in a mini-batch used for computing the stochastic subgradient\n",
    "        max_iters: a scalar denoting the total number of iterations of SubSGD\n",
    "        gamma: a scalar denoting the stepsize\n",
    "        \n",
    "    Returns:\n",
    "        losses: a list of length max_iters containing the loss value (scalar) for each iteration of SubSGD\n",
    "        ws: a list of length max_iters containing the model parameters as numpy arrays of shape (2, ), for each iteration of SubSGD \n",
    "    \"\"\"\n",
    "    \n",
    "    # Define parameters to store w and loss\n",
    "    ws = [initial_w]\n",
    "    losses = []\n",
    "    w = initial_w\n",
    "    \n",
    "    for n_iter in range(max_iters):\n",
    "\n",
    "        subgradient = None\n",
    "        for minibatch_y, minibatch_tx in batch_iter(y, tx, batch_size):\n",
    "            subgradient = compute_subgradient_mae(minibatch_y, minibatch_tx,w)\n",
    "        loss = compute_loss_mae(y,tx,w)\n",
    "        \n",
    "        w = w - gamma* subgradient\n",
    "        ws.append(w)\n",
    "        losses.append(loss)\n",
    "        # ***************************************************\n",
    "        \n",
    "        print(\"SubSGD iter. {bi}/{ti}: loss={l}, w0={w0}, w1={w1}\".format(\n",
    "              bi=n_iter, ti=max_iters - 1, l=loss, w0=w[0], w1=w[1]))\n",
    "    return losses, ws"
   ]
  },
  {
   "cell_type": "code",
   "execution_count": 26,
   "metadata": {},
   "outputs": [
    {
     "name": "stdout",
     "output_type": "stream",
     "text": [
      "SubSGD iter. 0/499: loss=14961.696782695128, w0=0.7, w1=-0.032429007767359776\n",
      "SubSGD iter. 1/499: loss=14820.296782695128, w0=1.4, w1=-0.5570619324790993\n",
      "SubSGD iter. 2/499: loss=14678.896782695127, w0=2.0999999999999996, w1=-0.9972571871860705\n",
      "SubSGD iter. 3/499: loss=14537.496782695129, w0=2.8, w1=-0.5485981484013602\n",
      "SubSGD iter. 4/499: loss=14396.096782695127, w0=3.5, w1=0.05680500304262437\n",
      "SubSGD iter. 5/499: loss=14254.69678269513, w0=4.2, w1=-0.47038363570460273\n",
      "SubSGD iter. 6/499: loss=14113.296782695128, w0=4.9, w1=-1.017545937938473\n",
      "SubSGD iter. 7/499: loss=13971.896782695128, w0=5.6000000000000005, w1=-2.371502831971701\n",
      "SubSGD iter. 8/499: loss=13830.496782695129, w0=6.300000000000001, w1=-2.9752689019382146\n",
      "SubSGD iter. 9/499: loss=13689.096782695127, w0=7.000000000000001, w1=-1.9628305640717938\n",
      "SubSGD iter. 10/499: loss=13547.696782695128, w0=7.700000000000001, w1=-2.2427595565082568\n",
      "SubSGD iter. 11/499: loss=13406.296782695128, w0=8.4, w1=-1.6263726076710072\n",
      "SubSGD iter. 12/499: loss=13264.896782695127, w0=9.1, w1=-4.999516285260684\n",
      "SubSGD iter. 13/499: loss=13123.496782695129, w0=9.799999999999999, w1=-4.655048038390217\n",
      "SubSGD iter. 14/499: loss=12982.096782695131, w0=10.499999999999998, w1=-3.8217104558306403\n",
      "SubSGD iter. 15/499: loss=12840.69678269513, w0=11.199999999999998, w1=-4.502309633486723\n",
      "SubSGD iter. 16/499: loss=12699.29678269513, w0=11.899999999999997, w1=-4.757741514588294\n",
      "SubSGD iter. 17/499: loss=12557.89678269513, w0=12.599999999999996, w1=-5.847536537661514\n",
      "SubSGD iter. 18/499: loss=12416.496782695129, w0=13.299999999999995, w1=-5.503823916478123\n",
      "SubSGD iter. 19/499: loss=12275.096782695131, w0=13.999999999999995, w1=-4.851767019035668\n",
      "SubSGD iter. 20/499: loss=12133.69678269513, w0=14.699999999999994, w1=-3.795365787656778\n",
      "SubSGD iter. 21/499: loss=11992.296782695132, w0=15.399999999999993, w1=-4.190802579599784\n",
      "SubSGD iter. 22/499: loss=11850.896782695132, w0=16.099999999999994, w1=-5.374804779993675\n",
      "SubSGD iter. 23/499: loss=11709.49678269513, w0=16.799999999999994, w1=-5.7702415719366815\n",
      "SubSGD iter. 24/499: loss=11568.096782695131, w0=17.499999999999993, w1=-5.6173478148221\n",
      "SubSGD iter. 25/499: loss=11426.696782695131, w0=18.199999999999992, w1=-5.967684748190491\n",
      "SubSGD iter. 26/499: loss=11285.296782695132, w0=18.89999999999999, w1=-7.093617161691662\n",
      "SubSGD iter. 27/499: loss=11143.896782695132, w0=19.59999999999999, w1=-7.933644733151473\n",
      "SubSGD iter. 28/499: loss=11002.496782695132, w0=20.29999999999999, w1=-8.537410803117986\n",
      "SubSGD iter. 29/499: loss=10861.096782695133, w0=20.99999999999999, w1=-8.326246408551782\n",
      "SubSGD iter. 30/499: loss=10719.696782695133, w0=21.69999999999999, w1=-8.756577997012519\n",
      "SubSGD iter. 31/499: loss=10578.296782695132, w0=22.399999999999988, w1=-9.19677325171949\n",
      "SubSGD iter. 32/499: loss=10436.896782695134, w0=23.099999999999987, w1=-8.580386302882241\n",
      "SubSGD iter. 33/499: loss=10295.496782695132, w0=23.799999999999986, w1=-8.448062776528403\n",
      "SubSGD iter. 34/499: loss=10154.096782695133, w0=24.499999999999986, w1=-9.632064976922294\n",
      "SubSGD iter. 35/499: loss=10012.696782695133, w0=25.199999999999985, w1=-9.849321981102044\n",
      "SubSGD iter. 36/499: loss=9871.296782695134, w0=25.899999999999984, w1=-9.873287820905135\n",
      "SubSGD iter. 37/499: loss=9729.896782695132, w0=26.599999999999984, w1=-9.644166128618377\n",
      "SubSGD iter. 38/499: loss=9588.496782695132, w0=27.299999999999983, w1=-9.827631907668795\n",
      "SubSGD iter. 39/499: loss=9447.096782695135, w0=27.999999999999982, w1=-10.61186463570812\n",
      "SubSGD iter. 40/499: loss=9305.966725134133, w0=28.69999999999998, w1=-11.139053274455346\n",
      "SubSGD iter. 41/499: loss=9168.543701447315, w0=29.39999999999998, w1=-11.504974005185744\n",
      "SubSGD iter. 42/499: loss=9032.728363191385, w0=30.09999999999998, w1=-12.031931040954593\n",
      "SubSGD iter. 43/499: loss=8905.756430520065, w0=30.79999999999998, w1=-12.831761775017302\n",
      "SubSGD iter. 44/499: loss=8784.988081506652, w0=31.49999999999998, w1=-12.217100793886916\n",
      "SubSGD iter. 45/499: loss=8640.112310055258, w0=32.19999999999998, w1=-12.647432382347652\n",
      "SubSGD iter. 46/499: loss=8513.046524374084, w0=32.899999999999984, w1=-13.137115915744241\n",
      "SubSGD iter. 47/499: loss=8386.992283966536, w0=33.59999999999999, w1=-12.892803192035107\n",
      "SubSGD iter. 48/499: loss=8249.014052728167, w0=34.29999999999999, w1=-12.72699693246761\n",
      "SubSGD iter. 49/499: loss=8113.3191152200525, w0=34.99999999999999, w1=-12.76168779180908\n",
      "SubSGD iter. 50/499: loss=7983.909895683102, w0=35.699999999999996, w1=-12.015702138221684\n",
      "SubSGD iter. 51/499: loss=7835.308589591582, w0=36.4, w1=-12.441488285512424\n",
      "SubSGD iter. 52/499: loss=7717.418170260136, w0=37.1, w1=-12.19717556180329\n",
      "SubSGD iter. 53/499: loss=7585.184199968084, w0=37.800000000000004, w1=-11.554245863039494\n",
      "SubSGD iter. 54/499: loss=7438.335479269659, w0=38.50000000000001, w1=-12.106217294977172\n",
      "SubSGD iter. 55/499: loss=7337.6125300910335, w0=39.20000000000001, w1=-11.443072977934126\n",
      "SubSGD iter. 56/499: loss=7189.738018250788, w0=39.90000000000001, w1=-10.586850925429587\n",
      "SubSGD iter. 57/499: loss=7033.864166911294, w0=39.20000000000001, w1=-9.698019101263094\n",
      "SubSGD iter. 58/499: loss=7127.594072037862, w0=39.90000000000001, w1=-9.249360062478384\n",
      "SubSGD iter. 59/499: loss=6987.175904081492, w0=40.600000000000016, w1=-9.822370145493007\n",
      "SubSGD iter. 60/499: loss=6881.847051221863, w0=41.30000000000002, w1=-10.374341577430686\n",
      "SubSGD iter. 61/499: loss=6784.259762730024, w0=42.00000000000002, w1=-9.541003994871108\n",
      "SubSGD iter. 62/499: loss=6629.334030260436, w0=42.700000000000024, w1=-9.01682344341939\n",
      "SubSGD iter. 63/499: loss=6487.21688001552, w0=43.40000000000003, w1=-9.427898627961616\n",
      "SubSGD iter. 64/499: loss=6384.549414669164, w0=44.10000000000003, w1=-10.227729362024325\n",
      "SubSGD iter. 65/499: loss=6306.572309584313, w0=44.80000000000003, w1=-9.269594271122518\n",
      "SubSGD iter. 66/499: loss=6142.608625273811, w0=45.500000000000036, w1=-8.568660273687765\n",
      "SubSGD iter. 67/499: loss=5992.39379682945, w0=44.80000000000003, w1=-7.888061096031683\n",
      "SubSGD iter. 68/499: loss=6079.251502282344, w0=45.500000000000036, w1=-8.472373633577574\n",
      "SubSGD iter. 69/499: loss=5987.517800843427, w0=46.20000000000004, w1=-7.740409040069939\n",
      "SubSGD iter. 70/499: loss=5835.913254317892, w0=46.90000000000004, w1=-7.76437487987303\n",
      "SubSGD iter. 71/499: loss=5723.500537469481, w0=46.20000000000004, w1=-6.875543055706537\n",
      "SubSGD iter. 72/499: loss=5796.5022038077395, w0=46.90000000000004, w1=-6.4356186128223545\n",
      "SubSGD iter. 73/499: loss=5658.175359470559, w0=47.600000000000044, w1=-6.224454218256151\n",
      "SubSGD iter. 74/499: loss=5530.482854335089, w0=48.30000000000005, w1=-4.8617028228644035\n",
      "SubSGD iter. 75/499: loss=5351.867458308755, w0=49.00000000000005, w1=-4.513735776473989\n",
      "SubSGD iter. 76/499: loss=5217.673007750758, w0=49.70000000000005, w1=-3.8990747953436022\n",
      "SubSGD iter. 77/499: loss=5072.224238793142, w0=50.400000000000055, w1=-4.143101620052753\n",
      "SubSGD iter. 78/499: loss=4967.198367462921, w0=51.10000000000006, w1=-4.7161117030673765\n",
      "SubSGD iter. 79/499: loss=4886.695483963211, w0=51.80000000000006, w1=-3.535307002367481\n",
      "SubSGD iter. 80/499: loss=4708.283407502684, w0=52.500000000000064, w1=-2.8343730049327283\n",
      "SubSGD iter. 81/499: loss=4558.679685754021, w0=53.20000000000007, w1=-1.9546428751002498\n",
      "SubSGD iter. 82/499: loss=4400.226853717363, w0=52.500000000000064, w1=-1.4074805728663795\n",
      "SubSGD iter. 83/499: loss=4489.155506440042, w0=53.20000000000007, w1=-1.401052691988033\n",
      "SubSGD iter. 84/499: loss=4372.651354923126, w0=53.90000000000007, w1=-1.8268388392787722\n",
      "SubSGD iter. 85/499: loss=4284.618265159548, w0=54.60000000000007, w1=-1.9473433907578146\n",
      "SubSGD iter. 86/499: loss=4191.959943539799, w0=55.300000000000075, w1=-1.6692164219561267\n",
      "SubSGD iter. 87/499: loss=4074.232143644769, w0=56.00000000000008, w1=-2.1002271067047404\n",
      "SubSGD iter. 88/499: loss=4010.733027772322, w0=56.70000000000008, w1=-1.0423117998771823\n",
      "SubSGD iter. 89/499: loss=3836.181724843914, w0=57.400000000000084, w1=-0.8459672063599543\n",
      "SubSGD iter. 90/499: loss=3731.115636992603, w0=58.10000000000009, w1=-0.6348028117937504\n",
      "SubSGD iter. 91/499: loss=3630.419979356547, w0=58.80000000000009, w1=-1.321497447299887\n",
      "SubSGD iter. 92/499: loss=3621.1285718537565, w0=59.50000000000009, w1=-2.060830246743831\n",
      "SubSGD iter. 93/499: loss=3627.8642979308734, w0=60.200000000000095, w1=-1.3148445931564339\n",
      "SubSGD iter. 94/499: loss=3485.599867636421, w0=59.50000000000009, w1=-0.4132123287436762\n",
      "SubSGD iter. 95/499: loss=3460.343679781429, w0=60.200000000000095, w1=-0.13508535994198834\n",
      "SubSGD iter. 96/499: loss=3364.227078444562, w0=60.9000000000001, w1=-0.37911218465113916\n",
      "SubSGD iter. 97/499: loss=3324.145504375604, w0=61.6000000000001, w1=0.2531622438305515\n",
      "SubSGD iter. 98/499: loss=3196.6076449712223, w0=62.300000000000104, w1=0.748788504299384\n",
      "SubSGD iter. 99/499: loss=3085.546650946701, w0=63.00000000000011, w1=1.3651754531366338\n",
      "SubSGD iter. 100/499: loss=2963.2488641625755, w0=62.300000000000104, w1=2.3419729320785527\n",
      "SubSGD iter. 101/499: loss=2914.496312456887, w0=61.6000000000001, w1=3.0454778504694153\n",
      "SubSGD iter. 102/499: loss=2916.7160527169945, w0=62.300000000000104, w1=3.6884075492332107\n",
      "SubSGD iter. 103/499: loss=2786.5930249702506, w0=63.00000000000011, w1=3.6631097838443694\n",
      "SubSGD iter. 104/499: loss=2720.6206048673134, w0=63.70000000000011, w1=4.255427745112548\n",
      "SubSGD iter. 105/499: loss=2598.6975598417635, w0=63.00000000000011, w1=4.650864537055554\n",
      "SubSGD iter. 106/499: loss=2629.079148405591, w0=62.300000000000104, w1=5.140548070452143\n",
      "SubSGD iter. 107/499: loss=2660.587948879883, w0=63.00000000000011, w1=5.418675039253831\n",
      "SubSGD iter. 108/499: loss=2561.7933709208464, w0=63.70000000000011, w1=6.035061988091081\n",
      "SubSGD iter. 109/499: loss=2434.782039900904, w0=64.4000000000001, w1=5.604730399630345\n",
      "SubSGD iter. 110/499: loss=2405.11737166499, w0=63.7000000000001, w1=5.949907487355343\n",
      "SubSGD iter. 111/499: loss=2442.2558322181258, w0=64.4000000000001, w1=5.583986756624946\n",
      "SubSGD iter. 112/499: loss=2407.0919666835725, w0=65.10000000000011, w1=5.590414637503293\n",
      "SubSGD iter. 113/499: loss=2344.4286214199874, w0=64.4000000000001, w1=6.293919555894155\n",
      "SubSGD iter. 114/499: loss=2342.151596235278, w0=65.10000000000011, w1=5.898482763951149\n",
      "SubSGD iter. 115/499: loss=2313.994430736737, w0=65.80000000000011, w1=6.982358160642451\n",
      "SubSGD iter. 116/499: loss=2149.8891930442323, w0=66.50000000000011, w1=7.178878243420954\n",
      "SubSGD iter. 117/499: loss=2073.335080518775, w0=67.20000000000012, w1=7.522590864604345\n",
      "SubSGD iter. 118/499: loss=1985.0449048739122, w0=67.90000000000012, w1=7.281610949937696\n",
      "SubSGD iter. 119/499: loss=1961.8720534605004, w0=68.60000000000012, w1=7.5463960591284645\n",
      "SubSGD iter. 120/499: loss=1892.368365548881, w0=69.30000000000013, w1=7.678719585482304\n",
      "SubSGD iter. 121/499: loss=1840.2951879753286, w0=70.00000000000013, w1=7.68514746636065\n",
      "SubSGD iter. 122/499: loss=1805.117225492519, w0=70.70000000000013, w1=7.289171223138818\n",
      "SubSGD iter. 123/499: loss=1822.0324104376034, w0=70.00000000000013, w1=8.12919879459863\n",
      "SubSGD iter. 124/499: loss=1756.0830161487893, w0=70.70000000000013, w1=7.747072810048294\n",
      "SubSGD iter. 125/499: loss=1768.8029430995045, w0=70.00000000000013, w1=8.368124383618888\n",
      "SubSGD iter. 126/499: loss=1729.7729764286528, w0=70.70000000000013, w1=8.405411695236758\n",
      "SubSGD iter. 127/499: loss=1695.1249998431113, w0=71.40000000000013, w1=9.024545091181425\n",
      "SubSGD iter. 128/499: loss=1598.6458431302415, w0=72.10000000000014, w1=9.076705436711135\n",
      "SubSGD iter. 129/499: loss=1569.1884502922412, w0=72.80000000000014, w1=9.917895604935778\n",
      "SubSGD iter. 130/499: loss=1460.530392335526, w0=73.50000000000014, w1=9.662463723834207\n",
      "SubSGD iter. 131/499: loss=1481.6364908965302, w0=72.80000000000014, w1=10.102658978541179\n",
      "SubSGD iter. 132/499: loss=1441.3727563805708, w0=73.50000000000014, w1=10.139946290159049\n",
      "SubSGD iter. 133/499: loss=1431.0250911568291, w0=74.20000000000014, w1=10.428443554716464\n",
      "SubSGD iter. 134/499: loss=1404.232384820694, w0=73.50000000000014, w1=10.139946290159049\n",
      "SubSGD iter. 135/499: loss=1431.0250911568291, w0=74.20000000000014, w1=10.579870733043231\n",
      "SubSGD iter. 136/499: loss=1388.5304244682534, w0=73.50000000000014, w1=10.7617345766184\n",
      "SubSGD iter. 137/499: loss=1366.6657166427058, w0=72.80000000000014, w1=11.00576140132755\n",
      "SubSGD iter. 138/499: loss=1350.845287773227, w0=73.50000000000014, w1=11.846951569552193\n",
      "SubSGD iter. 139/499: loss=1264.0281324613811, w0=74.20000000000014, w1=13.212321022215804\n",
      "SubSGD iter. 140/499: loss=1165.9154383049308, w0=74.90000000000015, w1=13.844595450697494\n",
      "SubSGD iter. 141/499: loss=1167.7946375778426, w0=74.20000000000014, w1=14.353096568437326\n",
      "SubSGD iter. 142/499: loss=1120.3309369331455, w0=73.50000000000014, w1=14.473601119916369\n",
      "SubSGD iter. 143/499: loss=1098.230724091901, w0=72.80000000000014, w1=15.313628691376179\n",
      "SubSGD iter. 144/499: loss=1078.3503076333027, w0=73.50000000000014, w1=14.729316153830288\n",
      "SubSGD iter. 145/499: loss=1093.0398338203936, w0=72.80000000000014, w1=15.009245146266752\n",
      "SubSGD iter. 146/499: loss=1082.7244828720045, w0=73.50000000000014, w1=15.253557869975886\n",
      "SubSGD iter. 147/499: loss=1086.311609153762, w0=72.80000000000014, w1=15.211231313372394\n",
      "SubSGD iter. 148/499: loss=1079.5733775295516, w0=73.50000000000014, w1=15.74093228743451\n",
      "SubSGD iter. 149/499: loss=1083.3487405389435, w0=72.80000000000014, w1=16.097657805790348\n",
      "SubSGD iter. 150/499: loss=1073.3698880937736, w0=72.10000000000014, w1=15.96533427943651\n",
      "SubSGD iter. 151/499: loss=1078.4107507248182, w0=72.80000000000014, w1=16.608263978200306\n",
      "SubSGD iter. 152/499: loss=1079.058525337793, w0=73.50000000000014, w1=13.235120300610628\n",
      "SubSGD iter. 153/499: loss=1153.8471160717477, w0=72.80000000000014, w1=13.10279677425679\n",
      "SubSGD iter. 154/499: loss=1165.8765815647043, w0=73.50000000000014, w1=13.864153724875859\n",
      "SubSGD iter. 155/499: loss=1118.3462696479378, w0=74.20000000000014, w1=14.659323449993206\n",
      "SubSGD iter. 156/499: loss=1113.1851078271864, w0=73.50000000000014, w1=15.495362307266022\n",
      "SubSGD iter. 157/499: loss=1084.2599337863282, w0=74.20000000000014, w1=15.638692897860539\n",
      "SubSGD iter. 158/499: loss=1104.0765337774158, w0=74.90000000000015, w1=15.888291360547717\n",
      "SubSGD iter. 159/499: loss=1137.554677832984, w0=74.20000000000014, w1=16.72831893200753\n",
      "SubSGD iter. 160/499: loss=1118.0472224176615, w0=73.50000000000014, w1=17.255275967776377\n",
      "SubSGD iter. 161/499: loss=1110.1767396660707, w0=72.80000000000014, w1=16.96677870321896\n",
      "SubSGD iter. 162/499: loss=1089.0350751079736, w0=73.50000000000014, w1=17.62992302026201\n",
      "SubSGD iter. 163/499: loss=1124.2630900428776, w0=72.80000000000014, w1=16.617484682395588\n",
      "SubSGD iter. 164/499: loss=1079.261631970116, w0=72.10000000000014, w1=16.897413674832052\n",
      "SubSGD iter. 165/499: loss=1088.6420062654804, w0=72.80000000000014, w1=17.363995800798627\n",
      "SubSGD iter. 166/499: loss=1101.3056506392807, w0=72.10000000000014, w1=17.38929356618747\n",
      "SubSGD iter. 167/499: loss=1104.1203398968003, w0=72.80000000000014, w1=16.205291365793578\n",
      "SubSGD iter. 168/499: loss=1073.7878631866356, w0=73.50000000000014, w1=15.178359168201045\n",
      "SubSGD iter. 169/499: loss=1087.012928458649, w0=74.20000000000014, w1=14.151426970608512\n",
      "SubSGD iter. 170/499: loss=1125.8919084376794, w0=73.50000000000014, w1=13.727885717554496\n",
      "SubSGD iter. 171/499: loss=1124.8550301381192, w0=72.80000000000014, w1=13.971912542263647\n",
      "SubSGD iter. 172/499: loss=1115.4825515485663, w0=72.10000000000014, w1=12.803581741746179\n",
      "SubSGD iter. 173/499: loss=1205.6567939566276, w0=72.80000000000014, w1=12.855742087275889\n",
      "SubSGD iter. 174/499: loss=1184.102096343599, w0=73.50000000000014, w1=13.396699139247032\n",
      "SubSGD iter. 175/499: loss=1143.9406305050409, w0=72.80000000000014, w1=12.228368338729563\n",
      "SubSGD iter. 176/499: loss=1237.137065579399, w0=73.50000000000014, w1=12.338668372190355\n",
      "SubSGD iter. 177/499: loss=1222.491326381928, w0=72.80000000000014, w1=11.734136266336195\n",
      "SubSGD iter. 178/499: loss=1281.8333547065356, w0=72.10000000000014, w1=12.277152727701294\n",
      "SubSGD iter. 179/499: loss=1248.4004874366888, w0=71.40000000000013, w1=12.829124159638972\n",
      "SubSGD iter. 180/499: loss=1234.0372983568182, w0=70.70000000000013, w1=13.073150984348123\n",
      "SubSGD iter. 181/499: loss=1254.0352430836954, w0=71.40000000000013, w1=12.720035232780809\n",
      "SubSGD iter. 182/499: loss=1242.065849202946, w0=70.70000000000013, w1=13.504267960820133\n",
      "SubSGD iter. 183/499: loss=1225.6751004720616, w0=70.00000000000013, w1=14.393099784986626\n",
      "SubSGD iter. 184/499: loss=1224.3572938136695, w0=70.70000000000013, w1=15.006092282170187\n",
      "SubSGD iter. 185/499: loss=1148.7555294393633, w0=70.00000000000013, w1=15.126596833649229\n",
      "SubSGD iter. 186/499: loss=1196.5202864873172, w0=70.70000000000013, w1=14.756328743120433\n",
      "SubSGD iter. 187/499: loss=1158.3898136221321, w0=70.00000000000013, w1=15.436927920776515\n",
      "SubSGD iter. 188/499: loss=1188.034470362813, w0=70.70000000000013, w1=15.864445005993934\n",
      "SubSGD iter. 189/499: loss=1134.274340908332, w0=71.40000000000013, w1=16.242984789350665\n",
      "SubSGD iter. 190/499: loss=1098.1625271518897, w0=70.70000000000013, w1=15.401794621126022\n",
      "SubSGD iter. 191/499: loss=1138.7179328157056, w0=70.00000000000013, w1=15.959918324875062\n",
      "SubSGD iter. 192/499: loss=1182.4575342764979, w0=70.70000000000013, w1=14.605961430841834\n",
      "SubSGD iter. 193/499: loss=1164.5652394876433, w0=71.40000000000013, w1=14.571270571500364\n",
      "SubSGD iter. 194/499: loss=1126.5276532818684, w0=70.70000000000013, w1=15.060954104896952\n",
      "SubSGD iter. 195/499: loss=1146.6523177415208, w0=71.40000000000013, w1=15.40542235176742\n",
      "SubSGD iter. 196/499: loss=1103.1773789713525, w0=72.10000000000014, w1=15.29524823488668\n",
      "SubSGD iter. 197/499: loss=1084.6519519513577, w0=71.40000000000013, w1=16.42118064838785\n",
      "SubSGD iter. 198/499: loss=1099.3701843322458, w0=72.10000000000014, w1=16.632345042954054\n",
      "SubSGD iter. 199/499: loss=1082.9745049002163, w0=72.80000000000014, w1=16.86146673524081\n",
      "SubSGD iter. 200/499: loss=1085.8688271380481, w0=72.10000000000014, w1=17.38842377100966\n",
      "SubSGD iter. 201/499: loss=1104.0878629687663, w0=72.80000000000014, w1=16.53457750058439\n",
      "SubSGD iter. 202/499: loss=1077.435415865962, w0=72.10000000000014, w1=16.478267885539086\n",
      "SubSGD iter. 203/499: loss=1081.164172565021, w0=71.40000000000013, w1=15.272251595768639\n",
      "SubSGD iter. 204/499: loss=1105.6315717454936, w0=70.70000000000013, w1=15.35306590125735\n",
      "SubSGD iter. 205/499: loss=1139.3884710621473, w0=70.00000000000013, w1=15.748502693200356\n",
      "SubSGD iter. 206/499: loss=1182.8738478673336, w0=70.70000000000013, w1=16.2894597451715\n",
      "SubSGD iter. 207/499: loss=1133.476300952708, w0=70.00000000000013, w1=15.954231689868244\n",
      "SubSGD iter. 208/499: loss=1182.448679833856, w0=70.70000000000013, w1=14.927299492275711\n",
      "SubSGD iter. 209/499: loss=1151.7761712841857, w0=70.00000000000013, w1=15.359092070559132\n",
      "SubSGD iter. 210/499: loss=1190.0655442692978, w0=69.30000000000013, w1=15.886049106327981\n",
      "SubSGD iter. 211/499: loss=1250.4913005998687, w0=68.60000000000012, w1=15.33765460257017\n",
      "SubSGD iter. 212/499: loss=1335.632049528683, w0=69.30000000000013, w1=15.956787998514837\n",
      "SubSGD iter. 213/499: loss=1250.3240331161858, w0=70.00000000000013, w1=16.16795239308104\n",
      "SubSGD iter. 214/499: loss=1184.4887086262484, w0=70.70000000000013, w1=15.98379161476272\n",
      "SubSGD iter. 215/499: loss=1133.852544195545, w0=70.00000000000013, w1=15.036879353020291\n",
      "SubSGD iter. 216/499: loss=1199.0972515221194, w0=70.70000000000013, w1=15.202332144952917\n",
      "SubSGD iter. 217/499: loss=1142.2764459114371, w0=70.00000000000013, w1=15.692015678349506\n",
      "SubSGD iter. 218/499: loss=1183.2470227840984, w0=70.70000000000013, w1=14.921192612281319\n",
      "SubSGD iter. 219/499: loss=1152.0102878483672, w0=71.40000000000013, w1=15.525724718135478\n",
      "SubSGD iter. 220/499: loss=1101.271575908985, w0=72.10000000000014, w1=16.049905269587196\n",
      "SubSGD iter. 221/499: loss=1078.3416461545182, w0=72.80000000000014, w1=17.1750352297175\n",
      "SubSGD iter. 222/499: loss=1095.3495697501603, w0=73.50000000000014, w1=17.142606221950142\n",
      "SubSGD iter. 223/499: loss=1106.1219152298072, w0=72.80000000000014, w1=16.195693960207713\n",
      "SubSGD iter. 224/499: loss=1073.7463630383477, w0=73.50000000000014, w1=15.820108121921143\n",
      "SubSGD iter. 225/499: loss=1083.1698477027726, w0=74.20000000000014, w1=15.292919483173916\n",
      "SubSGD iter. 226/499: loss=1105.600924356601, w0=73.50000000000014, w1=14.797293222705084\n",
      "SubSGD iter. 227/499: loss=1091.9032359629173, w0=72.80000000000014, w1=15.041320047414235\n",
      "SubSGD iter. 228/499: loss=1082.1167752221536, w0=72.10000000000014, w1=15.391656980782626\n",
      "SubSGD iter. 229/499: loss=1083.1088702109134, w0=72.80000000000014, w1=15.281482863901886\n",
      "SubSGD iter. 230/499: loss=1078.705174067077, w0=72.10000000000014, w1=14.662349467957219\n",
      "SubSGD iter. 231/499: loss=1101.941979039318, w0=72.80000000000014, w1=14.827802259889845\n",
      "SubSGD iter. 232/499: loss=1086.8648716900423, w0=73.50000000000014, w1=15.024322342668347\n",
      "SubSGD iter. 233/499: loss=1088.5587779571829, w0=74.20000000000014, w1=15.819492067785694\n",
      "SubSGD iter. 234/499: loss=1104.5124786263304, w0=73.50000000000014, w1=15.464464590255869\n",
      "SubSGD iter. 235/499: loss=1084.4779662729725, w0=74.20000000000014, w1=15.578284917070182\n",
      "SubSGD iter. 236/499: loss=1104.2156879764518, w0=74.90000000000015, w1=15.147953328609445\n",
      "SubSGD iter. 237/499: loss=1137.7953484042114, w0=74.20000000000014, w1=15.690969789974544\n",
      "SubSGD iter. 238/499: loss=1103.9561101354557, w0=73.50000000000014, w1=15.811474341453586\n",
      "SubSGD iter. 239/499: loss=1083.1893551886708, w0=74.20000000000014, w1=12.438330663863908\n",
      "SubSGD iter. 240/499: loss=1219.4201831137593, w0=73.50000000000014, w1=12.149833399306493\n",
      "SubSGD iter. 241/499: loss=1238.0805328695822, w0=74.20000000000014, w1=12.263653726120806\n",
      "SubSGD iter. 242/499: loss=1233.2163163908413, w0=73.50000000000014, w1=11.659121620266646\n",
      "SubSGD iter. 243/499: loss=1280.515386830824, w0=74.20000000000014, w1=12.538851750099123\n",
      "SubSGD iter. 244/499: loss=1211.759565540747, w0=73.50000000000014, w1=12.756108754278873\n",
      "SubSGD iter. 245/499: loss=1188.9628404687958, w0=72.80000000000014, w1=13.036037746715337\n",
      "SubSGD iter. 246/499: loss=1170.669878273466, w0=73.50000000000014, w1=12.50884910796811\n",
      "SubSGD iter. 247/499: loss=1208.5019662156853, w0=72.80000000000014, w1=12.940641686251531\n",
      "SubSGD iter. 248/499: loss=1177.6508943409585, w0=73.50000000000014, w1=13.564129808537709\n",
      "SubSGD iter. 249/499: loss=1133.8663792997381, w0=72.80000000000014, w1=12.971811847269532\n",
      "SubSGD iter. 250/499: loss=1175.318796904241, w0=73.50000000000014, w1=12.285117211763396\n",
      "SubSGD iter. 251/499: loss=1226.912224083239, w0=72.80000000000014, w1=11.789490951294564\n",
      "SubSGD iter. 252/499: loss=1276.6262958499974, w0=72.10000000000014, w1=11.994324471169787\n",
      "SubSGD iter. 253/499: loss=1274.123790009036, w0=71.40000000000013, w1=13.348281365203015\n",
      "SubSGD iter. 254/499: loss=1197.5660065188697, w0=70.70000000000013, w1=13.1699292438232\n",
      "SubSGD iter. 255/499: loss=1247.340132500403, w0=71.40000000000013, w1=12.473344492582436\n",
      "SubSGD iter. 256/499: loss=1261.0976471126178, w0=72.10000000000014, w1=12.583644526043228\n",
      "SubSGD iter. 257/499: loss=1222.7093051378797, w0=71.40000000000013, w1=11.62550943514142\n",
      "SubSGD iter. 258/499: loss=1333.2600608632997, w0=70.70000000000013, w1=12.715304458214641\n",
      "SubSGD iter. 259/499: loss=1280.3779046890704, w0=71.40000000000013, w1=12.868198215329222\n",
      "SubSGD iter. 260/499: loss=1231.274922401165, w0=72.10000000000014, w1=9.495054537739545\n",
      "SubSGD iter. 261/499: loss=1522.3383077863232, w0=72.80000000000014, w1=9.239622656637975\n",
      "SubSGD iter. 262/499: loss=1534.0602408113582, w0=72.10000000000014, w1=9.717670859064098\n",
      "SubSGD iter. 263/499: loss=1498.0306609128845, w0=72.80000000000014, w1=10.336804255008765\n",
      "SubSGD iter. 264/499: loss=1417.4059373429877, w0=72.10000000000014, w1=10.330376374130418\n",
      "SubSGD iter. 265/499: loss=1433.4952274517345, w0=72.80000000000014, w1=10.444196700944731\n",
      "SubSGD iter. 266/499: loss=1406.4701056956549, w0=72.10000000000014, w1=10.81011743167513\n",
      "SubSGD iter. 267/499: loss=1386.8311112051838, w0=72.80000000000014, w1=11.060398548137186\n",
      "SubSGD iter. 268/499: loss=1345.5440044131983, w0=73.50000000000014, w1=11.203729138731703\n",
      "SubSGD iter. 269/499: loss=1322.8376054160412, w0=74.20000000000014, w1=10.948297257630133\n",
      "SubSGD iter. 270/499: loss=1351.046377388145, w0=73.50000000000014, w1=11.31421798836053\n",
      "SubSGD iter. 271/499: loss=1312.3578156687827, w0=72.80000000000014, w1=11.659395076085529\n",
      "SubSGD iter. 272/499: loss=1288.8640473558683, w0=73.50000000000014, w1=11.323032118409452\n",
      "SubSGD iter. 273/499: loss=1311.5332079047403, w0=74.20000000000014, w1=11.57263058109663\n",
      "SubSGD iter. 274/499: loss=1291.3710695141096, w0=74.90000000000015, w1=11.768975174613859\n",
      "SubSGD iter. 275/499: loss=1288.2708530381683, w0=74.20000000000014, w1=11.345433921559843\n",
      "SubSGD iter. 276/499: loss=1312.0429803529082, w0=74.90000000000015, w1=12.178771504119421\n",
      "SubSGD iter. 277/499: loss=1253.60425842897, w0=75.60000000000015, w1=8.805627826529744\n",
      "SubSGD iter. 278/499: loss=1610.410214773016, w0=74.90000000000015, w1=9.171548557260142\n",
      "SubSGD iter. 279/499: loss=1550.5259030094921, w0=75.60000000000015, w1=9.701249531322258\n",
      "SubSGD iter. 280/499: loss=1509.975150750949, w0=74.90000000000015, w1=10.738763725135799\n",
      "SubSGD iter. 281/499: loss=1383.2002375862867, w0=74.20000000000014, w1=10.859268276614841\n",
      "SubSGD iter. 282/499: loss=1360.1042662565237, w0=73.50000000000014, w1=10.598556055232978\n",
      "SubSGD iter. 283/499: loss=1383.3341522473902, w0=72.80000000000014, w1=11.223372155043924\n",
      "SubSGD iter. 284/499: loss=1330.0969969365683, w0=73.50000000000014, w1=11.776578071120037\n",
      "SubSGD iter. 285/499: loss=1270.2053463398486, w0=72.80000000000014, w1=12.616605642579847\n",
      "SubSGD iter. 286/499: loss=1203.4078034748875, w0=72.10000000000014, w1=13.458024152305791\n",
      "SubSGD iter. 287/499: loss=1160.2446535733538, w0=71.40000000000013, w1=13.853460944248797\n",
      "SubSGD iter. 288/499: loss=1165.4532187255672, w0=70.70000000000013, w1=13.878758709637639\n",
      "SubSGD iter. 289/499: loss=1201.9525242160585, w0=71.40000000000013, w1=13.854792869834547\n",
      "SubSGD iter. 290/499: loss=1165.372296892088, w0=70.70000000000013, w1=14.690831727107364\n",
      "SubSGD iter. 291/499: loss=1161.067918775063, w0=71.40000000000013, w1=14.69725960798571\n",
      "SubSGD iter. 292/499: loss=1120.8871955723725, w0=72.10000000000014, w1=15.602434711172775\n",
      "SubSGD iter. 293/499: loss=1080.341484155616, w0=72.80000000000014, w1=15.628807361797595\n",
      "SubSGD iter. 294/499: loss=1074.8709655363027, w0=72.10000000000014, w1=15.34031009724018\n",
      "SubSGD iter. 295/499: loss=1083.9307089111965, w0=72.80000000000014, w1=14.909978508779442\n",
      "SubSGD iter. 296/499: loss=1084.9055332245039, w0=72.10000000000014, w1=15.445498191605648\n",
      "SubSGD iter. 297/499: loss=1082.340611820279, w0=72.80000000000014, w1=15.99870410768176\n",
      "SubSGD iter. 298/499: loss=1073.2251751396923, w0=73.50000000000014, w1=15.9662750999144\n",
      "SubSGD iter. 299/499: loss=1082.8395925761004, w0=72.80000000000014, w1=15.677777835356984\n",
      "SubSGD iter. 300/499: loss=1074.3828001618601, w0=72.10000000000014, w1=16.803710248858156\n",
      "SubSGD iter. 301/499: loss=1086.2647052270927, w0=71.40000000000013, w1=17.308727980682477\n",
      "SubSGD iter. 302/499: loss=1117.232387643301, w0=72.10000000000014, w1=18.321166318548897\n",
      "SubSGD iter. 303/499: loss=1149.724840285612, w0=72.80000000000014, w1=17.94558048026233\n",
      "SubSGD iter. 304/499: loss=1124.907518723705, w0=73.50000000000014, w1=18.59172771364955\n",
      "SubSGD iter. 305/499: loss=1169.7754792277026, w0=72.80000000000014, w1=17.533812406821994\n",
      "SubSGD iter. 306/499: loss=1107.3701424919086, w0=72.10000000000014, w1=17.81636022590822\n",
      "SubSGD iter. 307/499: loss=1122.1651432142517, w0=72.80000000000014, w1=16.690427812407048\n",
      "SubSGD iter. 308/499: loss=1081.0420605189538, w0=72.10000000000014, w1=17.530455383866858\n",
      "SubSGD iter. 309/499: loss=1109.5312450338185, w0=71.40000000000013, w1=16.769098433247787\n",
      "SubSGD iter. 310/499: loss=1103.002213241975, w0=72.10000000000014, w1=15.969267699185078\n",
      "SubSGD iter. 311/499: loss=1078.3920207874112, w0=71.40000000000013, w1=15.312084995990093\n",
      "SubSGD iter. 312/499: loss=1104.8036376710752, w0=72.10000000000014, w1=16.49288969668999\n",
      "SubSGD iter. 313/499: loss=1081.3191224823702, w0=72.80000000000014, w1=17.326227279249565\n",
      "SubSGD iter. 314/499: loss=1100.1151781077801, w0=72.10000000000014, w1=17.193903752895725\n",
      "SubSGD iter. 315/499: loss=1097.0897800461044, w0=72.80000000000014, w1=17.443502215582903\n",
      "SubSGD iter. 316/499: loss=1104.0797129488803, w0=72.10000000000014, w1=17.85457740012513\n",
      "SubSGD iter. 317/499: loss=1124.014263941279, w0=71.40000000000013, w1=18.250014192068136\n",
      "SubSGD iter. 318/499: loss=1165.0365267330528, w0=70.70000000000013, w1=17.96151692751072\n",
      "SubSGD iter. 319/499: loss=1182.0613770229286, w0=70.00000000000013, w1=16.868892413184923\n",
      "SubSGD iter. 320/499: loss=1196.7979493006517, w0=70.70000000000013, w1=15.967260148772166\n",
      "SubSGD iter. 321/499: loss=1133.8964545857882, w0=71.40000000000013, w1=14.755837260845986\n",
      "SubSGD iter. 322/499: loss=1118.3960893440837, w0=72.10000000000014, w1=13.956006526783277\n",
      "SubSGD iter. 323/499: loss=1131.685128720805, w0=71.40000000000013, w1=13.757245660964752\n",
      "SubSGD iter. 324/499: loss=1171.2988284318349, w0=72.10000000000014, w1=13.922698452897379\n",
      "SubSGD iter. 325/499: loss=1133.426150718649, w0=71.40000000000013, w1=14.730812193939311\n",
      "SubSGD iter. 326/499: loss=1119.4442058550803, w0=72.10000000000014, w1=14.844632520753624\n",
      "SubSGD iter. 327/499: loss=1096.3380061144283, w0=71.40000000000013, w1=15.194969454122015\n",
      "SubSGD iter. 328/499: loss=1107.2724354019817, w0=70.70000000000013, w1=14.026638653604547\n",
      "SubSGD iter. 329/499: loss=1193.2086002725152, w0=71.40000000000013, w1=14.002672813801455\n",
      "SubSGD iter. 330/499: loss=1156.6617098780423, w0=72.10000000000014, w1=13.478039889089716\n",
      "SubSGD iter. 331/499: loss=1158.9435373588117, w0=72.80000000000014, w1=14.535955195917275\n",
      "SubSGD iter. 332/499: loss=1094.6099816527367, w0=73.50000000000014, w1=13.796622396473332\n",
      "SubSGD iter. 333/499: loss=1121.4615591427423, w0=72.80000000000014, w1=12.590606106702884\n",
      "SubSGD iter. 334/499: loss=1205.6380276041891, w0=73.50000000000014, w1=12.407140327652465\n",
      "SubSGD iter. 335/499: loss=1216.8386475586638, w0=74.20000000000014, w1=12.223674548602046\n",
      "SubSGD iter. 336/499: loss=1236.3739058727915, w0=73.50000000000014, w1=11.962962327220183\n",
      "SubSGD iter. 337/499: loss=1253.8449913886216, w0=74.20000000000014, w1=12.577623308350569\n",
      "SubSGD iter. 338/499: loss=1208.8297031037027, w0=74.90000000000015, w1=13.026282347135279\n",
      "SubSGD iter. 339/499: loss=1200.4088234776486, w0=74.20000000000014, w1=12.847930225755464\n",
      "SubSGD iter. 340/499: loss=1189.5310832798373, w0=74.90000000000015, w1=11.994083955330195\n",
      "SubSGD iter. 341/499: loss=1268.4593182750002, w0=75.60000000000015, w1=12.518264506781913\n",
      "SubSGD iter. 342/499: loss=1262.5488759791438, w0=76.30000000000015, w1=13.150538935263603\n",
      "SubSGD iter. 343/499: loss=1284.4737938712124, w0=75.60000000000015, w1=14.094045418800723\n",
      "SubSGD iter. 344/499: loss=1202.3694614519209, w0=76.30000000000015, w1=13.69806917557889\n",
      "SubSGD iter. 345/499: loss=1264.5905311317547, w0=75.60000000000015, w1=13.170013360068241\n",
      "SubSGD iter. 346/499: loss=1232.8047136020277, w0=74.90000000000015, w1=13.978127101110173\n",
      "SubSGD iter. 347/499: loss=1163.9019334664076, w0=75.60000000000015, w1=12.940612907296632\n",
      "SubSGD iter. 348/499: loss=1242.4329783307319, w0=74.90000000000015, w1=13.740443641359342\n",
      "SubSGD iter. 349/499: loss=1171.1136537074924, w0=74.20000000000014, w1=13.754198837334831\n",
      "SubSGD iter. 350/499: loss=1139.9138209403172, w0=73.50000000000014, w1=13.90465551378596\n",
      "SubSGD iter. 351/499: loss=1116.5896717007554, w0=72.80000000000014, w1=13.639870404595191\n",
      "SubSGD iter. 352/499: loss=1131.809574151657, w0=72.10000000000014, w1=13.304642349291937\n",
      "SubSGD iter. 353/499: loss=1170.6481076565965, w0=72.80000000000014, w1=14.543958650269937\n",
      "SubSGD iter. 354/499: loss=1094.3792904090571, w0=72.10000000000014, w1=14.815438832252516\n",
      "SubSGD iter. 355/499: loss=1097.2314126778278, w0=71.40000000000013, w1=14.80901095137417\n",
      "SubSGD iter. 356/499: loss=1116.449291071886, w0=70.70000000000013, w1=15.00976048842342\n",
      "SubSGD iter. 357/499: loss=1148.6149031546638, w0=70.00000000000013, w1=15.849788059883231\n",
      "SubSGD iter. 358/499: loss=1182.494516090853, w0=69.30000000000013, w1=14.487036664491484\n",
      "SubSGD iter. 359/499: loss=1282.3212612672578, w0=68.60000000000012, w1=15.109823071311776\n",
      "SubSGD iter. 360/499: loss=1339.5283578212761, w0=69.30000000000013, w1=15.988995383542584\n",
      "SubSGD iter. 361/499: loss=1250.2478763079143, w0=70.00000000000013, w1=15.632269865186746\n",
      "SubSGD iter. 362/499: loss=1183.857731394916, w0=70.70000000000013, w1=16.47346003341139\n",
      "SubSGD iter. 363/499: loss=1134.2610492639242, w0=70.00000000000013, w1=17.09624644023168\n",
      "SubSGD iter. 364/499: loss=1201.4339571863234, w0=70.70000000000013, w1=16.912085661913363\n",
      "SubSGD iter. 365/499: loss=1142.7041281342124, w0=71.40000000000013, w1=16.879656654146004\n",
      "SubSGD iter. 366/499: loss=1104.7021403279086, w0=70.70000000000013, w1=17.36934018754259\n",
      "SubSGD iter. 367/499: loss=1156.887030685415, w0=71.40000000000013, w1=16.55068181773696\n",
      "SubSGD iter. 368/499: loss=1100.5218387808395, w0=70.70000000000013, w1=16.833229636823187\n",
      "SubSGD iter. 369/499: loss=1140.747251465499, w0=71.40000000000013, w1=15.621806748897008\n",
      "SubSGD iter. 370/499: loss=1100.194462982656, w0=72.10000000000014, w1=14.943459752922465\n",
      "SubSGD iter. 371/499: loss=1093.595804596072, w0=72.80000000000014, w1=16.061769973533945\n",
      "SubSGD iter. 372/499: loss=1073.3048528885247, w0=72.10000000000014, w1=15.566143713065113\n",
      "SubSGD iter. 373/499: loss=1080.7065292732052, w0=72.80000000000014, w1=14.962377643098598\n",
      "SubSGD iter. 374/499: loss=1083.6576162006743, w0=73.50000000000014, w1=15.975055984451366\n",
      "SubSGD iter. 375/499: loss=1082.8197527177763, w0=72.80000000000014, w1=17.100988397952538\n",
      "SubSGD iter. 376/499: loss=1093.0701452111427, w0=73.50000000000014, w1=16.91752261890212\n",
      "SubSGD iter. 377/499: loss=1098.5522944778081, w0=72.80000000000014, w1=15.799212398290637\n",
      "SubSGD iter. 378/499: loss=1073.337226955844, w0=72.10000000000014, w1=16.42026397186123\n",
      "SubSGD iter. 379/499: loss=1080.5730097230444, w0=72.80000000000014, w1=17.066411205248453\n",
      "SubSGD iter. 380/499: loss=1092.0305675799684, w0=72.10000000000014, w1=16.837289512961696\n",
      "SubSGD iter. 381/499: loss=1087.1166273269728, w0=72.80000000000014, w1=16.980620103556213\n",
      "SubSGD iter. 382/499: loss=1089.4512225464857, w0=73.50000000000014, w1=17.63267700099867\n",
      "SubSGD iter. 383/499: loss=1124.3741077815748, w0=72.80000000000014, w1=18.110725203424792\n",
      "SubSGD iter. 384/499: loss=1132.9955268054484, w0=73.50000000000014, w1=17.740457112895996\n",
      "SubSGD iter. 385/499: loss=1128.718910975041, w0=74.20000000000014, w1=17.38734136132868\n",
      "SubSGD iter. 386/499: loss=1137.8024296303902, w0=73.50000000000014, w1=16.30346596463738\n",
      "SubSGD iter. 387/499: loss=1085.1515381539512, w0=72.80000000000014, w1=16.660191482993216\n",
      "SubSGD iter. 388/499: loss=1080.2088484960577, w0=72.10000000000014, w1=16.549891449532424\n",
      "SubSGD iter. 389/499: loss=1081.9231801329943, w0=72.80000000000014, w1=16.576264100157246\n",
      "SubSGD iter. 390/499: loss=1078.3536564550673, w0=72.10000000000014, w1=16.127605061372535\n",
      "SubSGD iter. 391/499: loss=1078.492312598579, w0=72.80000000000014, w1=16.324125144151036\n",
      "SubSGD iter. 392/499: loss=1074.3018412859315, w0=72.10000000000014, w1=16.813808677547623\n",
      "SubSGD iter. 393/499: loss=1086.520907225686, w0=72.80000000000014, w1=17.826247015414044\n",
      "SubSGD iter. 394/499: loss=1119.3602125309462, w0=72.10000000000014, w1=17.221714909559886\n",
      "SubSGD iter. 395/499: loss=1097.991365150409, w0=72.80000000000014, w1=17.661639352444066\n",
      "SubSGD iter. 396/499: loss=1112.2314508125012, w0=72.10000000000014, w1=18.342238530100147\n",
      "SubSGD iter. 397/499: loss=1150.9814668459824, w0=72.80000000000014, w1=17.638733611709284\n",
      "SubSGD iter. 398/499: loss=1111.3274125259936, w0=73.50000000000014, w1=17.908872061998956\n",
      "SubSGD iter. 399/499: loss=1135.7648086422707, w0=74.20000000000014, w1=18.53236018428513\n",
      "SubSGD iter. 400/499: loss=1192.8314846672838, w0=73.50000000000014, w1=18.40003665793129\n",
      "SubSGD iter. 401/499: loss=1158.9427058179042, w0=74.20000000000014, w1=18.59638125144852\n",
      "SubSGD iter. 402/499: loss=1196.5247615094988, w0=73.50000000000014, w1=18.00406329018034\n",
      "SubSGD iter. 403/499: loss=1139.8465056759405, w0=72.80000000000014, w1=17.80162640013934\n",
      "SubSGD iter. 404/499: loss=1118.2157046449436, w0=73.50000000000014, w1=17.258609938774242\n",
      "SubSGD iter. 405/499: loss=1110.296724556183, w0=74.20000000000014, w1=16.047187050848063\n",
      "SubSGD iter. 406/499: loss=1106.6615216188043, w0=73.50000000000014, w1=15.868834929468248\n",
      "SubSGD iter. 407/499: loss=1083.059752534769, w0=72.80000000000014, w1=15.826508372864756\n",
      "SubSGD iter. 408/499: loss=1073.204759632728, w0=72.10000000000014, w1=16.010669151183077\n",
      "SubSGD iter. 409/499: loss=1078.2800883752525, w0=72.80000000000014, w1=16.51985499512933\n",
      "SubSGD iter. 410/499: loss=1077.1111197559248, w0=73.50000000000014, w1=15.833160359623193\n",
      "SubSGD iter. 411/499: loss=1083.1403569896522, w0=74.20000000000014, w1=15.870447671241063\n",
      "SubSGD iter. 412/499: loss=1104.980904961807, w0=73.50000000000014, w1=16.40596735406727\n",
      "SubSGD iter. 413/499: loss=1086.8540441653163, w0=72.80000000000014, w1=15.896781510121016\n",
      "SubSGD iter. 414/499: loss=1073.1947259204921, w0=72.10000000000014, w1=16.98657653319424\n",
      "SubSGD iter. 415/499: loss=1090.9645790797667, w0=72.80000000000014, w1=16.58711876080766\n",
      "SubSGD iter. 416/499: loss=1078.5927546327143, w0=72.10000000000014, w1=17.026807165892844\n",
      "SubSGD iter. 417/499: loss=1092.0461359047026, w0=71.40000000000013, w1=16.82804630007432\n",
      "SubSGD iter. 418/499: loss=1103.8575194659054, w0=72.10000000000014, w1=17.356102115584967\n",
      "SubSGD iter. 419/499: loss=1102.8810178356312, w0=71.40000000000013, w1=16.82640114152285\n",
      "SubSGD iter. 420/499: loss=1103.8317910900157, w0=72.10000000000014, w1=16.80243530171976\n",
      "SubSGD iter. 421/499: loss=1086.2323592042603, w0=72.80000000000014, w1=16.40645905849793\n",
      "SubSGD iter. 422/499: loss=1074.96002310114, w0=72.10000000000014, w1=16.431756823886772\n",
      "SubSGD iter. 423/499: loss=1080.6826431178197, w0=72.80000000000014, w1=17.22692654900412\n",
      "SubSGD iter. 424/499: loss=1096.9851961316108, w0=73.50000000000014, w1=17.677106295210415\n",
      "SubSGD iter. 425/499: loss=1126.165129668419, w0=74.20000000000014, w1=18.395269619241603\n",
      "SubSGD iter. 426/499: loss=1185.1152005142947, w0=73.50000000000014, w1=18.01672983588487\n",
      "SubSGD iter. 427/499: loss=1140.4040982731804, w0=72.80000000000014, w1=18.1366216493732\n",
      "SubSGD iter. 428/499: loss=1134.3440054582384, w0=73.50000000000014, w1=17.449927013867065\n",
      "SubSGD iter. 429/499: loss=1117.2966386493097, w0=74.20000000000014, w1=17.074341175580496\n",
      "SubSGD iter. 430/499: loss=1126.7293383508122, w0=74.90000000000015, w1=16.520234101583917\n",
      "SubSGD iter. 431/499: loss=1147.8756923939072, w0=74.20000000000014, w1=17.35627295885673\n",
      "SubSGD iter. 432/499: loss=1136.520228649012, w0=74.90000000000015, w1=17.10084107775516\n",
      "SubSGD iter. 433/499: loss=1163.5328050439198, w0=75.60000000000015, w1=17.297185671272388\n",
      "SubSGD iter. 434/499: loss=1222.766990799793, w0=74.90000000000015, w1=17.736874076357573\n",
      "SubSGD iter. 435/499: loss=1187.7692446154642, w0=74.20000000000014, w1=16.941704351240226\n",
      "SubSGD iter. 436/499: loss=1122.8688604932513, w0=73.50000000000014, w1=16.5866768737104\n",
      "SubSGD iter. 437/499: loss=1090.799207194739, w0=72.80000000000014, w1=16.251448818407145\n",
      "SubSGD iter. 438/499: loss=1073.9874526601575, w0=73.50000000000014, w1=16.39477940900166\n",
      "SubSGD iter. 439/499: loss=1086.630234828953, w0=72.80000000000014, w1=16.89979714082598\n",
      "SubSGD iter. 440/499: loss=1087.0212466702296, w0=72.10000000000014, w1=17.469757265361967\n",
      "SubSGD iter. 441/499: loss=1107.1247412019582, w0=71.40000000000013, w1=17.270996399543442\n",
      "SubSGD iter. 442/499: loss=1115.7033305982477, w0=72.10000000000014, w1=16.667230329576928\n",
      "SubSGD iter. 443/499: loss=1083.4595043494382, w0=71.40000000000013, w1=17.556062153743422\n",
      "SubSGD iter. 444/499: loss=1127.9234984885538, w0=70.70000000000013, w1=18.064563271483255\n",
      "SubSGD iter. 445/499: loss=1187.4236701796417, w0=71.40000000000013, w1=17.53737463273603\n",
      "SubSGD iter. 446/499: loss=1127.0080077882521, w0=70.70000000000013, w1=17.822549127285324\n",
      "SubSGD iter. 447/499: loss=1175.482216629743, w0=70.00000000000013, w1=18.004412970860493\n",
      "SubSGD iter. 448/499: loss=1233.0998885621552, w0=69.30000000000013, w1=17.09923786767343\n",
      "SubSGD iter. 449/499: loss=1264.3541457970714, w0=70.00000000000013, w1=16.25921029621362\n",
      "SubSGD iter. 450/499: loss=1185.8202391347563, w0=70.70000000000013, w1=16.787266111724268\n",
      "SubSGD iter. 451/499: loss=1139.6920190664146, w0=71.40000000000013, w1=15.968607741918639\n",
      "SubSGD iter. 452/499: loss=1098.039637788267, w0=70.70000000000013, w1=16.119064418369767\n",
      "SubSGD iter. 453/499: loss=1133.4932365818659, w0=71.40000000000013, w1=16.751338846851457\n",
      "SubSGD iter. 454/499: loss=1102.7683894917882, w0=70.70000000000013, w1=17.162414031393684\n",
      "SubSGD iter. 455/499: loss=1150.105857145393, w0=71.40000000000013, w1=17.776328444771266\n",
      "SubSGD iter. 456/499: loss=1138.949874185539, w0=72.10000000000014, w1=18.399816567057442\n",
      "SubSGD iter. 457/499: loss=1154.4696278198726, w0=71.40000000000013, w1=18.957940270806482\n",
      "SubSGD iter. 458/499: loss=1208.8102672680532, w0=72.10000000000014, w1=17.746517382880302\n",
      "SubSGD iter. 459/499: loss=1118.8441123192465, w0=72.80000000000014, w1=16.535094494954123\n",
      "SubSGD iter. 460/499: loss=1077.4468038232312, w0=72.10000000000014, w1=15.915961099009456\n",
      "SubSGD iter. 461/499: loss=1078.6458531644435, w0=72.80000000000014, w1=17.041091059139763\n",
      "SubSGD iter. 462/499: loss=1091.2693068918052, w0=73.50000000000014, w1=17.23743565265699\n",
      "SubSGD iter. 463/499: loss=1109.534692014625, w0=72.80000000000014, w1=16.404098070097415\n",
      "SubSGD iter. 464/499: loss=1074.9329171884115, w0=73.50000000000014, w1=17.050245303484637\n",
      "SubSGD iter. 465/499: loss=1102.9093962055306, w0=74.20000000000014, w1=16.371898307510094\n",
      "SubSGD iter. 466/499: loss=1111.0527188811338, w0=73.50000000000014, w1=15.714715604315108\n",
      "SubSGD iter. 467/499: loss=1083.4079754914849, w0=72.80000000000014, w1=16.15440400940029\n",
      "SubSGD iter. 468/499: loss=1073.567821132831, w0=73.50000000000014, w1=15.778818171113722\n",
      "SubSGD iter. 469/499: loss=1083.263139759032, w0=74.20000000000014, w1=16.411092599595413\n",
      "SubSGD iter. 470/499: loss=1111.7073314344295, w0=73.50000000000014, w1=17.1452069225964\n",
      "SubSGD iter. 471/499: loss=1106.215510759419, w0=72.80000000000014, w1=17.69717835453408\n",
      "SubSGD iter. 472/499: loss=1113.6972131697532, w0=73.50000000000014, w1=17.893698437312583\n",
      "SubSGD iter. 473/499: loss=1135.12512096231, w0=74.20000000000014, w1=18.525972865794273\n",
      "SubSGD iter. 474/499: loss=1192.4630100930328, w0=74.90000000000015, w1=18.342507086743854\n",
      "SubSGD iter. 475/499: loss=1222.94302979297, w0=75.60000000000015, w1=17.64592233550309\n",
      "SubSGD iter. 476/499: loss=1238.0464234821607, w0=74.90000000000015, w1=17.13673649155684\n",
      "SubSGD iter. 477/499: loss=1164.6937372330328, w0=74.20000000000014, w1=18.26266890505801\n",
      "SubSGD iter. 478/499: loss=1178.1991964108754, w0=74.90000000000015, w1=17.67835636751212\n",
      "SubSGD iter. 479/499: loss=1184.9779336253996, w0=74.20000000000014, w1=17.072953216068136\n",
      "SubSGD iter. 480/499: loss=1126.6834293853944, w0=74.90000000000015, w1=16.333620416624193\n",
      "SubSGD iter. 481/499: loss=1144.2117806124352, w0=74.20000000000014, w1=16.357586256427282\n",
      "SubSGD iter. 482/499: loss=1110.8406029429466, w0=73.50000000000014, w1=16.478090807906323\n",
      "SubSGD iter. 483/499: loss=1088.383691384342, w0=72.80000000000014, w1=16.903876955197063\n",
      "SubSGD iter. 484/499: loss=1087.1439079804122, w0=72.10000000000014, w1=17.335669533480484\n",
      "SubSGD iter. 485/499: loss=1102.1180939709288, w0=72.80000000000014, w1=17.952056482317733\n",
      "SubSGD iter. 486/499: loss=1125.2085605676832, w0=72.10000000000014, w1=18.47901351808658\n",
      "SubSGD iter. 487/499: loss=1159.3117207216262, w0=71.40000000000013, w1=18.62947019453771\n",
      "SubSGD iter. 488/499: loss=1187.9539852861249, w0=72.10000000000014, w1=18.102281555790483\n",
      "SubSGD iter. 489/499: loss=1137.1683670904408, w0=71.40000000000013, w1=16.562219217403296\n",
      "SubSGD iter. 490/499: loss=1100.6386842411048, w0=70.70000000000013, w1=15.931053877408443\n",
      "SubSGD iter. 491/499: loss=1133.992624611226, w0=71.40000000000013, w1=15.2527068814339\n",
      "SubSGD iter. 492/499: loss=1106.0465474532703, w0=70.70000000000013, w1=15.877522981244846\n",
      "SubSGD iter. 493/499: loss=1134.199120015018, w0=71.40000000000013, w1=15.44719139278411\n",
      "SubSGD iter. 494/499: loss=1102.4980789555543, w0=72.10000000000014, w1=14.790310425031146\n",
      "SubSGD iter. 495/499: loss=1098.0046148549986, w0=72.80000000000014, w1=15.915440385161453\n",
      "SubSGD iter. 496/499: loss=1073.2003002307017, w0=72.10000000000014, w1=15.181164641669653\n",
      "SubSGD iter. 497/499: loss=1087.0926577856826, w0=71.40000000000013, w1=16.307097055170825\n",
      "SubSGD iter. 498/499: loss=1098.5224027055447, w0=72.10000000000014, w1=16.685636838527557\n",
      "SubSGD iter. 499/499: loss=1083.7449179589498, w0=71.40000000000013, w1=16.507284717147744\n",
      "SubSGD: execution time=0.111 seconds\n"
     ]
    }
   ],
   "source": [
    "# Define the parameters of the algorithm.\n",
    "max_iters = 500\n",
    "gamma = 0.7\n",
    "batch_size = 1\n",
    "\n",
    "# Initialization\n",
    "w_initial = np.array([0, 0])\n",
    "\n",
    "# Start SubSGD.\n",
    "start_time = datetime.datetime.now()\n",
    "subsgd_losses, subsgd_ws = stochastic_subgradient_descent(\n",
    "    y, tx, w_initial, batch_size, max_iters, gamma)\n",
    "end_time = datetime.datetime.now()\n",
    "\n",
    "# Print result\n",
    "exection_time = (end_time - start_time).total_seconds()\n",
    "print(\"SubSGD: execution time={t:.3f} seconds\".format(t=exection_time))"
   ]
  },
  {
   "cell_type": "code",
   "execution_count": 27,
   "metadata": {},
   "outputs": [
    {
     "data": {
      "application/vnd.jupyter.widget-view+json": {
       "model_id": "39ccaa5eb5df4732b183147a7c1e8843",
       "version_major": 2,
       "version_minor": 0
      },
      "text/plain": [
       "interactive(children=(IntSlider(value=1, description='n_iter', max=501, min=1), Output()), _dom_classes=('widg…"
      ]
     },
     "metadata": {},
     "output_type": "display_data"
    },
    {
     "data": {
      "text/plain": [
       "<function __main__.plot_figure(n_iter)>"
      ]
     },
     "execution_count": 27,
     "metadata": {},
     "output_type": "execute_result"
    }
   ],
   "source": [
    "from ipywidgets import IntSlider, interact\n",
    "def plot_figure(n_iter):\n",
    "    fig = gradient_descent_visualization(\n",
    "        subsgd_losses, subsgd_ws, grid_losses, grid_w0, grid_w1, mean_x, std_x, height, weight, n_iter)\n",
    "    fig.set_size_inches(10.0, 6.0)\n",
    "\n",
    "interact(plot_figure, n_iter=IntSlider(min=1, max=len(subsgd_ws)))"
   ]
  },
  {
   "cell_type": "code",
   "execution_count": null,
   "metadata": {},
   "outputs": [],
   "source": []
  }
 ],
 "metadata": {
  "anaconda-cloud": {},
  "kernelspec": {
   "display_name": "Python 3 (ipykernel)",
   "language": "python",
   "name": "python3"
  },
  "language_info": {
   "codemirror_mode": {
    "name": "ipython",
    "version": 3
   },
   "file_extension": ".py",
   "mimetype": "text/x-python",
   "name": "python",
   "nbconvert_exporter": "python",
   "pygments_lexer": "ipython3",
   "version": "3.9.7"
  },
  "widgets": {
   "state": {
    "d2b2c3aea192430e81437f33ba0b0e69": {
     "views": [
      {
       "cell_index": 22
      }
     ]
    },
    "e4a6a7a70ccd42ddb112989c04f2ed3f": {
     "views": [
      {
       "cell_index": 18
      }
     ]
    }
   },
   "version": "1.2.0"
  }
 },
 "nbformat": 4,
 "nbformat_minor": 1
}
